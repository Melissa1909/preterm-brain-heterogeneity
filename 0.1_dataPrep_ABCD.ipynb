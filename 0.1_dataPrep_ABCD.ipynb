{
 "cells": [
  {
   "cell_type": "markdown",
   "metadata": {},
   "source": [
    "# Child brain measure estimation from ABCD data\n",
    "As ABCD is under data protection, no data is included in this repository. The code is provided as a reference for the analysis of the ABCD data. To reproduce the analyses, you need to apply for access to the ABCD dataset, download the dataset for [release 4.0](https://nda.nih.gov/general-query.html?q=query=featured-datasets:Adolescent%20Brain%20Cognitive%20Development%20Study%20(ABCD)) and adjust the file path of `abcd_data_dir` in the code below.\n",
    "\n",
    "This notebook relies heavily on the work by [Leon D. Lotter](https://github.com/LeonDLotter/CTdev/blob/main/0.3_getData_ABCD.ipynb). \n"
   ]
  },
  {
   "cell_type": "markdown",
   "metadata": {},
   "source": [
    "## Setup and installations\n",
    "This notebook requires to have R installed on your computer. You can download R from [here](https://cran.r-project.org/) as described in the installation instructions.\n",
    "Sometimes, the installation causes some problems, e.g., because R is not found by the Jupyter notebook. In this case, you can try to manually set the path to your R installation in the notebook and installing the required packages manually by uncommenting the code below."
   ]
  },
  {
   "cell_type": "code",
   "execution_count": 28,
   "metadata": {},
   "outputs": [],
   "source": [
    "# Uncomment for bug fixing R installation: manually set path to your R installation\n",
    "# import os\n",
    "# os.environ['R_HOME'] = '/Library/Frameworks/R.framework/R'  # change to directory of your R installation"
   ]
  },
  {
   "cell_type": "code",
   "execution_count": 29,
   "metadata": {},
   "outputs": [
    {
     "name": "stdout",
     "output_type": "stream",
     "text": [
      "The autoreload extension is already loaded. To reload it, use:\n",
      "  %reload_ext autoreload\n",
      "The rpy2.ipython extension is already loaded. To reload it, use:\n",
      "  %reload_ext rpy2.ipython\n"
     ]
    }
   ],
   "source": [
    "%load_ext autoreload\n",
    "%autoreload 2\n",
    "# Use rpy2 to run R in python notebook for running longCombat\n",
    "%load_ext rpy2.ipython"
   ]
  },
  {
   "cell_type": "code",
   "execution_count": 30,
   "metadata": {},
   "outputs": [],
   "source": [
    "# Uncomment for bug fixing: manually install required R packages\n",
    "# %%R \n",
    "# install.packages(c(\"ggplot2\", \"gamlss\", \"tidyverse\", \"devtools\", \"invgamma\"))\n",
    "# devtools::install_github(\"jcbeer/longCombat\")"
   ]
  },
  {
   "cell_type": "markdown",
   "metadata": {},
   "source": [
    "# Data preparation\n",
    "This whole notebook should be run for cortical thickness (CT) or surface area (SA). Both measures were used in the original publication. Adjust the variable `brain_measure` to `CT` or `SA` accordingly. "
   ]
  },
  {
   "cell_type": "code",
   "execution_count": 31,
   "metadata": {},
   "outputs": [],
   "source": [
    "import os\n",
    "from os.path import join\n",
    "import pandas as pd\n",
    "import numpy as np\n",
    "from scipy.stats import iqr\n",
    "\n",
    "from functools import reduce\n",
    "from abagen import fetch_desikan_killiany\n",
    "\n",
    "# import custom functions\n",
    "import sys\n",
    "sys.path.append('code')\n",
    "from utils import reorder_vars, na\n",
    "\n",
    "\n",
    "abcd_data_dir = 'data/ABCD'  # adapt to your folder structure\n",
    "abcd_out = join(abcd_data_dir, 'derivatives')  # where the prepared data will be stored\n",
    "os.makedirs(abcd_out, exist_ok=True)\n",
    "\n",
    "\n",
    "# adjust brain measurement for which the code should be run\n",
    "brain_measure = 'CT'  # CT or SA"
   ]
  },
  {
   "cell_type": "markdown",
   "metadata": {},
   "source": [
    "# Load MRI related data\n",
    "- `abcd_smrip10201`: contains sMRI Desikan-Killiany-based CT and SA measures\n",
    "- `abcd_fsurfqc01`: FreeSurfer quality control\n",
    "- `abcd_imgincl01`: ABCD recommended imaging inclusion; 1 or 0\n",
    "- `abcd_auto_postqc01`: automated post-processing QC measures\n",
    "- `abcd_lt01`: determines in-person, remote, and Hybrid for Overall Visit Type\n",
    "- prematurity-related items following [this paper](doi:10.1001/jamapsychiatry.2020.2902):\n",
    "    - `devhx_ss_12_p` from file `abcd_devhxxs01.txt`: \"how many weeks premature was your baby born?\", subtract this variable from 40 to get gestational age\n",
    "- `abcd_tbss01`: NIH Toolbox Cognition Battery composite scores (following [this paper](https://doi.org/10.1093/cercor/bhab403))\n"
   ]
  },
  {
   "cell_type": "code",
   "execution_count": 32,
   "metadata": {},
   "outputs": [
    {
     "name": "stdout",
     "output_type": "stream",
     "text": [
      "Using brain measure: Cortical Thickness\n",
      "Number of IDPs: 68\n"
     ]
    }
   ],
   "source": [
    "# get ROI names of DK regions\n",
    "mri_data = pd.read_csv(os.path.join(abcd_data_dir, 'r4.0', 'abcd_smrip10201.txt'), sep='\\t', skiprows=[1])\n",
    "\n",
    "# extract brain measure in DK atlas\n",
    "if brain_measure == 'CT':\n",
    "    print(\"Using brain measure: Cortical Thickness\")\n",
    "    mri_data.drop(columns=['smri_thick_cdk_mean', 'smri_thick_cdk_meanlh', 'smri_thick_cdk_meanrh'], inplace=True)\n",
    "    abcd_idps_idx = mri_data.filter(regex='^smri_thick_cdk').columns.to_list()\n",
    "    print(f\"Number of IDPs: {len(abcd_idps_idx)}\")\n",
    "    \n",
    "elif brain_measure == 'SA':\n",
    "    mri_data.drop(columns=['smri_area_cdk_total', 'smri_area_cdk_totallh', 'smri_area_cdk_totalrh'], inplace=True)\n",
    "    abcd_idps_idx = mri_data.filter(regex='^smri_area_cdk').columns.to_list()\n",
    "    print(f\"Number of IDPs: {len(abcd_idps_idx)}\")\n",
    "    exit(\"Brain measure not implemented yet\")\n",
    "    \n",
    "else:\n",
    "    raise ValueError('brain_measure has to be either CT or SA')"
   ]
  },
  {
   "cell_type": "code",
   "execution_count": 33,
   "metadata": {},
   "outputs": [],
   "source": [
    "# access DK atlas and save idp_labels\n",
    "atlas = fetch_desikan_killiany(surface=True)\n",
    "atlas = pd.read_csv(atlas['info'])\n",
    "atlas = atlas[(atlas['structure'] == 'cortex') & (atlas['hemisphere'] == 'L')]\n",
    "atlas_labels_l = ['L_'+label for label in atlas['label']]\n",
    "atlas_labels_r = ['R_'+label for label in atlas['label']]\n",
    "\n",
    "desikan_idps = atlas_labels_l + atlas_labels_r"
   ]
  },
  {
   "cell_type": "markdown",
   "metadata": {},
   "source": [
    "Remove NA values:\n",
    "- 777 = “Decline to answer”\n",
    "- 999 = “Do not know”\n",
    "- 888 = Question not asked due to primary question response (branching logic)\n",
    "- 555 = Not administered in the assessment\n"
   ]
  },
  {
   "cell_type": "code",
   "execution_count": 34,
   "metadata": {},
   "outputs": [
    {
     "name": "stdout",
     "output_type": "stream",
     "text": [
      "(19589, 85)\n"
     ]
    }
   ],
   "source": [
    "# dict of ABCD data tables w/ format \"tablefile: variables\"\n",
    "abcd_tab_data = {\n",
    "    join(abcd_data_dir, \"r4.0\", \"abcd_smrip10201.txt\"):         [\"interview_age\", \"interview_date\", \"sex\", \"smri_vol_scs_cbwmatterlh\", \n",
    "                                                                    \"smri_vol_scs_cbwmatterrh\", \"smri_vol_scs_wholeb\",\n",
    "                                                                    \"smri_vol_scs_subcorticalgv\",\"smri_vol_scs_intracranialv\", \n",
    "                                                                    \"smri_thick_cdk_mean\"] + abcd_idps_idx, \n",
    "    join(abcd_data_dir, \"r4.0\", \"abcd_fsurfqc01.txt\"):          [\"fsqc_qc\"],\n",
    "    join(abcd_data_dir, \"r4.0\", \"abcd_auto_postqc01.txt\"):      [\"apqc_smri_topo_ndefect\"],\n",
    "    join(abcd_data_dir, \"r4.0\", \"abcd_imgincl01.txt\"):          [\"imgincl_t1w_include\"],\n",
    "    join(abcd_data_dir, \"r4.0\", \"abcd_devhxss01.txt\"):          [\"devhx_ss_12_p\"],\n",
    "    join(abcd_data_dir, \"r4.0\", \"abcd_lt01.txt\"):               [\"site_id_l\"],\n",
    "    join(abcd_data_dir, \"r4.0\", \"abcd_tbss01.txt\"):             [\"nihtbx_totalcomp_fc\"],\n",
    "}\n",
    "\n",
    "# read data\n",
    "abcd_tab = []\n",
    "for k in abcd_tab_data.keys():\n",
    "    tab = pd.read_csv(k, header=0, skiprows=[1], delimiter=\"\\t\", na_values=[555,777,888,999], \n",
    "                        low_memory=False)\n",
    "    if (\"visit\" in tab.columns) & (\"eventname\" not in tab.columns):\n",
    "        tab = tab.rename(columns=dict(visit=\"eventname\"))\n",
    "    if tab.eventname[0]==\"screener_arm_1\":\n",
    "        tab.eventname = tab.eventname.replace({\"screener_arm_1\": \"baseline_year_1_arm_1\"})\n",
    "    tab = tab[[\"subjectkey\", \"eventname\"] + abcd_tab_data[k]]     \n",
    "    abcd_tab.append(tab)\n",
    "    \n",
    "# combine data\n",
    "abcd = reduce(lambda left, right: pd.merge(left, right, on=[\"subjectkey\", \"eventname\"], how='left'), abcd_tab)\n",
    "print(abcd.shape)"
   ]
  },
  {
   "cell_type": "markdown",
   "metadata": {},
   "source": [
    "## Adjust and rename variables"
   ]
  },
  {
   "cell_type": "code",
   "execution_count": 35,
   "metadata": {},
   "outputs": [],
   "source": [
    "# rename variables\n",
    "abcd = abcd.rename(columns=dict(\n",
    "    subjectkey=\"id\", \n",
    "    interview_age=\"age_mon\", \n",
    "    sex=\"sex_str\", \n",
    "    eventname=\"tp\",\n",
    "    site_id_l=\"site_str\",\n",
    "    devhx_ss_12_p=\"weeks_born_premature\",\n",
    "    smri_vol_scs_wholeb=\"whole_brain_vol\",\n",
    "    smri_vol_scs_subcorticalgv=\"sGMV\",\n",
    "    smri_vol_scs_cbwmatterlh=\"L_WMV\",\n",
    "    smri_vol_scs_cbwmatterrh=\"R_WMV\",\n",
    "    smri_vol_scs_intracranialv=\"EstimatedTotalIntraCranialVol\",\n",
    "    smri_thick_cdk_mean='meanCT2',\n",
    "    nihtbx_totalcomp_fc='nihtbx_total'\n",
    "))\n",
    "abcd = abcd.rename(columns=dict(zip(abcd_idps_idx, desikan_idps)))\n",
    "\n",
    "# cerebral tissue volume measures\n",
    "abcd[\"WMV\"] = abcd[\"L_WMV\"] + abcd[\"R_WMV\"]\n",
    "abcd.drop(columns=[\"L_WMV\", \"R_WMV\"], inplace=True)\n",
    "abcd[\"GMV\"] = abcd['whole_brain_vol'] - abcd['WMV'] - abcd['sGMV']\n",
    "\n",
    "# demographics\n",
    "abcd[\"age\"] = round(abcd.age_mon / 12, 2)\n",
    "abcd[\"sex\"] = [0 if s==\"F\" else 1 for s in abcd.sex_str]  # F==0, M==1\n",
    "abcd[\"site\"] = [int(s[-2:]) for s in abcd.site_str] \n",
    "abcd.tp = abcd.tp.replace({\n",
    "    \"baseline_year_1_arm_1\":    \"T0\",\n",
    "    \"2_year_follow_up_y_arm_1\": \"T2\", \n",
    "    \"4_year_follow_up_y_arm_1\": \"T4\"\n",
    "})\n",
    "abcd.site_str = abcd.site_str.replace({\n",
    "    'site01': \"CHLA\", \n",
    "    'site02': \"CUB\", \n",
    "    'site03': \"FIU\", \n",
    "    'site04': \"LIBR\", \n",
    "    'site05': \"MUSC\", \n",
    "    'site06': \"OHSU\",\n",
    "    'site07': \"ROC\", \n",
    "    'site08': \"SRI\", \n",
    "    'site09': \"UCLA\", \n",
    "    'site10': \"UCSD\", \n",
    "    'site11': \"UFL\", \n",
    "    'site12': \"UMB\",\n",
    "    'site13': \"UMICH\", \n",
    "    'site14': \"UMN\", \n",
    "    'site15': \"UPMC\", \n",
    "    'site16': \"UTAH\", \n",
    "    'site17': \"UVM\", \n",
    "    'site18': \"UWM\",\n",
    "    'site19': \"VCU\", \n",
    "    'site20': \"WUSTL\", \n",
    "    'site21': \"YALE\", \n",
    "    'site22': \"MSSM\"\n",
    "})\n",
    "\n",
    "# set index (id + tp)\n",
    "abcd = abcd.set_index([\"id\", \"tp\"], drop=False)\n",
    "abcd.index = abcd.index.set_names(names=[\"idx_id\", \"idx_tp\"])\n",
    "abcd = abcd.sort_index(axis=\"index\")"
   ]
  },
  {
   "cell_type": "markdown",
   "metadata": {},
   "source": [
    "## Drop subjects\n",
    "### Missing data"
   ]
  },
  {
   "cell_type": "code",
   "execution_count": 36,
   "metadata": {},
   "outputs": [
    {
     "name": "stdout",
     "output_type": "stream",
     "text": [
      "Whole dataset: baseline n = 11760, 2-year n = 7829\n",
      "Site MSSM dropped: baseline n = 11728, 2-year n = 7829\n",
      "0 zeros replaces with np.nan\n",
      "Subjects with >=1 missing CT values dropped: baseline n = 11728, 2-year n = 7829\n"
     ]
    }
   ],
   "source": [
    "# all\n",
    "print(f\"Whole dataset: baseline n = {len(abcd[abcd.tp=='T0'])},\",\n",
    "      f\"2-year n = {len(abcd[abcd.tp=='T2'])}\")\n",
    "\n",
    "# drop site MSSM as was discontinued during baseline\n",
    "abcd = abcd[abcd.site_str!=\"MSSM\"].copy()\n",
    "print(f\"Site MSSM dropped: baseline n = {len(abcd[abcd.tp=='T0'])},\",\n",
    "      f\"2-year n = {len(abcd[abcd.tp=='T2'])}\")\n",
    "\n",
    "# replace \"zero\" CT values with nan\n",
    "print(f\"{(abcd[desikan_idps] == 0).sum().sum()} zeros replaces with np.nan\")\n",
    "abcd[desikan_idps] = abcd[desikan_idps].replace({0: np.nan})\n",
    "\n",
    "# remove subjects with single missing brain_measure values\n",
    "missings = abcd[desikan_idps].isnull().any(axis=1)\n",
    "abcd = abcd[missings==False].copy()\n",
    "print(f\"Subjects with >=1 missing {brain_measure} values dropped: baseline n = {len(abcd[abcd.tp=='T0'])},\",\n",
    "      f\"2-year n = {len(abcd[abcd.tp=='T2'])}\")"
   ]
  },
  {
   "cell_type": "markdown",
   "metadata": {},
   "source": [
    "### QC\n",
    "We exclude subjects with a total Euler number of > Q3+1.5*IQR across cohorts or subjects flagged by ABCD internal QC."
   ]
  },
  {
   "cell_type": "code",
   "execution_count": 37,
   "metadata": {},
   "outputs": [],
   "source": [
    "qc_thresh = \"iqr\""
   ]
  },
  {
   "cell_type": "code",
   "execution_count": 38,
   "metadata": {},
   "outputs": [
    {
     "name": "stdout",
     "output_type": "stream",
     "text": [
      "Whole dataset: baseline n = 11728, 2-year n = 7829\n",
      "Post QC: baseline n = 10707, 2-year n = 7388\n",
      "Subjects with only 2nd tp or duplicate data dropped: baseline n = 10707, 2-year n = 6802\n",
      "T0+T2 available: n = 6802\n"
     ]
    }
   ],
   "source": [
    "# all\n",
    "print(f\"Whole dataset: baseline n = {len(abcd[abcd.tp=='T0'])},\",\n",
    "      f\"2-year n = {len(abcd[abcd.tp=='T2'])}\")\n",
    "\n",
    "# add filter based on topography\n",
    "if qc_thresh==\"quantile\":\n",
    "      thresh = np.quantile(abcd.apqc_smri_topo_ndefect, 0.99)\n",
    "elif qc_thresh==\"iqr\":\n",
    "      q3 = np.percentile(abcd.apqc_smri_topo_ndefect, 75)\n",
    "      thresh = q3 + 1.5 * iqr(abcd.apqc_smri_topo_ndefect)\n",
    "elif qc_thresh==\"sd\":\n",
    "      mean = np.mean(abcd.apqc_smri_topo_ndefect)\n",
    "      sd = np.std(abcd.apqc_smri_topo_ndefect)\n",
    "      thresh = mean + 3*sd\n",
    "abcd[\"topo_thresh\"] = thresh\n",
    "abcd[\"topo_outlier\"] = [1 if defects>thresh else 0 \\\n",
    "      for defects, thresh in zip(abcd.apqc_smri_topo_ndefect, abcd.topo_thresh)]\n",
    "\n",
    "# only subjects passing ABCD and FreeSurfer and topography defects quality control\n",
    "abcd_preqc = abcd.copy()\n",
    "abcd = abcd.query(\"(imgincl_t1w_include==1) & (fsqc_qc!=0) & (topo_outlier==0)\").copy()\n",
    "print(f\"Post QC: baseline n = {len(abcd[abcd.tp=='T0'])},\",\n",
    "      f\"2-year n = {len(abcd[abcd.tp=='T2'])}\")\n",
    "\n",
    "# drop subjects with only second tp or duplicate data\n",
    "subs = list(abcd.id.unique())\n",
    "missings = list()\n",
    "for sub in subs:\n",
    "      try:\n",
    "            abcd.loc[(sub, \"T0\"), :]\n",
    "      except:\n",
    "            missings.append(sub)\n",
    "      if len(abcd.loc[(sub, na()), :]) > 2:\n",
    "            missings.append(sub)\n",
    "abcd = abcd.loc[([s for s in subs if s not in missings], na()), :].copy() \n",
    "print(f\"Subjects with only 2nd tp or duplicate data dropped: baseline n = {len(abcd[abcd.tp=='T0'])},\",\n",
    "      f\"2-year n = {len(abcd[abcd.tp=='T2'])}\")\n",
    "\n",
    "# mark subjects with both time points\n",
    "abcd[\"both_tp\"] = False\n",
    "for sub in abcd.id.unique(): \n",
    "      try:\n",
    "            temp1 = abcd.loc[(sub,\"T0\"), :]\n",
    "      except:\n",
    "            continue\n",
    "      try:\n",
    "            temp2 = abcd.loc[(sub,\"T2\"), :]\n",
    "      except:\n",
    "            continue\n",
    "      #if temp1.site==temp2.site:\n",
    "      abcd.loc[(sub, na()), \"both_tp\"] = True\n",
    "if len(abcd[(abcd.both_tp==1) & (abcd.tp==\"T0\")]) != \\\n",
    "      len(abcd[(abcd.both_tp==1) & (abcd.tp==\"T2\")]):\n",
    "      print(\"Something is wrong!\")\n",
    "print(f\"T0+T2 available: n = {len(abcd[abcd.both_tp==1])/2:.0f}\")\n"
   ]
  },
  {
   "cell_type": "code",
   "execution_count": 39,
   "metadata": {},
   "outputs": [
    {
     "name": "stdout",
     "output_type": "stream",
     "text": [
      "Overall number of unique subjects: n = 10707\n",
      "Overall number of unique subjects with longitudinal data: n = 6802\n"
     ]
    },
    {
     "data": {
      "text/html": [
       "<div>\n",
       "<style scoped>\n",
       "    .dataframe tbody tr th:only-of-type {\n",
       "        vertical-align: middle;\n",
       "    }\n",
       "\n",
       "    .dataframe tbody tr th {\n",
       "        vertical-align: top;\n",
       "    }\n",
       "\n",
       "    .dataframe thead tr th {\n",
       "        text-align: left;\n",
       "    }\n",
       "</style>\n",
       "<table border=\"1\" class=\"dataframe\">\n",
       "  <thead>\n",
       "    <tr>\n",
       "      <th></th>\n",
       "      <th colspan=\"4\" halign=\"left\">All</th>\n",
       "    </tr>\n",
       "    <tr>\n",
       "      <th></th>\n",
       "      <th colspan=\"2\" halign=\"left\">T0</th>\n",
       "      <th colspan=\"2\" halign=\"left\">T2</th>\n",
       "    </tr>\n",
       "    <tr>\n",
       "      <th></th>\n",
       "      <th>Age [y]</th>\n",
       "      <th>Male [%]</th>\n",
       "      <th>Age [y]</th>\n",
       "      <th>Male [%]</th>\n",
       "    </tr>\n",
       "  </thead>\n",
       "  <tbody>\n",
       "    <tr>\n",
       "      <th>n</th>\n",
       "      <td>6802.00</td>\n",
       "      <td>NaN</td>\n",
       "      <td>6802.00</td>\n",
       "      <td>NaN</td>\n",
       "    </tr>\n",
       "    <tr>\n",
       "      <th>mean</th>\n",
       "      <td>9.91</td>\n",
       "      <td>NaN</td>\n",
       "      <td>11.96</td>\n",
       "      <td>NaN</td>\n",
       "    </tr>\n",
       "    <tr>\n",
       "      <th>%</th>\n",
       "      <td>NaN</td>\n",
       "      <td>52.84</td>\n",
       "      <td>NaN</td>\n",
       "      <td>52.84</td>\n",
       "    </tr>\n",
       "    <tr>\n",
       "      <th>sd</th>\n",
       "      <td>0.62</td>\n",
       "      <td>NaN</td>\n",
       "      <td>0.65</td>\n",
       "      <td>NaN</td>\n",
       "    </tr>\n",
       "    <tr>\n",
       "      <th>median</th>\n",
       "      <td>9.92</td>\n",
       "      <td>NaN</td>\n",
       "      <td>11.92</td>\n",
       "      <td>NaN</td>\n",
       "    </tr>\n",
       "    <tr>\n",
       "      <th>min</th>\n",
       "      <td>8.92</td>\n",
       "      <td>NaN</td>\n",
       "      <td>10.58</td>\n",
       "      <td>NaN</td>\n",
       "    </tr>\n",
       "    <tr>\n",
       "      <th>max</th>\n",
       "      <td>11.08</td>\n",
       "      <td>NaN</td>\n",
       "      <td>13.75</td>\n",
       "      <td>NaN</td>\n",
       "    </tr>\n",
       "  </tbody>\n",
       "</table>\n",
       "</div>"
      ],
      "text/plain": [
       "            All                           \n",
       "             T0                T2         \n",
       "        Age [y] Male [%]  Age [y] Male [%]\n",
       "n       6802.00      NaN  6802.00      NaN\n",
       "mean       9.91      NaN    11.96      NaN\n",
       "%           NaN    52.84      NaN    52.84\n",
       "sd         0.62      NaN     0.65      NaN\n",
       "median     9.92      NaN    11.92      NaN\n",
       "min        8.92      NaN    10.58      NaN\n",
       "max       11.08      NaN    13.75      NaN"
      ]
     },
     "execution_count": 39,
     "metadata": {},
     "output_type": "execute_result"
    }
   ],
   "source": [
    "print(\"Overall number of unique subjects: n =\", len(abcd.id.unique()))\n",
    "print(\"Overall number of unique subjects with longitudinal data: n =\", len(abcd[abcd.both_tp==True].id.unique()))\n",
    "\n",
    "abcd[\"sex_str\"] = pd.Categorical(abcd.sex_str)\n",
    "abcd_sample_stats = dict()\n",
    "for tp in [\"T0\", \"T2\"]:\n",
    "    # All\n",
    "    abcd_sample_stats[(\"All\", tp, \"Age [y]\")] = abcd.loc[(abcd.tp==tp) & (abcd.both_tp==True), \"age\"].describe()\n",
    "    abcd_sample_stats[(\"All\", tp, \"Male [%]\")] = pd.Series({\n",
    "        \"count\": len(abcd.loc[(abcd.tp==tp) & (abcd.both_tp==True)].sex_str),\n",
    "        \"%\": len(abcd.loc[(abcd.tp==tp) & (abcd.both_tp==True) & (abcd.sex_str==\"M\")]),\n",
    "    })\n",
    "\n",
    "abcd_sample_stats = pd.DataFrame(abcd_sample_stats).sort_index(axis=1)\n",
    "abcd_sample_stats = abcd_sample_stats.loc[[\"count\", \"mean\", \"%\", \"std\", \"50%\", \"min\", \"max\"],:]\n",
    "abcd_sample_stats = abcd_sample_stats.rename(index={\"count\":\"n\", \"50%\":\"median\", \"std\":\"sd\"})\n",
    "abcd_sample_stats.loc[\"%\",:] = abcd_sample_stats.loc[\"%\",:] / abcd_sample_stats.loc[\"n\",:] * 100\n",
    "abcd_sample_stats.loc[\"n\", (na(), na(), \"Male [%]\")] = np.nan\n",
    "abcd_sample_stats = abcd_sample_stats.round(2)\n",
    "abcd_sample_stats"
   ]
  },
  {
   "cell_type": "code",
   "execution_count": 40,
   "metadata": {},
   "outputs": [],
   "source": [
    "# reorder variables\n",
    "abcd = reorder_vars([\"id\", \"tp\", \"both_tp\", \"site\", \"site_str\", \"age\", \"age_mon\", \"sex\", \"sex_str\"], \n",
    "                    abcd, desikan_idps)"
   ]
  },
  {
   "cell_type": "markdown",
   "metadata": {},
   "source": [
    "### Drop subjects without longitudinal data"
   ]
  },
  {
   "cell_type": "code",
   "execution_count": 41,
   "metadata": {},
   "outputs": [
    {
     "name": "stdout",
     "output_type": "stream",
     "text": [
      "Subjects missing longitudinal data have been excluded. Subjects with both time points: n = 6802\n"
     ]
    }
   ],
   "source": [
    "# drop subjects without longitudinal data\n",
    "abcd = abcd[abcd.both_tp==True]\n",
    "print(f\"Subjects missing longitudinal data have been excluded. Subjects with both time points: n = {len(abcd)/2:.0f}\")"
   ]
  },
  {
   "cell_type": "markdown",
   "metadata": {},
   "source": [
    "## Calculate gestational age and preterm variable\n",
    "Gestational age is not directly available for ABCD but questionaires assessed how many weeks premature the baby was born according to the mother. We will calculate gestational age by subtracting the weeks premature from 40.\n",
    "\n",
    "Since this information is subjective and not as reliable, we will only consider subjects born >= 32 weeks as preterm and subjects born <= week 37 as term. All other subjects will not be considered in the analysis."
   ]
  },
  {
   "cell_type": "code",
   "execution_count": 42,
   "metadata": {},
   "outputs": [
    {
     "name": "stdout",
     "output_type": "stream",
     "text": [
      "Final sample size in each group: CN = 5762, preterm = 191\n",
      "Dataframe size: (11906, 93)\n"
     ]
    }
   ],
   "source": [
    "# copy weeks_born_premature from T0 to T2 for the same idx_id\n",
    "abcd['weeks_born_premature'] = abcd.groupby('id')['weeks_born_premature'].transform('first')\n",
    "\n",
    "# calculate gestational age\n",
    "abcd['gestational_age'] = 40 - abcd['weeks_born_premature']\n",
    "\n",
    "# add variable dx representing CN and preterm according to BrainChart framework\n",
    "abcd['preterm'] = np.where(abcd['gestational_age'] >= 37, 0, \n",
    "                        np.where(abcd['gestational_age'] <= 32, 1, np.nan))\n",
    "\n",
    "# drop subjects not fitting to any dx group\n",
    "abcd = abcd[abcd['preterm'].notnull()].copy()\n",
    "print(f'Final sample size in each group: CN = {len(abcd[abcd[\"preterm\"]==0])/2:.0f}, preterm = {len(abcd[abcd[\"preterm\"]==1])/2:.0f}')\n",
    "print(f'Dataframe size: {abcd.shape}')\n",
    "\n",
    "# introduce dx\n",
    "abcd['dx'] = np.where(abcd['preterm']==1, 'preterm', 'CN')"
   ]
  },
  {
   "cell_type": "markdown",
   "metadata": {},
   "source": [
    "## Average hemispheres"
   ]
  },
  {
   "cell_type": "code",
   "execution_count": 43,
   "metadata": {},
   "outputs": [],
   "source": [
    "regions = [r[2:] for r in desikan_idps[:34]]\n",
    "\n",
    "# Combine L_ and R_ values\n",
    "for region in regions:\n",
    "    abcd[f'{brain_measure}_{region}'] = abcd[[f'L_{region}', f'R_{region}']].mean(axis=1)\n",
    "    # drop L_ and R_ columns\n",
    "    abcd = abcd.drop(columns=[f'L_{region}', f'R_{region}'])"
   ]
  },
  {
   "cell_type": "code",
   "execution_count": 44,
   "metadata": {},
   "outputs": [],
   "source": [
    "# create region list bilateral\n",
    "desikan_idps_bilateral = [f'{brain_measure}_{region}' for region in regions]\n",
    "if brain_measure == 'CT':\n",
    "    desikan_idps_bilateral = ['meanCT2'] + desikan_idps_bilateral\n",
    "ctv_columns = ['GMV', 'WMV', 'sGMV', 'whole_brain_vol', 'EstimatedTotalIntraCranialVol']\n",
    "\n",
    "# reorder variables and drop unnecessary columns\n",
    "abcd = reorder_vars([\"id\", \"tp\", \"both_tp\", \"site\", \"site_str\", \"age\", \"age_mon\", \"sex\", 'sex_str', 'interview_date', \n",
    "                        'gestational_age', 'preterm', 'dx', 'sGMV', 'GMV', 'WMV', 'whole_brain_vol', 'EstimatedTotalIntraCranialVol'],\n",
    "                    abcd, desikan_idps_bilateral) \n",
    "abcd.drop(columns=['fsqc_qc', 'apqc_smri_topo_ndefect','imgincl_t1w_include', 'weeks_born_premature', 'topo_thresh',\n",
    "                    'topo_outlier'], inplace=True)"
   ]
  },
  {
   "cell_type": "markdown",
   "metadata": {},
   "source": [
    "# NeuroCombat for data harmonization\n",
    "Since longitudinal data acquisition took place at the same sites as the baseline data, we will use longCombat to harmonize data across sites. This will be done separately for `brain_measure` and cerebral tissue volume measures due to different scales. longCombat is run in R."
   ]
  },
  {
   "cell_type": "code",
   "execution_count": 45,
   "metadata": {},
   "outputs": [],
   "source": [
    "# separate brain_measure and cerebral tissue volumes for Combat\n",
    "abcd_data = abcd.drop(columns=ctv_columns)\n",
    "abcd_data.drop(columns=['nihtbx_total'], inplace=True)  # causes trouble in longCombat due to missing values\n",
    "abcd_ctv = abcd.drop(columns=desikan_idps_bilateral)\n",
    "abcd_ctv.drop(columns=['nihtbx_total'], inplace=True)\n"
   ]
  },
  {
   "cell_type": "markdown",
   "metadata": {},
   "source": [
    "## Harmonize `brain_measure` data\n",
    "Sex and age are included as covariates in the model."
   ]
  },
  {
   "cell_type": "code",
   "execution_count": 46,
   "metadata": {},
   "outputs": [
    {
     "name": "stdout",
     "output_type": "stream",
     "text": [
      "[longCombat] found 21 batches\n",
      "[longCombat] found 35 features\n",
      "[longCombat] found 11906 total observations\n",
      "[longCombat] standardizing data across features...\n",
      "[longCombat] fitting lme model for feature 1\n",
      "[longCombat] fitting lme model for feature 2\n",
      "[longCombat] fitting lme model for feature 3\n",
      "[longCombat] fitting lme model for feature 4\n",
      "[longCombat] fitting lme model for feature 5\n",
      "[longCombat] fitting lme model for feature 6\n",
      "[longCombat] fitting lme model for feature 7\n",
      "[longCombat] fitting lme model for feature 8\n",
      "[longCombat] fitting lme model for feature 9\n",
      "[longCombat] fitting lme model for feature 10\n",
      "[longCombat] fitting lme model for feature 11\n",
      "[longCombat] fitting lme model for feature 12\n",
      "[longCombat] fitting lme model for feature 13\n",
      "[longCombat] fitting lme model for feature 14\n",
      "[longCombat] fitting lme model for feature 15\n",
      "[longCombat] fitting lme model for feature 16\n",
      "[longCombat] fitting lme model for feature 17\n",
      "[longCombat] fitting lme model for feature 18\n",
      "[longCombat] fitting lme model for feature 19\n",
      "[longCombat] fitting lme model for feature 20\n",
      "[longCombat] fitting lme model for feature 21\n",
      "[longCombat] fitting lme model for feature 22\n",
      "[longCombat] fitting lme model for feature 23\n",
      "[longCombat] fitting lme model for feature 24\n",
      "[longCombat] fitting lme model for feature 25\n",
      "[longCombat] fitting lme model for feature 26\n",
      "[longCombat] fitting lme model for feature 27\n",
      "[longCombat] fitting lme model for feature 28\n",
      "[longCombat] fitting lme model for feature 29\n",
      "[longCombat] fitting lme model for feature 30\n",
      "[longCombat] fitting lme model for feature 31\n",
      "[longCombat] fitting lme model for feature 32\n",
      "[longCombat] fitting lme model for feature 33\n",
      "[longCombat] fitting lme model for feature 34\n",
      "[longCombat] fitting lme model for feature 35\n",
      "[longCombat] using method of moments to estimate hyperparameters\n",
      "[longCombat] using empirical Bayes to estimate batch effects...\n",
      "[longCombat] initializing...\n",
      "[longCombat] starting EM algorithm iteration 1\n",
      "[longCombat] starting EM algorithm iteration 2\n",
      "[longCombat] starting EM algorithm iteration 3\n",
      "[longCombat] starting EM algorithm iteration 4\n",
      "[longCombat] starting EM algorithm iteration 5\n",
      "[longCombat] starting EM algorithm iteration 6\n",
      "[longCombat] starting EM algorithm iteration 7\n",
      "[longCombat] starting EM algorithm iteration 8\n",
      "[longCombat] starting EM algorithm iteration 9\n",
      "[longCombat] starting EM algorithm iteration 10\n",
      "[longCombat] starting EM algorithm iteration 11\n",
      "[longCombat] starting EM algorithm iteration 12\n",
      "[longCombat] starting EM algorithm iteration 13\n",
      "[longCombat] starting EM algorithm iteration 14\n",
      "[longCombat] starting EM algorithm iteration 15\n",
      "[longCombat] starting EM algorithm iteration 16\n",
      "[longCombat] starting EM algorithm iteration 17\n",
      "[longCombat] starting EM algorithm iteration 18\n",
      "[longCombat] starting EM algorithm iteration 19\n",
      "[longCombat] starting EM algorithm iteration 20\n",
      "[longCombat] starting EM algorithm iteration 21\n",
      "[longCombat] starting EM algorithm iteration 22\n",
      "[longCombat] starting EM algorithm iteration 23\n",
      "[longCombat] starting EM algorithm iteration 24\n",
      "[longCombat] starting EM algorithm iteration 25\n",
      "[longCombat] starting EM algorithm iteration 26\n",
      "[longCombat] starting EM algorithm iteration 27\n",
      "[longCombat] starting EM algorithm iteration 28\n",
      "[longCombat] starting EM algorithm iteration 29\n",
      "[longCombat] starting EM algorithm iteration 30\n",
      "[longCombat] adjusting data for batch effects\n"
     ]
    }
   ],
   "source": [
    "%%R -i abcd_data -i desikan_idps_bilateral -i abcd_out -i brain_measure\n",
    ".libPaths()\n",
    "\n",
    "# load required packages\n",
    "library(longCombat)\n",
    "library(invgamma)\n",
    "library(lme4)\n",
    "library(Matrix)\n",
    "\n",
    "# set random seed to make analysis reproducible (otherwise, output \"data_combat\" will be minimally different each time you run the code)\n",
    "set.seed(1234)\n",
    "\n",
    "# apply longCombat\n",
    "data_combat <- longCombat(idvar='id', \n",
    "                            timevar='tp',\n",
    "                            batchvar='site', \n",
    "                            features=desikan_idps_bilateral, \n",
    "                            formula='age + sex + dx*tp',\n",
    "                            ranef='(1|id)',\n",
    "                            data=abcd_data)\n",
    "\n",
    "# save combat-corrected data\n",
    "out_name = paste(\"abcd_\", brain_measure, \"_scanner_corrected_tmp.csv\", sep=\"\")\n",
    "write.table(data_combat[[\"data_combat\"]], file = file.path(abcd_out, out_name), sep = \",\", row.names = FALSE)"
   ]
  },
  {
   "cell_type": "markdown",
   "metadata": {},
   "source": [
    "## Harmonize cerebral tissue volumes"
   ]
  },
  {
   "cell_type": "code",
   "execution_count": 47,
   "metadata": {},
   "outputs": [
    {
     "name": "stdout",
     "output_type": "stream",
     "text": [
      "[longCombat] found 21 batches\n",
      "[longCombat] found 5 features\n",
      "[longCombat] found 11906 total observations\n",
      "[longCombat] standardizing data across features...\n",
      "[longCombat] fitting lme model for feature 1\n",
      "[longCombat] fitting lme model for feature 2\n",
      "[longCombat] fitting lme model for feature 3\n",
      "[longCombat] fitting lme model for feature 4\n",
      "[longCombat] fitting lme model for feature 5\n",
      "[longCombat] using method of moments to estimate hyperparameters\n",
      "[longCombat] using empirical Bayes to estimate batch effects...\n",
      "[longCombat] initializing...\n",
      "[longCombat] starting EM algorithm iteration 1\n",
      "[longCombat] starting EM algorithm iteration 2\n",
      "[longCombat] starting EM algorithm iteration 3\n",
      "[longCombat] starting EM algorithm iteration 4\n",
      "[longCombat] starting EM algorithm iteration 5\n",
      "[longCombat] starting EM algorithm iteration 6\n",
      "[longCombat] starting EM algorithm iteration 7\n",
      "[longCombat] starting EM algorithm iteration 8\n",
      "[longCombat] starting EM algorithm iteration 9\n",
      "[longCombat] starting EM algorithm iteration 10\n",
      "[longCombat] starting EM algorithm iteration 11\n",
      "[longCombat] starting EM algorithm iteration 12\n",
      "[longCombat] starting EM algorithm iteration 13\n",
      "[longCombat] starting EM algorithm iteration 14\n",
      "[longCombat] starting EM algorithm iteration 15\n",
      "[longCombat] starting EM algorithm iteration 16\n",
      "[longCombat] starting EM algorithm iteration 17\n",
      "[longCombat] starting EM algorithm iteration 18\n",
      "[longCombat] starting EM algorithm iteration 19\n",
      "[longCombat] starting EM algorithm iteration 20\n",
      "[longCombat] starting EM algorithm iteration 21\n",
      "[longCombat] starting EM algorithm iteration 22\n",
      "[longCombat] starting EM algorithm iteration 23\n",
      "[longCombat] starting EM algorithm iteration 24\n",
      "[longCombat] starting EM algorithm iteration 25\n",
      "[longCombat] starting EM algorithm iteration 26\n",
      "[longCombat] starting EM algorithm iteration 27\n",
      "[longCombat] starting EM algorithm iteration 28\n",
      "[longCombat] starting EM algorithm iteration 29\n",
      "[longCombat] starting EM algorithm iteration 30\n",
      "[longCombat] adjusting data for batch effects\n"
     ]
    }
   ],
   "source": [
    "%%R -i abcd_ctv -i ctv_columns -i abcd_out \n",
    "\n",
    "# load required packages\n",
    "library(longCombat)\n",
    "library(invgamma)\n",
    "library(lme4)\n",
    "library(Matrix)\n",
    "\n",
    "# set random seed to make analysis reproducible (otherwise, output \"data_combat\" will be minimally different each time you run the code)\n",
    "set.seed(1234)\n",
    "\n",
    "# apply longCombat\n",
    "data_combat <- longCombat(idvar='id', \n",
    "                            timevar='tp',\n",
    "                            batchvar='site', \n",
    "                            features=ctv_columns, \n",
    "                            formula='age + sex + dx*tp',\n",
    "                            ranef='(1|id)',\n",
    "                            data=abcd_ctv)\n",
    "\n",
    "# save combat-corrected data\n",
    "out_name = paste(\"abcd_ctv_scanner_corrected_tmp.csv\", sep=\"\")\n",
    "write.table(data_combat[[\"data_combat\"]], file = file.path(abcd_out, out_name), sep = \",\", row.names = FALSE)"
   ]
  },
  {
   "cell_type": "code",
   "execution_count": 48,
   "metadata": {},
   "outputs": [],
   "source": [
    "# combine outputs \n",
    "abcd_data_combat = pd.read_csv(join(abcd_out, f'abcd_{brain_measure}_scanner_corrected_tmp.csv'))\n",
    "abcd_ctv_combat = pd.read_csv(join(abcd_out, 'abcd_ctv_scanner_corrected_tmp.csv'))\n",
    "\n",
    "# rename idps\n",
    "abcd_data_combat = abcd_data_combat.rename(columns=dict(zip([id+'.combat' for id in desikan_idps_bilateral], desikan_idps_bilateral)))\n",
    "abcd_ctv_combat = abcd_ctv_combat.rename(columns=dict(zip([id+'.combat' for id in ctv_columns], ctv_columns)))"
   ]
  },
  {
   "cell_type": "code",
   "execution_count": 49,
   "metadata": {},
   "outputs": [
    {
     "name": "stdout",
     "output_type": "stream",
     "text": [
      "Final sample size in each group: CN = 5762, preterm = 191\n",
      "Dataframe size: (11906, 43)\n"
     ]
    }
   ],
   "source": [
    "# merge harmonized brain_measure and CTV data\n",
    "cols_to_keep = ['id', 'tp' ] + ctv_columns\n",
    "abcd_combat = pd.merge(abcd_data_combat, abcd_ctv_combat[cols_to_keep], on=[\"id\", \"tp\"], how='inner')\n",
    "\n",
    "# add more variables to longCombat output\n",
    "print(f'Final sample size in each group: CN = {len(abcd[abcd[\"preterm\"]==0])/2:.0f}, preterm = {len(abcd[abcd[\"preterm\"]==1])/2:.0f}')\n",
    "print(f'Dataframe size: {abcd_combat.shape}')\n",
    "\n",
    "abcd_combat = abcd_combat.merge(abcd[['id', 'tp', 'both_tp', 'site_str', 'age', 'age_mon', 'sex',\n",
    "                        'sex_str', 'interview_date', 'gestational_age', 'preterm', 'dx', 'nihtbx_total']], on=['id', 'tp'], how='left')"
   ]
  },
  {
   "cell_type": "markdown",
   "metadata": {},
   "source": [
    "# Adapt df for BrainChart framework\n",
    "BrainChart needs a certain format of the data. We will adapt the data accordingly. More information can be found [here](https://brainchart.shinyapps.io/brainchart/)."
   ]
  },
  {
   "cell_type": "code",
   "execution_count": 50,
   "metadata": {},
   "outputs": [],
   "source": [
    "# adapt for brainchart\n",
    "abcd_combat = abcd_combat.rename(columns=dict(\n",
    "    id=\"participant\",\n",
    "    age=\"Age\",\n",
    "    sex=\"sex_code\",\n",
    "    sex_str=\"sex\",\n",
    "    gestational_age=\"GA\"\n",
    ")) \n",
    "\n",
    "abcd_combat['age_days'] = (abcd_combat['Age'] * 365.245) + 280\n",
    "abcd_combat['sex'] = abcd_combat['sex'].map({'M': 'Male', 'F': 'Female'})\n",
    "abcd_combat['study'] = 'ABCD_newEstimate'  # as ABCD was used for original model fitting, we want to make sure that random effects of study are calculated again\n",
    "abcd_combat['fs_version'] = 'Custom'\n",
    "abcd_combat['country'] = 'Multisite'\n",
    "abcd_combat['run'] = 1\n",
    "abcd_combat['session'] = abcd_combat['tp'].map({'T0': 1, 'T2': 2})\n",
    "\n",
    "# remove unnecessary columns\n",
    "abcd_combat.drop(columns=['age_mon', 'site_str', 'interview_date', 'preterm', 'sex_code','both_tp', 'tp'], inplace=True)\n",
    "\n",
    "# reshape and rename some more variables\n",
    "all_idps = desikan_idps_bilateral + ctv_columns\n",
    "abcd_final = reorder_vars(['participant', 'Age', 'age_days', 'sex', 'study', 'fs_version','country', 'run', \n",
    "                            'session', 'dx'], abcd_combat, all_idps)\n",
    "abcd_final.rename(columns={'EstimatedTotalIntraCranialVol': 'eTIV'}, inplace=True)"
   ]
  },
  {
   "cell_type": "code",
   "execution_count": 51,
   "metadata": {},
   "outputs": [
    {
     "name": "stdout",
     "output_type": "stream",
     "text": [
      "ABCD timepoint 1 contains 5953 subjects.\n",
      "ABCD timepoint 2 contains 5953 subjects.\n"
     ]
    }
   ],
   "source": [
    "# split timepoints\n",
    "abcd_10 = abcd_final[abcd_final['session'] == 1]\n",
    "print(f'ABCD timepoint 1 contains {abcd_10.shape[0]} subjects.')\n",
    "abcd_12 = abcd_final[abcd_final['session'] == 2]\n",
    "print(f'ABCD timepoint 2 contains {abcd_12.shape[0]} subjects.')\n",
    "\n",
    "# save\n",
    "abcd_final.to_csv(join(abcd_out, f'ABCD_{brain_measure}_preprocessed.csv'), index=False)\n",
    "abcd_10.to_csv(join(abcd_out, f'ABCD-10_{brain_measure}_preprocessed.csv'), index=False)\n",
    "abcd_12.to_csv(join(abcd_out, f'ABCD-12_{brain_measure}_preprocessed.csv'), index=False)"
   ]
  },
  {
   "cell_type": "code",
   "execution_count": 52,
   "metadata": {},
   "outputs": [
    {
     "name": "stdout",
     "output_type": "stream",
     "text": [
      "zsh:1: bad pattern: join(abcd_out\n"
     ]
    }
   ],
   "source": [
    "# remove tmp files\n",
    "! rm -f {join(abcd_out, f'abcd_{brain_measure}_scanner_corrected_tmp.csv')}\n",
    "! rm -f {join(abcd_out, f'abcd_ctv_scanner_corrected_tmp.csv')}"
   ]
  },
  {
   "cell_type": "markdown",
   "metadata": {},
   "source": [
    "# Stats\n",
    "Summary stats shown in Supp Table S1."
   ]
  },
  {
   "cell_type": "code",
   "execution_count": 53,
   "metadata": {},
   "outputs": [
    {
     "name": "stdout",
     "output_type": "stream",
     "text": [
      "Overall number of unique subjects with longitudinal data: n = 5953\n",
      "--- ABCD-10 ---\n",
      "Preterm stats: n =  191\n",
      "Male      102\n",
      "Female     89\n",
      "Name: sex, dtype: int64\n"
     ]
    },
    {
     "data": {
      "text/html": [
       "<div>\n",
       "<style scoped>\n",
       "    .dataframe tbody tr th:only-of-type {\n",
       "        vertical-align: middle;\n",
       "    }\n",
       "\n",
       "    .dataframe tbody tr th {\n",
       "        vertical-align: top;\n",
       "    }\n",
       "\n",
       "    .dataframe thead th {\n",
       "        text-align: right;\n",
       "    }\n",
       "</style>\n",
       "<table border=\"1\" class=\"dataframe\">\n",
       "  <thead>\n",
       "    <tr style=\"text-align: right;\">\n",
       "      <th></th>\n",
       "      <th>Age</th>\n",
       "      <th>GA</th>\n",
       "    </tr>\n",
       "  </thead>\n",
       "  <tbody>\n",
       "    <tr>\n",
       "      <th>count</th>\n",
       "      <td>191.00</td>\n",
       "      <td>191.00</td>\n",
       "    </tr>\n",
       "    <tr>\n",
       "      <th>mean</th>\n",
       "      <td>9.99</td>\n",
       "      <td>30.75</td>\n",
       "    </tr>\n",
       "    <tr>\n",
       "      <th>std</th>\n",
       "      <td>0.60</td>\n",
       "      <td>1.83</td>\n",
       "    </tr>\n",
       "    <tr>\n",
       "      <th>min</th>\n",
       "      <td>9.00</td>\n",
       "      <td>27.00</td>\n",
       "    </tr>\n",
       "    <tr>\n",
       "      <th>25%</th>\n",
       "      <td>9.50</td>\n",
       "      <td>30.00</td>\n",
       "    </tr>\n",
       "    <tr>\n",
       "      <th>50%</th>\n",
       "      <td>10.00</td>\n",
       "      <td>32.00</td>\n",
       "    </tr>\n",
       "    <tr>\n",
       "      <th>75%</th>\n",
       "      <td>10.58</td>\n",
       "      <td>32.00</td>\n",
       "    </tr>\n",
       "    <tr>\n",
       "      <th>max</th>\n",
       "      <td>10.92</td>\n",
       "      <td>32.00</td>\n",
       "    </tr>\n",
       "  </tbody>\n",
       "</table>\n",
       "</div>"
      ],
      "text/plain": [
       "          Age      GA\n",
       "count  191.00  191.00\n",
       "mean     9.99   30.75\n",
       "std      0.60    1.83\n",
       "min      9.00   27.00\n",
       "25%      9.50   30.00\n",
       "50%     10.00   32.00\n",
       "75%     10.58   32.00\n",
       "max     10.92   32.00"
      ]
     },
     "metadata": {},
     "output_type": "display_data"
    },
    {
     "name": "stdout",
     "output_type": "stream",
     "text": [
      "Full-term stats: n =  5762\n",
      "Male      3051\n",
      "Female    2711\n",
      "Name: sex, dtype: int64\n"
     ]
    },
    {
     "data": {
      "text/html": [
       "<div>\n",
       "<style scoped>\n",
       "    .dataframe tbody tr th:only-of-type {\n",
       "        vertical-align: middle;\n",
       "    }\n",
       "\n",
       "    .dataframe tbody tr th {\n",
       "        vertical-align: top;\n",
       "    }\n",
       "\n",
       "    .dataframe thead th {\n",
       "        text-align: right;\n",
       "    }\n",
       "</style>\n",
       "<table border=\"1\" class=\"dataframe\">\n",
       "  <thead>\n",
       "    <tr style=\"text-align: right;\">\n",
       "      <th></th>\n",
       "      <th>Age</th>\n",
       "      <th>GA</th>\n",
       "    </tr>\n",
       "  </thead>\n",
       "  <tbody>\n",
       "    <tr>\n",
       "      <th>count</th>\n",
       "      <td>5762.00</td>\n",
       "      <td>5762.00</td>\n",
       "    </tr>\n",
       "    <tr>\n",
       "      <th>mean</th>\n",
       "      <td>9.90</td>\n",
       "      <td>39.86</td>\n",
       "    </tr>\n",
       "    <tr>\n",
       "      <th>std</th>\n",
       "      <td>0.62</td>\n",
       "      <td>0.60</td>\n",
       "    </tr>\n",
       "    <tr>\n",
       "      <th>min</th>\n",
       "      <td>8.92</td>\n",
       "      <td>37.00</td>\n",
       "    </tr>\n",
       "    <tr>\n",
       "      <th>25%</th>\n",
       "      <td>9.33</td>\n",
       "      <td>40.00</td>\n",
       "    </tr>\n",
       "    <tr>\n",
       "      <th>50%</th>\n",
       "      <td>9.92</td>\n",
       "      <td>40.00</td>\n",
       "    </tr>\n",
       "    <tr>\n",
       "      <th>75%</th>\n",
       "      <td>10.42</td>\n",
       "      <td>40.00</td>\n",
       "    </tr>\n",
       "    <tr>\n",
       "      <th>max</th>\n",
       "      <td>11.08</td>\n",
       "      <td>40.00</td>\n",
       "    </tr>\n",
       "  </tbody>\n",
       "</table>\n",
       "</div>"
      ],
      "text/plain": [
       "           Age       GA\n",
       "count  5762.00  5762.00\n",
       "mean      9.90    39.86\n",
       "std       0.62     0.60\n",
       "min       8.92    37.00\n",
       "25%       9.33    40.00\n",
       "50%       9.92    40.00\n",
       "75%      10.42    40.00\n",
       "max      11.08    40.00"
      ]
     },
     "metadata": {},
     "output_type": "display_data"
    }
   ],
   "source": [
    "print(\"Overall number of unique subjects with longitudinal data: n =\", len(abcd[abcd.both_tp==True].id.unique()))\n",
    "print('--- ABCD-10 ---')\n",
    "\n",
    "abcd_10_pt = abcd_10[abcd_10['dx'] == 'preterm']\n",
    "abcd_10_cn = abcd_10[abcd_10['dx'] == 'CN']\n",
    "\n",
    "print('Preterm stats: n = ', len(abcd_10_pt))\n",
    "print(abcd_10_pt['sex'].value_counts())\n",
    "display(abcd_10_pt[['Age', 'GA']].describe().round(2))\n",
    "\n",
    "print('Full-term stats: n = ', len(abcd_10_cn))\n",
    "print(abcd_10_cn['sex'].value_counts())\n",
    "display(abcd_10_cn[['Age', 'GA']].describe().round(2))"
   ]
  },
  {
   "cell_type": "code",
   "execution_count": 54,
   "metadata": {},
   "outputs": [
    {
     "name": "stdout",
     "output_type": "stream",
     "text": [
      "--- ABCD-12 ---\n",
      "Preterm stats: n =  191\n",
      "Male      102\n",
      "Female     89\n",
      "Name: sex, dtype: int64\n"
     ]
    },
    {
     "data": {
      "text/html": [
       "<div>\n",
       "<style scoped>\n",
       "    .dataframe tbody tr th:only-of-type {\n",
       "        vertical-align: middle;\n",
       "    }\n",
       "\n",
       "    .dataframe tbody tr th {\n",
       "        vertical-align: top;\n",
       "    }\n",
       "\n",
       "    .dataframe thead th {\n",
       "        text-align: right;\n",
       "    }\n",
       "</style>\n",
       "<table border=\"1\" class=\"dataframe\">\n",
       "  <thead>\n",
       "    <tr style=\"text-align: right;\">\n",
       "      <th></th>\n",
       "      <th>Age</th>\n",
       "      <th>GA</th>\n",
       "    </tr>\n",
       "  </thead>\n",
       "  <tbody>\n",
       "    <tr>\n",
       "      <th>count</th>\n",
       "      <td>191.00</td>\n",
       "      <td>191.00</td>\n",
       "    </tr>\n",
       "    <tr>\n",
       "      <th>mean</th>\n",
       "      <td>12.01</td>\n",
       "      <td>30.75</td>\n",
       "    </tr>\n",
       "    <tr>\n",
       "      <th>std</th>\n",
       "      <td>0.64</td>\n",
       "      <td>1.83</td>\n",
       "    </tr>\n",
       "    <tr>\n",
       "      <th>min</th>\n",
       "      <td>10.83</td>\n",
       "      <td>27.00</td>\n",
       "    </tr>\n",
       "    <tr>\n",
       "      <th>25%</th>\n",
       "      <td>11.50</td>\n",
       "      <td>30.00</td>\n",
       "    </tr>\n",
       "    <tr>\n",
       "      <th>50%</th>\n",
       "      <td>12.00</td>\n",
       "      <td>32.00</td>\n",
       "    </tr>\n",
       "    <tr>\n",
       "      <th>75%</th>\n",
       "      <td>12.58</td>\n",
       "      <td>32.00</td>\n",
       "    </tr>\n",
       "    <tr>\n",
       "      <th>max</th>\n",
       "      <td>13.67</td>\n",
       "      <td>32.00</td>\n",
       "    </tr>\n",
       "  </tbody>\n",
       "</table>\n",
       "</div>"
      ],
      "text/plain": [
       "          Age      GA\n",
       "count  191.00  191.00\n",
       "mean    12.01   30.75\n",
       "std      0.64    1.83\n",
       "min     10.83   27.00\n",
       "25%     11.50   30.00\n",
       "50%     12.00   32.00\n",
       "75%     12.58   32.00\n",
       "max     13.67   32.00"
      ]
     },
     "metadata": {},
     "output_type": "display_data"
    },
    {
     "name": "stdout",
     "output_type": "stream",
     "text": [
      "Full-term stats: n =  5762\n",
      "Male      3051\n",
      "Female    2711\n",
      "Name: sex, dtype: int64\n"
     ]
    },
    {
     "data": {
      "text/html": [
       "<div>\n",
       "<style scoped>\n",
       "    .dataframe tbody tr th:only-of-type {\n",
       "        vertical-align: middle;\n",
       "    }\n",
       "\n",
       "    .dataframe tbody tr th {\n",
       "        vertical-align: top;\n",
       "    }\n",
       "\n",
       "    .dataframe thead th {\n",
       "        text-align: right;\n",
       "    }\n",
       "</style>\n",
       "<table border=\"1\" class=\"dataframe\">\n",
       "  <thead>\n",
       "    <tr style=\"text-align: right;\">\n",
       "      <th></th>\n",
       "      <th>Age</th>\n",
       "      <th>GA</th>\n",
       "    </tr>\n",
       "  </thead>\n",
       "  <tbody>\n",
       "    <tr>\n",
       "      <th>count</th>\n",
       "      <td>5762.00</td>\n",
       "      <td>5762.00</td>\n",
       "    </tr>\n",
       "    <tr>\n",
       "      <th>mean</th>\n",
       "      <td>11.94</td>\n",
       "      <td>39.86</td>\n",
       "    </tr>\n",
       "    <tr>\n",
       "      <th>std</th>\n",
       "      <td>0.65</td>\n",
       "      <td>0.60</td>\n",
       "    </tr>\n",
       "    <tr>\n",
       "      <th>min</th>\n",
       "      <td>10.58</td>\n",
       "      <td>37.00</td>\n",
       "    </tr>\n",
       "    <tr>\n",
       "      <th>25%</th>\n",
       "      <td>11.42</td>\n",
       "      <td>40.00</td>\n",
       "    </tr>\n",
       "    <tr>\n",
       "      <th>50%</th>\n",
       "      <td>11.92</td>\n",
       "      <td>40.00</td>\n",
       "    </tr>\n",
       "    <tr>\n",
       "      <th>75%</th>\n",
       "      <td>12.50</td>\n",
       "      <td>40.00</td>\n",
       "    </tr>\n",
       "    <tr>\n",
       "      <th>max</th>\n",
       "      <td>13.75</td>\n",
       "      <td>40.00</td>\n",
       "    </tr>\n",
       "  </tbody>\n",
       "</table>\n",
       "</div>"
      ],
      "text/plain": [
       "           Age       GA\n",
       "count  5762.00  5762.00\n",
       "mean     11.94    39.86\n",
       "std       0.65     0.60\n",
       "min      10.58    37.00\n",
       "25%      11.42    40.00\n",
       "50%      11.92    40.00\n",
       "75%      12.50    40.00\n",
       "max      13.75    40.00"
      ]
     },
     "metadata": {},
     "output_type": "display_data"
    }
   ],
   "source": [
    "print('--- ABCD-12 ---')\n",
    "\n",
    "abcd_12_pt = abcd_12[abcd_12['dx'] == 'preterm']\n",
    "abcd_12_cn = abcd_12[abcd_12['dx'] == 'CN']\n",
    "\n",
    "print('Preterm stats: n = ', len(abcd_12_pt))\n",
    "print(abcd_12_pt['sex'].value_counts())\n",
    "display(abcd_12_pt[['Age', 'GA']].describe().round(2))\n",
    "\n",
    "print('Full-term stats: n = ', len(abcd_12_cn))\n",
    "print(abcd_12_cn['sex'].value_counts())\n",
    "display(abcd_12_cn[['Age', 'GA']].describe().round(2))"
   ]
  }
 ],
 "metadata": {
  "kernelspec": {
   "display_name": ".venv",
   "language": "python",
   "name": "python3"
  },
  "language_info": {
   "codemirror_mode": {
    "name": "ipython",
    "version": 3
   },
   "file_extension": ".py",
   "mimetype": "text/x-python",
   "name": "python",
   "nbconvert_exporter": "python",
   "pygments_lexer": "ipython3",
   "version": "3.11.9"
  }
 },
 "nbformat": 4,
 "nbformat_minor": 2
}
