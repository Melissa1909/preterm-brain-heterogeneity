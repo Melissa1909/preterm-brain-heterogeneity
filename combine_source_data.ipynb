{
 "cells": [
  {
   "cell_type": "code",
   "execution_count": 1,
   "id": "90670f4b",
   "metadata": {},
   "outputs": [],
   "source": [
    "import os\n",
    "from os.path import join\n",
    "import pandas as pd\n",
    "import seaborn as sns\n",
    "\n",
    "\n",
    "source_data_dir = 'outputs/source_data'\n",
    "os.makedirs(source_data_dir, exist_ok=True)"
   ]
  },
  {
   "cell_type": "markdown",
   "id": "37436403",
   "metadata": {},
   "source": [
    "# Main\n",
    "## Figure 2"
   ]
  },
  {
   "cell_type": "code",
   "execution_count": 2,
   "id": "70944052",
   "metadata": {},
   "outputs": [],
   "source": [
    "# 2a\n",
    "fig2a = pd.read_csv(join('outputs', 'spatial_heterogeneity', 'BLS-26', 'average_dysmaturation', \n",
    "                            'BLS-26_CT_avg_dysmaturation_term-preterm_source_data.csv'), index_col=0)\n",
    "fig2a.to_csv(join(source_data_dir, 'source_Fig2a.csv'))"
   ]
  },
  {
   "cell_type": "code",
   "execution_count": 3,
   "id": "779d1376",
   "metadata": {},
   "outputs": [],
   "source": [
    "# 2b\n",
    "fig2b = pd.read_csv(join('outputs', 'spatial_heterogeneity', 'BLS-26', 'braincharts_model_adapted_CT', 'source_pop_curve_CT_rostralanteriorcingulate.csv'))\n",
    "fig2b.to_csv(join(source_data_dir, 'source_Fig2b_charts.csv'), index=False)\n",
    "\n",
    "fig2b_best = pd.read_csv(join('outputs', 'spatial_heterogeneity', 'BLS-26', \n",
    "                            'braincharts_model_adapted_CT', 'source_pop_curve_best_CT_rostralanteriorcingulate.csv'))\n",
    "fig2b_best.to_csv(join(source_data_dir, 'source_Fig2b_best.csv'), index=False)\n",
    "\n",
    "\n",
    "# code for regenerating the figure in Python\n",
    "# sns.lineplot(data=fig2b, x='Age', y='predicted_m500', color='black', label='50th', linewidth=0.8)\n",
    "# sns.lineplot(data=fig2b, x='Age', y='predicted_u975', color='grey', label='97.5th', linewidth=0.8)\n",
    "# sns.lineplot(data=fig2b, x='Age', y='predicted_l025', color='grey', label='2.5th', linewidth=0.8)\n",
    "# sns.scatterplot(data=fig2b_best, x='Age', y='CT_rostralanteriorcingulateTransformed.normalised', \n",
    "#                 palette=['black', 'red'], s=5, hue='dx')\n",
    "\n",
    "\n",
    "\n",
    "# TODO: can I add the BEST data points? Are the CI of outer centiles plotted or actually the outer centiles?"
   ]
  },
  {
   "cell_type": "code",
   "execution_count": 4,
   "id": "2e6da4ca",
   "metadata": {},
   "outputs": [],
   "source": [
    "# 2c+h\n",
    "fig2c = pd.read_csv(join('outputs', 'spatial_heterogeneity', 'BLS-26', 'braincharts_model_adapted_CT', \n",
    "                        'source_BLS-26_CT_centiles_per_subject.csv'))\n",
    "fig2c.to_csv(join(source_data_dir, 'source_Fig2c+h.csv'), index=False)"
   ]
  },
  {
   "cell_type": "code",
   "execution_count": 5,
   "id": "fc1bca67",
   "metadata": {},
   "outputs": [],
   "source": [
    "# 2d\n",
    "fig2d = pd.read_csv(join('outputs', 'spatial_heterogeneity', 'BLS-26', 'IBAP_CT', \n",
    "                        'BLS-26_CT_individual_percentage_outside_norm_source_data.csv'))\n",
    "fig2d.to_csv(join(source_data_dir, 'source_Fig2d.csv'), index=False)\n"
   ]
  },
  {
   "cell_type": "code",
   "execution_count": 6,
   "id": "c81bfac9",
   "metadata": {},
   "outputs": [],
   "source": [
    "# 2e\n",
    "fig2e = pd.read_csv(join('outputs', 'spatial_heterogeneity', 'BLS-26', 'IBAP_similarity_CT', \n",
    "                        'BLS-26_CT_binarized_extranormal_deviations_preterm_source.csv'))\n",
    "fig2e.to_csv(join(source_data_dir, 'source_Fig2e.csv'), index=False)\n"
   ]
  },
  {
   "cell_type": "code",
   "execution_count": 7,
   "id": "63578ae2",
   "metadata": {},
   "outputs": [],
   "source": [
    "# 2f\n",
    "fig2f = pd.read_csv(join('outputs', 'spatial_heterogeneity', 'BLS-26', 'IBAP_similarity_CT',\n",
    "                        'corrmatrix_bin_CT_deviations_source.csv'))\n",
    "fig2f.to_csv(join(source_data_dir, 'source_Fig2f.csv'), index=True)"
   ]
  },
  {
   "cell_type": "code",
   "execution_count": 8,
   "id": "7d51456f",
   "metadata": {},
   "outputs": [],
   "source": [
    "# 2g\n",
    "fig2g = pd.read_csv(join('outputs', 'spatial_heterogeneity', 'BLS-26', 'IBAP_similarity_CT',\n",
    "                        'corrmatrix_bin_CT_deviations_mean_rho_source.csv'))\n",
    "fig2g.to_csv(join(source_data_dir, 'source_Fig2g.csv'), index=False)"
   ]
  },
  {
   "cell_type": "markdown",
   "id": "6abf5b1e",
   "metadata": {},
   "source": [
    "## Figure 3"
   ]
  },
  {
   "cell_type": "code",
   "execution_count": 9,
   "id": "d53f5858",
   "metadata": {},
   "outputs": [],
   "source": [
    "### 3a\n",
    "# dHCP\n",
    "fig3a_dhcp = pd.read_csv(join('outputs', 'spatial_heterogeneity', 'dHCP', 'average_dysmaturation',\n",
    "                            'dHCP_CT_avg_dysmaturation_term-preterm_source_data.csv'), index_col=0)\n",
    "fig3a_dhcp.to_csv(join(source_data_dir, 'source_Fig3a_dhcp.csv'))\n",
    "\n",
    "\n",
    "# ABCD-10\n",
    "fig3a_abcd10 = pd.read_csv(join('outputs', 'spatial_heterogeneity', 'ABCD-10', 'average_dysmaturation',\n",
    "                            'ABCD-10_CT_avg_dysmaturation_term-preterm_source_data.csv'), index_col=0)\n",
    "fig3a_abcd10.to_csv(join(source_data_dir, 'source_Fig3a_abcd10.csv'))\n",
    "\n",
    "\n",
    "# ABCD-12\n",
    "fig3a_abcd12 = pd.read_csv(join('outputs', 'spatial_heterogeneity', 'ABCD-12', 'average_dysmaturation',\n",
    "                            'ABCD-12_CT_avg_dysmaturation_term-preterm_source_data.csv'), index_col=0)\n",
    "fig3a_abcd12.to_csv(join(source_data_dir, 'source_Fig3a_abcd12.csv'))\n",
    "\n",
    "\n",
    "# BLS-38\n",
    "fig3a_bls38 = pd.read_csv(join('outputs', 'spatial_heterogeneity', 'BLS-38', 'average_dysmaturation',\n",
    "                            'BLS-38_CT_avg_dysmaturation_term-preterm_source_data.csv'), index_col=0)\n",
    "fig3a_bls38.to_csv(join(source_data_dir, 'source_Fig3a_bls38.csv'))"
   ]
  },
  {
   "cell_type": "code",
   "execution_count": 10,
   "id": "8e36c930",
   "metadata": {},
   "outputs": [],
   "source": [
    "### 3b\n",
    "# dHCP\n",
    "fig3b_dhcp = pd.read_csv(join('outputs', 'spatial_heterogeneity', 'dHCP', 'IBAP_CT', \n",
    "                            'dHCP_CT_individual_percentage_outside_norm_source_data.csv'))\n",
    "fig3b_dhcp.to_csv(join(source_data_dir, 'source_Fig3b_dhcp.csv'), index=False)\n",
    "\n",
    "\n",
    "# ABCD-10\n",
    "fig3b_abcd10 = pd.read_csv(join('outputs', 'spatial_heterogeneity', 'ABCD-10', 'IBAP_CT', \n",
    "                            'ABCD-10_CT_individual_percentage_outside_norm_source_data.csv'))\n",
    "fig3b_abcd10.to_csv(join(source_data_dir, 'source_Fig3b_abcd10.csv'), index=False)\n",
    "\n",
    "\n",
    "# ABCD-12\n",
    "fig3b_abcd12 = pd.read_csv(join('outputs', 'spatial_heterogeneity', 'ABCD-12', 'IBAP_CT', \n",
    "                            'ABCD-12_CT_individual_percentage_outside_norm_source_data.csv'))\n",
    "fig3b_abcd12.to_csv(join(source_data_dir, 'source_Fig3b_abcd12.csv'), index=False)\n",
    "\n",
    "\n",
    "# BLS-38\n",
    "fig3b_bls38 = pd.read_csv(join('outputs', 'spatial_heterogeneity', 'BLS-38', 'IBAP_CT', \n",
    "                            'BLS-38_CT_individual_percentage_outside_norm_source_data.csv'))\n",
    "fig3b_bls38.to_csv(join(source_data_dir, 'source_Fig3b_bls38.csv'), index=False)"
   ]
  },
  {
   "cell_type": "code",
   "execution_count": 11,
   "id": "f40f5698",
   "metadata": {},
   "outputs": [],
   "source": [
    "### 3c\n",
    "# dHCP\n",
    "fig3c_dhcp = pd.read_csv(join('outputs', 'spatial_heterogeneity', 'dHCP', 'IBAP_similarity_CT', \n",
    "                            'corrmatrix_bin_CT_deviations_mean_rho_source.csv'))\n",
    "fig3c_dhcp.to_csv(join(source_data_dir, 'source_Fig3c_dhcp.csv'), index=False)\n",
    "\n",
    "\n",
    "# ABCD-10\n",
    "fig3c_abcd10 = pd.read_csv(join('outputs', 'spatial_heterogeneity', 'ABCD-10', 'IBAP_similarity_CT', \n",
    "                            'corrmatrix_bin_CT_deviations_mean_rho_source.csv'))\n",
    "fig3c_abcd10.to_csv(join(source_data_dir, 'source_Fig3c_abcd10.csv'), index=False)\n",
    "\n",
    "\n",
    "# ABCD-12\n",
    "fig3c_abcd12 = pd.read_csv(join('outputs', 'spatial_heterogeneity', 'ABCD-12', 'IBAP_similarity_CT', \n",
    "                            'corrmatrix_bin_CT_deviations_mean_rho_source.csv'))\n",
    "fig3c_abcd12.to_csv(join(source_data_dir, 'source_Fig3c_abcd12.csv'), index=False)\n",
    "\n",
    "\n",
    "# BLS-38\n",
    "fig3c_bls38 = pd.read_csv(join('outputs', 'spatial_heterogeneity', 'BLS-38', 'IBAP_similarity_CT', \n",
    "                            'corrmatrix_bin_CT_deviations_mean_rho_source.csv'))\n",
    "fig3c_bls38.to_csv(join(source_data_dir, 'source_Fig3c_bls38.csv'), index=False)"
   ]
  },
  {
   "cell_type": "markdown",
   "id": "7f7e3e05",
   "metadata": {},
   "source": [
    "## Figure 4"
   ]
  },
  {
   "cell_type": "code",
   "execution_count": 12,
   "id": "1dd4d811",
   "metadata": {},
   "outputs": [],
   "source": [
    "### 4a\n",
    "# dHCP\n",
    "fig4a_dhcp = pd.read_csv(join('outputs', 'spatial_heterogeneity', 'dHCP', 'average_dysmaturation',\n",
    "                            'dHCP_SA_avg_dysmaturation_term-preterm_source_data.csv'), index_col=0)\n",
    "fig4a_dhcp.to_csv(join(source_data_dir, 'source_Fig4a_dhcp.csv'))\n",
    "\n",
    "\n",
    "# ABCD-10\n",
    "fig4a_abcd10 = pd.read_csv(join('outputs', 'spatial_heterogeneity', 'ABCD-10', 'average_dysmaturation',\n",
    "                            'ABCD-10_SA_avg_dysmaturation_term-preterm_source_data.csv'), index_col=0)\n",
    "fig4a_abcd10.to_csv(join(source_data_dir, 'source_Fig4a_abcd10.csv'))\n",
    "\n",
    "# BLS-26\n",
    "fig4a_bls26 = pd.read_csv(join('outputs', 'spatial_heterogeneity', 'BLS-26', 'average_dysmaturation',\n",
    "                            'BLS-26_SA_avg_dysmaturation_term-preterm_source_data.csv'), index_col=0)\n",
    "fig4a_bls26.to_csv(join(source_data_dir, 'source_Fig4a_bls26.csv'))\n",
    "\n",
    "\n",
    "# BLS-38\n",
    "fig4a_bls38 = pd.read_csv(join('outputs', 'spatial_heterogeneity', 'BLS-38', 'average_dysmaturation',\n",
    "                            'BLS-38_SA_avg_dysmaturation_term-preterm_source_data.csv'), index_col=0)\n",
    "fig4a_bls38.to_csv(join(source_data_dir, 'source_Fig4a_bls38.csv'))"
   ]
  },
  {
   "cell_type": "code",
   "execution_count": 13,
   "id": "7cdb2c2b",
   "metadata": {},
   "outputs": [],
   "source": [
    "### 4b\n",
    "# dHCP\n",
    "fig4b_dhcp = pd.read_csv(join('outputs', 'spatial_heterogeneity', 'dHCP', 'IBAP_SA', \n",
    "                            'dHCP_SA_individual_percentage_outside_norm_source_data.csv'))\n",
    "fig4b_dhcp.to_csv(join(source_data_dir, 'source_Fig4b_dhcp.csv'), index=False)\n",
    "\n",
    "\n",
    "# ABCD-10\n",
    "fig4b_abcd10 = pd.read_csv(join('outputs', 'spatial_heterogeneity', 'ABCD-10', 'IBAP_SA', \n",
    "                            'ABCD-10_SA_individual_percentage_outside_norm_source_data.csv'))\n",
    "fig4b_abcd10.to_csv(join(source_data_dir, 'source_Fig4b_abcd10.csv'), index=False)\n",
    "\n",
    "\n",
    "# BLS-26\n",
    "fig4b_bls26 = pd.read_csv(join('outputs', 'spatial_heterogeneity', 'BLS-26', 'IBAP_SA', \n",
    "                            'BLS-26_SA_individual_percentage_outside_norm_source_data.csv'))\n",
    "fig4b_bls26.to_csv(join(source_data_dir, 'source_Fig4b_bls26.csv'), index=False)\n",
    "\n",
    "\n",
    "# BLS-38\n",
    "fig4b_bls38 = pd.read_csv(join('outputs', 'spatial_heterogeneity', 'BLS-38', 'IBAP_SA', \n",
    "                            'BLS-38_SA_individual_percentage_outside_norm_source_data.csv'))\n",
    "fig4b_bls38.to_csv(join(source_data_dir, 'source_Fig4b_bls38.csv'), index=False)"
   ]
  },
  {
   "cell_type": "code",
   "execution_count": 14,
   "id": "2965a6d2",
   "metadata": {},
   "outputs": [],
   "source": [
    "### 4c\n",
    "# dHCP\n",
    "fig4c_dhcp = pd.read_csv(join('outputs', 'spatial_heterogeneity', 'dHCP', 'IBAP_similarity_SA', \n",
    "                            'corrmatrix_bin_SA_deviations_mean_rho_source.csv'))\n",
    "fig4c_dhcp.to_csv(join(source_data_dir, 'source_Fig4c_dhcp.csv'), index=False)\n",
    "\n",
    "\n",
    "# ABCD-10\n",
    "fig4c_abcd10 = pd.read_csv(join('outputs', 'spatial_heterogeneity', 'ABCD-10', 'IBAP_similarity_SA', \n",
    "                            'corrmatrix_bin_SA_deviations_mean_rho_source.csv'))\n",
    "fig4c_abcd10.to_csv(join(source_data_dir, 'source_Fig4c_abcd10.csv'), index=False)\n",
    "\n",
    "\n",
    "# BLS-26\n",
    "fig4c_bls26 = pd.read_csv(join('outputs', 'spatial_heterogeneity', 'BLS-26', 'IBAP_similarity_SA',\n",
    "                            'corrmatrix_bin_SA_deviations_mean_rho_source.csv'))\n",
    "fig4c_bls26.to_csv(join(source_data_dir, 'source_Fig4c_bls26.csv'), index=False)\n",
    "\n",
    "\n",
    "# BLS-38\n",
    "fig4c_bls38 = pd.read_csv(join('outputs', 'spatial_heterogeneity', 'BLS-38', 'IBAP_similarity_SA',\n",
    "                            'corrmatrix_bin_SA_deviations_mean_rho_source.csv'))\n",
    "fig4c_bls38.to_csv(join(source_data_dir, 'source_Fig4c_bls38.csv'), index=False)"
   ]
  },
  {
   "cell_type": "markdown",
   "id": "72c15101",
   "metadata": {},
   "source": [
    "## Figure 5"
   ]
  },
  {
   "cell_type": "code",
   "execution_count": 15,
   "id": "51155947",
   "metadata": {},
   "outputs": [],
   "source": [
    "# dHCP\n",
    "fig5a = pd.read_csv(join('outputs', 'consistency_macroscale', 'extent', 'source_corr_dhcp_ga_extranorm.csv'))\n",
    "fig5a.to_csv(join(source_data_dir, 'source_Fig5_dhcp.csv'), index=False)"
   ]
  },
  {
   "cell_type": "code",
   "execution_count": 16,
   "id": "58e26cde",
   "metadata": {},
   "outputs": [],
   "source": [
    "# ABCD-10\n",
    "fig5b = pd.read_csv(join('outputs', 'consistency_macroscale', 'extent', 'source_corr_abcd-10_ga_extranorm.csv'))\n",
    "fig5b.to_csv(join(source_data_dir, 'source_Fig5_abcd-10.csv'), index=False)"
   ]
  },
  {
   "cell_type": "code",
   "execution_count": 17,
   "id": "d4b27669",
   "metadata": {},
   "outputs": [],
   "source": [
    "# BLS-26\n",
    "fig5c = pd.read_csv(join('outputs', 'consistency_macroscale', 'extent', 'source_corr_bls-26_ga_extranorm.csv'))\n",
    "fig5c.to_csv(join(source_data_dir, 'source_Fig5_bls-26.csv'), index=False)"
   ]
  },
  {
   "cell_type": "markdown",
   "id": "b1874771",
   "metadata": {},
   "source": [
    "## Figure 6\n",
    "Data for Figure 6b and d are provided in Supplementary Tables 5."
   ]
  },
  {
   "cell_type": "code",
   "execution_count": 18,
   "id": "3db1a9d2",
   "metadata": {},
   "outputs": [],
   "source": [
    "# 6a\n",
    "fig6a = pd.read_csv(join('outputs', 'consistency_macroscale', 'location', 'source_ABCD_SA_long.csv'))\n",
    "fig6a.to_csv(join(source_data_dir, 'source_Fig6a.csv'), index=False)"
   ]
  },
  {
   "cell_type": "code",
   "execution_count": 19,
   "id": "5946daed",
   "metadata": {},
   "outputs": [],
   "source": [
    "# 6c\n",
    "fig6c = pd.read_csv(join('outputs', 'consistency_macroscale', 'location', 'source_BLS_SA_long.csv'))\n",
    "fig6c.to_csv(join(source_data_dir, 'source_Fig6c.csv'), index=False)"
   ]
  },
  {
   "cell_type": "markdown",
   "id": "88d18074",
   "metadata": {},
   "source": [
    "## Figure 7\n",
    "### 7a"
   ]
  },
  {
   "cell_type": "code",
   "execution_count": 20,
   "id": "7188f172",
   "metadata": {},
   "outputs": [
    {
     "name": "stderr",
     "output_type": "stream",
     "text": [
      "/var/folders/tk/3rqd03yd6rqb4_przznzwzjc0000gn/T/ipykernel_8829/823445953.py:12: FutureWarning: Passing 'suffixes' which cause duplicate columns {'Unnamed: 0_x'} in the result is deprecated and will raise a MergeError in a future version.\n",
      "  merged_df = pd.merge(merged_df, df, on=\"rois\", how=\"outer\")\n",
      "/var/folders/tk/3rqd03yd6rqb4_przznzwzjc0000gn/T/ipykernel_8829/823445953.py:12: FutureWarning: Passing 'suffixes' which cause duplicate columns {'Unnamed: 0_x'} in the result is deprecated and will raise a MergeError in a future version.\n",
      "  merged_df = pd.merge(merged_df, df, on=\"rois\", how=\"outer\")\n",
      "/var/folders/tk/3rqd03yd6rqb4_przznzwzjc0000gn/T/ipykernel_8829/823445953.py:12: FutureWarning: Passing 'suffixes' which cause duplicate columns {'Unnamed: 0_x'} in the result is deprecated and will raise a MergeError in a future version.\n",
      "  merged_df = pd.merge(merged_df, df, on=\"rois\", how=\"outer\")\n"
     ]
    }
   ],
   "source": [
    "# cell maps\n",
    "celltypes=[\"Astro\", \"Endo\", \"Neuro-Ex\", \"Neuro-In\", \"Micro\", \"Oligo\", \"OPC\", \"Per\"]\n",
    "merged_df = None\n",
    "\n",
    "for cell in celltypes:\n",
    "    df = pd.read_csv(join('outputs', 'consistency_microscale',  f'expression_{cell}.csv'))\n",
    "    \n",
    "    # combine source data\n",
    "    if merged_df is None:\n",
    "            merged_df = df\n",
    "    else:\n",
    "        merged_df = pd.merge(merged_df, df, on=\"rois\", how=\"outer\") \n",
    "    \n",
    "fig7a_cells = merged_df[['rois'] + celltypes]\n",
    "\n",
    "fig7a_cells.to_csv(join(source_data_dir, 'source_Fig7a_cell_maps.csv'), index=False)"
   ]
  },
  {
   "cell_type": "code",
   "execution_count": 21,
   "id": "e4f6fb9c",
   "metadata": {},
   "outputs": [],
   "source": [
    "# corr matrix\n",
    "fig7a_corr = pd.read_csv(join('outputs', 'consistency_microscale', 'source_corr_celltypes_pt.csv'))\n",
    "fig7a_corr.to_csv(join(source_data_dir, 'source_Fig7a_corr_matrix.csv'), index=False)"
   ]
  },
  {
   "cell_type": "code",
   "execution_count": 22,
   "id": "041eca70",
   "metadata": {},
   "outputs": [],
   "source": [
    "# individual deviation maps\n",
    "fig7a_indiv = pd.read_csv(join('outputs', 'consistency_microscale', 'source_individual_brain_maps.csv'))\n",
    "fig7a_indiv.to_csv(join(source_data_dir, 'source_Fig7a_individual_brain_maps.csv'), index=False)\n"
   ]
  },
  {
   "cell_type": "markdown",
   "id": "be378326",
   "metadata": {},
   "source": [
    "### 7b"
   ]
  },
  {
   "cell_type": "code",
   "execution_count": 23,
   "id": "cbaf7775",
   "metadata": {},
   "outputs": [],
   "source": [
    "fig7b = pd.read_csv(join('outputs', 'consistency_microscale', 'source_corr_celltypes_pt_GA.csv'))\n",
    "fig7b = fig7b[['Astro', 'Endo', 'Oligo', 'OPC', 'GA']]\n",
    "fig7b.to_csv(join(source_data_dir, 'source_Fig7b.csv'), index=False)"
   ]
  },
  {
   "cell_type": "markdown",
   "id": "62de111d",
   "metadata": {},
   "source": [
    "## Figure 8"
   ]
  },
  {
   "cell_type": "code",
   "execution_count": 24,
   "id": "6420bba6",
   "metadata": {},
   "outputs": [],
   "source": [
    "# 8a\n",
    "fig8a_ct = pd.read_csv(join('outputs', 'developmental_plasticity_IQ', 'ABCD-10', 'social_env', 'source_ses_corr_cth.csv'))\n",
    "fig8a_ct.to_csv(join(source_data_dir, 'source_Fig8a_cth_ped.csv'), index=False)\n",
    "\n",
    "fig8a_sa = pd.read_csv(join('outputs', 'developmental_plasticity_IQ', 'ABCD-10', 'social_env', 'source_ses_corr_sa.csv'))\n",
    "fig8a_sa.to_csv(join(source_data_dir, 'source_Fig8a_sa_ped.csv'), index=False)"
   ]
  },
  {
   "cell_type": "code",
   "execution_count": 25,
   "id": "4f93a070",
   "metadata": {},
   "outputs": [],
   "source": [
    "# 8b\n",
    "fig8b_ses = pd.read_csv(join('outputs', 'developmental_plasticity_IQ', 'BLS-26', 'social_env', 'source_ses_corr_cth.csv'))\n",
    "fig8b_ses.to_csv(join(source_data_dir, 'source_Fig8b_cth_ses.csv'), index=False)\n",
    "\n",
    "fig8b_piri = pd.read_csv(join('outputs', 'developmental_plasticity_IQ', 'BLS-26', 'social_env', 'source_piri_corr_cth.csv'))\n",
    "fig8b_piri.to_csv(join(source_data_dir, 'source_Fig8b_cth_piri.csv'), index=False)"
   ]
  },
  {
   "cell_type": "code",
   "execution_count": 26,
   "id": "94fbb96d",
   "metadata": {},
   "outputs": [],
   "source": [
    "# 8c\n",
    "fig8c = pd.read_csv(join('outputs', 'developmental_plasticity_IQ', 'BLS-26', 'social_env', 'BLS-26_CT_moderation_GA_SES.csv'))\n",
    "fig8c.to_csv(join(source_data_dir, 'source_Fig8c.csv'), index=False)"
   ]
  },
  {
   "cell_type": "markdown",
   "id": "fb7bde6b",
   "metadata": {},
   "source": [
    "## Figure 9"
   ]
  },
  {
   "cell_type": "code",
   "execution_count": 27,
   "id": "c9c0aba8",
   "metadata": {},
   "outputs": [],
   "source": [
    "# 9a \n",
    "fig9a_ct = pd.read_csv(join('outputs', 'developmental_plasticity_IQ', 'dHCP', 'cognition', 'source_cogn_corr_cth.csv'))\n",
    "fig9a_ct.to_csv(join(source_data_dir, 'source_Fig9a_cth.csv'), index=False)\n",
    "\n",
    "fig9a_sa = pd.read_csv(join('outputs', 'developmental_plasticity_IQ', 'dHCP', 'cognition', 'source_cogn_corr_sa.csv'))\n",
    "fig9a_sa.to_csv(join(source_data_dir, 'source_Fig9a_sa.csv'), index=False)"
   ]
  },
  {
   "cell_type": "code",
   "execution_count": 28,
   "id": "c18d3f6e",
   "metadata": {},
   "outputs": [],
   "source": [
    "# 9b\n",
    "fig9b_ct = pd.read_csv(join('outputs', 'developmental_plasticity_IQ', 'ABCD-10', 'cognition', 'source_cogn_corr_cth.csv'))\n",
    "fig9b_ct.to_csv(join(source_data_dir, 'source_Fig9b_cth.csv'), index=False)\n",
    "\n",
    "fig9b_sa = pd.read_csv(join('outputs', 'developmental_plasticity_IQ', 'ABCD-10', 'cognition', 'source_cogn_corr_sa.csv'))\n",
    "fig9b_sa.to_csv(join(source_data_dir, 'source_Fig9b_sa.csv'), index=False)"
   ]
  },
  {
   "cell_type": "code",
   "execution_count": 29,
   "id": "8bc9a12b",
   "metadata": {},
   "outputs": [],
   "source": [
    "# 9c\n",
    "fig9c_ct = pd.read_csv(join('outputs', 'developmental_plasticity_IQ', 'BLS-26', 'cognition', 'source_cogn_corr_cth.csv'))\n",
    "fig9c_ct.to_csv(join(source_data_dir, 'source_Fig9c_cth.csv'), index=False)\n",
    "\n",
    "fig9c_sa = pd.read_csv(join('outputs', 'developmental_plasticity_IQ', 'BLS-26', 'cognition', 'source_cogn_corr_sa.csv'))\n",
    "fig9c_sa.to_csv(join(source_data_dir, 'source_Fig9c_sa.csv'), index=False)"
   ]
  },
  {
   "cell_type": "markdown",
   "id": "767d1639",
   "metadata": {},
   "source": [
    "## Figure 10"
   ]
  },
  {
   "cell_type": "code",
   "execution_count": 30,
   "id": "43f41570",
   "metadata": {},
   "outputs": [],
   "source": [
    "concept_fig_path = 'outputs/concept_figure'\n",
    "source_data_dir_concept = join(source_data_dir, 'source_Fig10')\n",
    "os.makedirs(source_data_dir_concept, exist_ok=True)\n",
    "\n",
    "# copy all txt files starting with 'source_' to the source data directory\n",
    "for file in os.listdir(concept_fig_path):\n",
    "    if file.startswith('source_') and file.endswith('.txt'):\n",
    "        src_file = join(concept_fig_path, file)\n",
    "        dest_file = join(source_data_dir_concept, file)\n",
    "        if os.path.exists(src_file):\n",
    "            os.rename(src_file, dest_file)  # move the file\n",
    "        else:\n",
    "            print(f\"Source file {src_file} does not exist.\")"
   ]
  },
  {
   "cell_type": "code",
   "execution_count": null,
   "id": "1335a386",
   "metadata": {},
   "outputs": [],
   "source": []
  },
  {
   "cell_type": "markdown",
   "id": "a9359211",
   "metadata": {},
   "source": [
    "# Supplement"
   ]
  },
  {
   "cell_type": "code",
   "execution_count": 31,
   "id": "ce3bb056",
   "metadata": {},
   "outputs": [],
   "source": [
    "source_data_dir_supp = 'outputs/source_data/supplementary_figures'\n",
    "os.makedirs(source_data_dir_supp, exist_ok=True)"
   ]
  },
  {
   "cell_type": "markdown",
   "id": "16c3e916",
   "metadata": {},
   "source": [
    "## Figure S1"
   ]
  },
  {
   "cell_type": "code",
   "execution_count": 34,
   "id": "e6953367",
   "metadata": {},
   "outputs": [],
   "source": [
    "# S1a\n",
    "fig_s1a_cn = pd.read_csv(join('outputs', 'supplement', 'rutherford', 'deviations_HC_CT.csv'))\n",
    "fig_s1a_cn.rename(columns={'Supranormal deviation': 'FT_sub_with_supraanormal_dev_%',\n",
    "                            'Infranormal deviation': 'FT_sub_with_infranormal_dev_%'}, inplace=True)\n",
    "\n",
    "fig_s1a_pt = pd.read_csv(join('outputs', 'supplement', 'rutherford', 'deviations_PT_CT.csv'))\n",
    "fig_s1a_pt.rename(columns={'Supranormal deviation': 'PT_sub_with_supraanormal_dev_%',\n",
    "                            'Infranormal deviation': 'PT_sub_with_infranormal_dev_%'}, inplace=True)\n",
    "\n",
    "fig_s1a = fig_s1a_cn.merge(fig_s1a_pt, on='ROI')\n",
    "fig_s1a = fig_s1a[['ROI', 'FT_sub_with_supraanormal_dev_%', 'FT_sub_with_infranormal_dev_%',\n",
    "                    'PT_sub_with_supraanormal_dev_%', 'PT_sub_with_infranormal_dev_%']]\n",
    "fig_s1a.to_csv(join(source_data_dir_supp, 'source_FigS1a.csv'), index=False)"
   ]
  },
  {
   "cell_type": "code",
   "execution_count": 35,
   "id": "861c915a",
   "metadata": {},
   "outputs": [],
   "source": [
    "# S1b\n",
    "\n",
    "fig_s1b_cn = pd.read_csv(join('outputs', 'supplement', 'rutherford', 'deviations_HC_SA.csv'))\n",
    "fig_s1b_cn.rename(columns={'Supranormal deviation': 'FT_sub_with_supraanormal_dev_%',\n",
    "                            'Infranormal deviation': 'FT_sub_with_infranormal_dev_%'}, inplace=True)\n",
    "\n",
    "fig_s1b_pt = pd.read_csv(join('outputs', 'supplement', 'rutherford', 'deviations_PT_SA.csv'))\n",
    "fig_s1b_pt.rename(columns={'Supranormal deviation': 'PT_sub_with_supraanormal_dev_%',\n",
    "                            'Infranormal deviation': 'PT_sub_with_infranormal_dev_%'}, inplace=True)\n",
    "\n",
    "fig_s1b = fig_s1b_cn.merge(fig_s1b_pt, on='ROI')\n",
    "fig_s1b = fig_s1b[['ROI', 'FT_sub_with_supraanormal_dev_%', 'FT_sub_with_infranormal_dev_%',\n",
    "                    'PT_sub_with_supraanormal_dev_%', 'PT_sub_with_infranormal_dev_%']]\n",
    "fig_s1b.to_csv(join(source_data_dir_supp, 'source_FigS1b.csv'), index=False)"
   ]
  },
  {
   "cell_type": "markdown",
   "id": "61252e36",
   "metadata": {},
   "source": [
    "## Figure S2 + S3\n",
    "Data for Figure S2 and S3can be found in Supplementary Tables S3.\n"
   ]
  },
  {
   "cell_type": "markdown",
   "id": "3825d085",
   "metadata": {},
   "source": [
    "## Figure S4"
   ]
  },
  {
   "cell_type": "code",
   "execution_count": 36,
   "id": "e09268a5",
   "metadata": {},
   "outputs": [],
   "source": [
    "### 4a\n",
    "# dHCP - CTh\n",
    "fig_s4a_dhcp = pd.read_csv(join('outputs', 'supplement', 'brain_injury', 'spatial_heterogeneity', 'dHCP', 'average_dysmaturation',\n",
    "                            'dHCP_CT_avg_dysmaturation_term-preterm_source_data.csv'), index_col=0)\n",
    "fig_s4a_dhcp.to_csv(join(source_data_dir_supp, 'source_FigS4a_dhcp_ct.csv'))\n",
    "\n",
    "\n",
    "# dHCP - SA\n",
    "fig_s4a_dhcp_sa = pd.read_csv(join('outputs', 'supplement', 'brain_injury', 'spatial_heterogeneity', 'dHCP', 'average_dysmaturation',\n",
    "                            'dHCP_SA_avg_dysmaturation_term-preterm_source_data.csv'), index_col=0)\n",
    "fig_s4a_dhcp_sa.to_csv(join(source_data_dir_supp, 'source_FigS4a_dhcp_sa.csv'))\n",
    "\n",
    "\n",
    "# BLS-26 - CTh\n",
    "fig_s4a_bls26 = pd.read_csv(join('outputs', 'supplement', 'brain_injury', 'spatial_heterogeneity', 'BLS-26', 'average_dysmaturation',\n",
    "                            'BLS-26_CT_avg_dysmaturation_term-preterm_source_data.csv'), index_col=0)\n",
    "fig_s4a_bls26.to_csv(join(source_data_dir_supp, 'source_FigS4a_bls26_ct.csv'))\n",
    "\n",
    "# BLS-26 - SA\n",
    "fig_s4a_bls26_sa = pd.read_csv(join('outputs', 'supplement', 'brain_injury', 'spatial_heterogeneity', 'BLS-26', 'average_dysmaturation',\n",
    "                            'BLS-26_SA_avg_dysmaturation_term-preterm_source_data.csv'), index_col=0)\n",
    "fig_s4a_bls26_sa.to_csv(join(source_data_dir_supp, 'source_FigS4a_bls26_sa.csv'))\n"
   ]
  },
  {
   "cell_type": "code",
   "execution_count": 37,
   "id": "f2ddad6a",
   "metadata": {},
   "outputs": [],
   "source": [
    "### S4b\n",
    "# dHCP - CTh\n",
    "fig_s4b_dhcp_ct = pd.read_csv(join('outputs', 'supplement', 'brain_injury', 'spatial_heterogeneity', 'dHCP', 'IBAP_CT', \n",
    "                            'dHCP_CT_individual_percentage_outside_norm_source_data.csv'))\n",
    "fig_s4b_dhcp_ct.to_csv(join(source_data_dir_supp, 'source_FigS4b_dhcp_ct.csv'), index=False)\n",
    "\n",
    "\n",
    "# dHCP - SA\n",
    "fig_s4b_dhcp_sa = pd.read_csv(join('outputs', 'supplement', 'brain_injury', 'spatial_heterogeneity', 'dHCP', 'IBAP_SA', \n",
    "                            'dHCP_SA_individual_percentage_outside_norm_source_data.csv'))\n",
    "fig_s4b_dhcp_sa.to_csv(join(source_data_dir_supp, 'source_FigS4b_dhcp_sa.csv'), index=False)\n",
    "\n",
    "\n",
    "# BLS-26 - CTh\n",
    "fig_s4b_bls26_ct = pd.read_csv(join('outputs', 'supplement', 'brain_injury', 'spatial_heterogeneity', 'BLS-26', 'IBAP_CT', \n",
    "                            'BLS-26_CT_individual_percentage_outside_norm_source_data.csv'))\n",
    "fig_s4b_bls26_ct.to_csv(join(source_data_dir_supp, 'source_FigS4b_bls26_ct.csv'), index=False)\n",
    "\n",
    "\n",
    "# BLS-26 - SA\n",
    "fig_s4b_bls26_sa = pd.read_csv(join('outputs', 'supplement', 'brain_injury', 'spatial_heterogeneity', 'BLS-26', 'IBAP_SA', \n",
    "                            'BLS-26_SA_individual_percentage_outside_norm_source_data.csv'))\n",
    "fig_s4b_bls26_sa.to_csv(join(source_data_dir_supp, 'source_FigS4b_bls26_sa.csv'), index=False)"
   ]
  },
  {
   "cell_type": "code",
   "execution_count": 38,
   "id": "fa6ce922",
   "metadata": {},
   "outputs": [],
   "source": [
    "### S4c\n",
    "# dHCP - CTh\n",
    "fig_s4c_dhcp_ct = pd.read_csv(join('outputs', 'spatial_heterogeneity', 'dHCP', 'IBAP_similarity_CT', \n",
    "                            'corrmatrix_bin_CT_deviations_mean_rho_source.csv'))\n",
    "fig_s4c_dhcp_ct.to_csv(join(source_data_dir_supp, 'source_FigS4c_dhcp_ct.csv'), index=False)\n",
    "\n",
    "\n",
    "# dHCP - SA\n",
    "fig_s4c_dhcp_sa = pd.read_csv(join('outputs', 'spatial_heterogeneity', 'dHCP', 'IBAP_similarity_SA', \n",
    "                            'corrmatrix_bin_SA_deviations_mean_rho_source.csv'))\n",
    "fig_s4c_dhcp_sa.to_csv(join(source_data_dir_supp, 'source_FigS4c_dhcp_sa.csv'), index=False)\n",
    "\n",
    "\n",
    "# BLS-26 - CTh\n",
    "fig_s4c_bls26_ct = pd.read_csv(join('outputs', 'spatial_heterogeneity', 'BLS-26', 'IBAP_similarity_CT',\n",
    "                            'corrmatrix_bin_CT_deviations_mean_rho_source.csv'))\n",
    "fig_s4c_bls26_ct.to_csv(join(source_data_dir_supp, 'source_FigS4c_bls26_ct.csv'), index=False)\n",
    "\n",
    "\n",
    "# BLS-26 - SA\n",
    "fig_s4c_bls26_sa = pd.read_csv(join('outputs', 'spatial_heterogeneity', 'BLS-26', 'IBAP_similarity_SA',\n",
    "                            'corrmatrix_bin_SA_deviations_mean_rho_source.csv'))\n",
    "fig_s4c_bls26_sa.to_csv(join(source_data_dir_supp, 'source_FigS4c_bls26_sa.csv'), index=False)"
   ]
  },
  {
   "cell_type": "markdown",
   "id": "68dc5aeb",
   "metadata": {},
   "source": [
    "## ? Figure S5"
   ]
  },
  {
   "cell_type": "code",
   "execution_count": null,
   "id": "8ea8f02b",
   "metadata": {},
   "outputs": [],
   "source": []
  },
  {
   "cell_type": "markdown",
   "id": "4b591f92",
   "metadata": {},
   "source": [
    "## Figure S6"
   ]
  },
  {
   "cell_type": "code",
   "execution_count": null,
   "id": "0e17ea79",
   "metadata": {},
   "outputs": [],
   "source": []
  },
  {
   "cell_type": "code",
   "execution_count": null,
   "id": "3c0acf0f",
   "metadata": {},
   "outputs": [],
   "source": []
  },
  {
   "cell_type": "markdown",
   "id": "4cf48acc",
   "metadata": {},
   "source": [
    "## Figure S12-S13\n",
    "Data are provided for main Figure 6a and 6c already."
   ]
  },
  {
   "cell_type": "markdown",
   "id": "fefe231a",
   "metadata": {},
   "source": [
    "## Figure S14"
   ]
  },
  {
   "cell_type": "code",
   "execution_count": 39,
   "id": "fcfde1d1",
   "metadata": {},
   "outputs": [],
   "source": [
    "fig_s14 = pd.read_csv(join('outputs', 'consistency_macroscale', 'location', 'source_ABCD_CT_long.csv'))\n",
    "fig_s14.to_csv(join(source_data_dir_supp, 'source_FigS14.csv'), index=False)"
   ]
  },
  {
   "cell_type": "markdown",
   "id": "137ef972",
   "metadata": {},
   "source": [
    "## Figure S15"
   ]
  },
  {
   "cell_type": "code",
   "execution_count": 40,
   "id": "2269af6d",
   "metadata": {},
   "outputs": [],
   "source": [
    "fig_s15 = pd.read_csv(join('outputs', 'consistency_macroscale', 'location', 'source_BLS_CT_long.csv'))\n",
    "fig_s15.to_csv(join(source_data_dir_supp, 'source_FigS15.csv'), index=False)"
   ]
  },
  {
   "cell_type": "markdown",
   "id": "133351e3",
   "metadata": {},
   "source": [
    "## ? Figure S16"
   ]
  },
  {
   "cell_type": "code",
   "execution_count": null,
   "id": "2c49c8e6",
   "metadata": {},
   "outputs": [],
   "source": []
  },
  {
   "cell_type": "markdown",
   "id": "bf360617",
   "metadata": {},
   "source": [
    "## Figure S17"
   ]
  },
  {
   "cell_type": "code",
   "execution_count": 41,
   "id": "1660e302",
   "metadata": {},
   "outputs": [],
   "source": [
    "# S17a\n",
    "fig_s17a = pd.read_csv(join('outputs', 'consistency_microscale', 'source_corr_celltypes_pt_filtered.csv'))\n",
    "fig_s17a.to_csv(join(source_data_dir_supp, 'source_FigS17a.csv'), index=False)\n",
    "\n",
    "\n",
    "# S17b\n",
    "fig_s17b = pd.read_csv(join('outputs', 'consistency_microscale', 'supplement_brainSMASH', \n",
    "                            'source_corr_celltypes_pt_filtered_burt2020.csv'))\n",
    "fig_s17b.to_csv(join(source_data_dir_supp, 'source_FigS17b.csv'), index=False)"
   ]
  },
  {
   "cell_type": "markdown",
   "id": "3c13709a",
   "metadata": {},
   "source": [
    "# Figure S18"
   ]
  },
  {
   "cell_type": "code",
   "execution_count": 48,
   "id": "d2a94f27",
   "metadata": {},
   "outputs": [],
   "source": [
    "# S18a\n",
    "fig_s18a_ct = pd.read_csv(join('outputs', 'developmental_plasticity_IQ', 'dHCP', 'source_PCA_loadings_CT_ordered.csv'))\n",
    "fig_s18a_ct.to_csv(join(source_data_dir_supp, 'source_FigS18a_ct.csv'), index=False)\n",
    "\n",
    "fig_s18a_sa = pd.read_csv(join('outputs', 'developmental_plasticity_IQ', 'dHCP', 'source_PCA_loadings_SA_ordered.csv'))\n",
    "fig_s18a_sa.to_csv(join(source_data_dir_supp, 'source_FigS18a_sa.csv'), index=False)"
   ]
  },
  {
   "cell_type": "code",
   "execution_count": 49,
   "id": "ec55917b",
   "metadata": {},
   "outputs": [],
   "source": [
    "# S18b\n",
    "fig_s18b_ct = pd.read_csv(join('outputs', 'developmental_plasticity_IQ', 'ABCD-10', 'source_PCA_loadings_CT_ordered.csv'))\n",
    "fig_s18b_ct.to_csv(join(source_data_dir_supp, 'source_FigS18b_ct.csv'), index=False)\n",
    "\n",
    "fig_s18b_sa = pd.read_csv(join('outputs', 'developmental_plasticity_IQ', 'ABCD-10', 'source_PCA_loadings_SA_ordered.csv'))\n",
    "fig_s18b_sa.to_csv(join(source_data_dir_supp, 'source_FigS18b_sa.csv'), index=False)\n"
   ]
  },
  {
   "cell_type": "code",
   "execution_count": 50,
   "id": "781fb253",
   "metadata": {},
   "outputs": [],
   "source": [
    "# S18c\n",
    "fig_s18c_ct = pd.read_csv(join('outputs', 'developmental_plasticity_IQ', 'BLS-26', 'source_PCA_loadings_CT_ordered.csv'))\n",
    "fig_s18c_ct.to_csv(join(source_data_dir_supp, 'source_FigS18c_ct.csv'), index=False)\n",
    "\n",
    "fig_s18c_sa = pd.read_csv(join('outputs', 'developmental_plasticity_IQ', 'BLS-26', 'source_PCA_loadings_SA_ordered.csv'))\n",
    "fig_s18c_sa.to_csv(join(source_data_dir_supp, 'source_FigS18c_sa.csv'), index=False)"
   ]
  },
  {
   "cell_type": "markdown",
   "id": "26a4ef78",
   "metadata": {},
   "source": [
    "## Figure S19"
   ]
  },
  {
   "cell_type": "code",
   "execution_count": 58,
   "id": "0d0582d4",
   "metadata": {},
   "outputs": [],
   "source": [
    "fig_s19 = pd.read_csv(join('outputs', 'developmental_plasticity_IQ', 'BLS-26', 'social_env', 'source_ses_corr_cth_supp.csv'))\n",
    "fig_s19.to_csv(join(source_data_dir_supp, 'source_FigS19.csv'), index=False)"
   ]
  },
  {
   "cell_type": "markdown",
   "id": "73958170",
   "metadata": {},
   "source": [
    "## Figure S20"
   ]
  },
  {
   "cell_type": "code",
   "execution_count": null,
   "id": "f00ff571",
   "metadata": {},
   "outputs": [],
   "source": [
    "# S20a"
   ]
  },
  {
   "cell_type": "code",
   "execution_count": null,
   "id": "9b01536e",
   "metadata": {},
   "outputs": [],
   "source": []
  },
  {
   "cell_type": "code",
   "execution_count": null,
   "id": "5d844a88",
   "metadata": {},
   "outputs": [],
   "source": []
  }
 ],
 "metadata": {
  "kernelspec": {
   "display_name": ".venv",
   "language": "python",
   "name": "python3"
  },
  "language_info": {
   "codemirror_mode": {
    "name": "ipython",
    "version": 3
   },
   "file_extension": ".py",
   "mimetype": "text/x-python",
   "name": "python",
   "nbconvert_exporter": "python",
   "pygments_lexer": "ipython3",
   "version": "3.11.9"
  }
 },
 "nbformat": 4,
 "nbformat_minor": 5
}
