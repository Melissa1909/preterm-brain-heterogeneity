{
 "cells": [
  {
   "cell_type": "code",
   "execution_count": 50,
   "id": "90670f4b",
   "metadata": {},
   "outputs": [],
   "source": [
    "import os\n",
    "from os.path import join\n",
    "import pandas as pd\n",
    "import seaborn as sns\n",
    "\n",
    "\n",
    "source_data_dir = 'outputs/source_data'\n",
    "os.makedirs(source_data_dir, exist_ok=True)\n",
    "\n",
    "source_data_dir_supp = 'outputs/source_data/supplementary_figures'\n",
    "os.makedirs(source_data_dir_supp, exist_ok=True)"
   ]
  },
  {
   "cell_type": "markdown",
   "id": "37436403",
   "metadata": {},
   "source": [
    "# Main\n",
    "## Figure 2"
   ]
  },
  {
   "cell_type": "code",
   "execution_count": 51,
   "id": "70944052",
   "metadata": {},
   "outputs": [],
   "source": [
    "# 2a\n",
    "fig2a = pd.read_csv(join('outputs', 'spatial_heterogeneity', 'BLS-26', 'average_dysmaturation', \n",
    "                            'BLS-26_CT_avg_dysmaturation_term-preterm_source_data.csv'), index_col=0)\n",
    "fig2a.to_csv(join(source_data_dir, 'source_Fig2a.csv'))"
   ]
  },
  {
   "cell_type": "code",
   "execution_count": null,
   "id": "779d1376",
   "metadata": {},
   "outputs": [],
   "source": [
    "# 2b\n",
    "fig2b = pd.read_csv(join('outputs', 'spatial_heterogeneity', 'BLS-26', 'braincharts_model_adapted_CT', 'source_pop_curve_CT_rostralanteriorcingulate.csv'))\n",
    "fig2b.to_csv(join(source_data_dir, 'source_Fig2b_charts.csv'), index=False)\n",
    "\n",
    "fig2b_best = pd.read_csv(join('outputs', 'spatial_heterogeneity', 'BLS-26', \n",
    "                            'braincharts_model_adapted_CT', 'source_pop_curve_best_CT_rostralanteriorcingulate.csv'))\n",
    "fig2b_best.to_csv(join(source_data_dir, 'source_Fig2b_bls26.csv'), index=False)\n",
    "\n",
    "\n",
    "# code for regenerating the figure in Python\n",
    "# sns.lineplot(data=fig2b, x='Age', y='predicted_m500', color='black', label='50th', linewidth=0.8)\n",
    "# sns.lineplot(data=fig2b, x='Age', y='predicted_u975', color='grey', label='97.5th', linewidth=0.8)\n",
    "# sns.lineplot(data=fig2b, x='Age', y='predicted_l025', color='grey', label='2.5th', linewidth=0.8)\n",
    "# sns.scatterplot(data=fig2b_best, x='Age', y='CT_rostralanteriorcingulateTransformed.normalised', \n",
    "#                 palette=['black', 'red'], s=5, hue='dx')\n"
   ]
  },
  {
   "cell_type": "code",
   "execution_count": 53,
   "id": "2e6da4ca",
   "metadata": {},
   "outputs": [],
   "source": [
    "# 2c+h\n",
    "fig2c = pd.read_csv(join('outputs', 'spatial_heterogeneity', 'BLS-26', 'braincharts_model_adapted_CT', \n",
    "                        'source_BLS-26_CT_centiles_per_subject.csv'))\n",
    "fig2c.to_csv(join(source_data_dir, 'source_Fig2c+h.csv'), index=False)"
   ]
  },
  {
   "cell_type": "code",
   "execution_count": 54,
   "id": "fc1bca67",
   "metadata": {},
   "outputs": [],
   "source": [
    "# 2d\n",
    "fig2d = pd.read_csv(join('outputs', 'spatial_heterogeneity', 'BLS-26', 'IBAP_CT', \n",
    "                        'BLS-26_CT_individual_percentage_outside_norm_source_data.csv'))\n",
    "fig2d.to_csv(join(source_data_dir, 'source_Fig2d.csv'), index=False)\n"
   ]
  },
  {
   "cell_type": "code",
   "execution_count": 55,
   "id": "c81bfac9",
   "metadata": {},
   "outputs": [],
   "source": [
    "# 2e\n",
    "fig2e = pd.read_csv(join('outputs', 'spatial_heterogeneity', 'BLS-26', 'IBAP_similarity_CT', \n",
    "                        'BLS-26_CT_binarized_extranormal_deviations_preterm_source.csv'))\n",
    "fig2e.to_csv(join(source_data_dir, 'source_Fig2e.csv'), index=False)\n"
   ]
  },
  {
   "cell_type": "code",
   "execution_count": 56,
   "id": "63578ae2",
   "metadata": {},
   "outputs": [],
   "source": [
    "# 2f\n",
    "fig2f = pd.read_csv(join('outputs', 'spatial_heterogeneity', 'BLS-26', 'IBAP_similarity_CT',\n",
    "                        'corrmatrix_bin_CT_deviations_source.csv'))\n",
    "fig2f.to_csv(join(source_data_dir, 'source_Fig2f.csv'), index=True)"
   ]
  },
  {
   "cell_type": "code",
   "execution_count": 57,
   "id": "7d51456f",
   "metadata": {},
   "outputs": [],
   "source": [
    "# 2g\n",
    "fig2g = pd.read_csv(join('outputs', 'spatial_heterogeneity', 'BLS-26', 'IBAP_similarity_CT',\n",
    "                        'corrmatrix_bin_CT_deviations_mean_rho_source.csv'))\n",
    "fig2g.to_csv(join(source_data_dir, 'source_Fig2g.csv'), index=False)"
   ]
  },
  {
   "cell_type": "markdown",
   "id": "6abf5b1e",
   "metadata": {},
   "source": [
    "## Figure 3"
   ]
  },
  {
   "cell_type": "code",
   "execution_count": 58,
   "id": "d53f5858",
   "metadata": {},
   "outputs": [],
   "source": [
    "### 3a\n",
    "# dHCP\n",
    "fig3a_dhcp = pd.read_csv(join('outputs', 'spatial_heterogeneity', 'dHCP', 'average_dysmaturation',\n",
    "                            'dHCP_CT_avg_dysmaturation_term-preterm_source_data.csv'), index_col=0)\n",
    "fig3a_dhcp.to_csv(join(source_data_dir, 'source_Fig3a_dhcp.csv'))\n",
    "\n",
    "\n",
    "# ABCD-10\n",
    "fig3a_abcd10 = pd.read_csv(join('outputs', 'spatial_heterogeneity', 'ABCD-10', 'average_dysmaturation',\n",
    "                            'ABCD-10_CT_avg_dysmaturation_term-preterm_source_data.csv'), index_col=0)\n",
    "fig3a_abcd10.to_csv(join(source_data_dir, 'source_Fig3a_abcd10.csv'))\n",
    "\n",
    "\n",
    "# ABCD-12\n",
    "fig3a_abcd12 = pd.read_csv(join('outputs', 'spatial_heterogeneity', 'ABCD-12', 'average_dysmaturation',\n",
    "                            'ABCD-12_CT_avg_dysmaturation_term-preterm_source_data.csv'), index_col=0)\n",
    "fig3a_abcd12.to_csv(join(source_data_dir, 'source_Fig3a_abcd12.csv'))\n",
    "\n",
    "\n",
    "# BLS-38\n",
    "fig3a_bls38 = pd.read_csv(join('outputs', 'spatial_heterogeneity', 'BLS-38', 'average_dysmaturation',\n",
    "                            'BLS-38_CT_avg_dysmaturation_term-preterm_source_data.csv'), index_col=0)\n",
    "fig3a_bls38.to_csv(join(source_data_dir, 'source_Fig3a_bls38.csv'))"
   ]
  },
  {
   "cell_type": "code",
   "execution_count": 59,
   "id": "8e36c930",
   "metadata": {},
   "outputs": [],
   "source": [
    "### 3b\n",
    "# dHCP\n",
    "fig3b_dhcp = pd.read_csv(join('outputs', 'spatial_heterogeneity', 'dHCP', 'IBAP_CT', \n",
    "                            'dHCP_CT_individual_percentage_outside_norm_source_data.csv'))\n",
    "fig3b_dhcp.to_csv(join(source_data_dir, 'source_Fig3b_dhcp.csv'), index=False)\n",
    "\n",
    "\n",
    "# ABCD-10\n",
    "fig3b_abcd10 = pd.read_csv(join('outputs', 'spatial_heterogeneity', 'ABCD-10', 'IBAP_CT', \n",
    "                            'ABCD-10_CT_individual_percentage_outside_norm_source_data.csv'))\n",
    "fig3b_abcd10.to_csv(join(source_data_dir, 'source_Fig3b_abcd10.csv'), index=False)\n",
    "\n",
    "\n",
    "# ABCD-12\n",
    "fig3b_abcd12 = pd.read_csv(join('outputs', 'spatial_heterogeneity', 'ABCD-12', 'IBAP_CT', \n",
    "                            'ABCD-12_CT_individual_percentage_outside_norm_source_data.csv'))\n",
    "fig3b_abcd12.to_csv(join(source_data_dir, 'source_Fig3b_abcd12.csv'), index=False)\n",
    "\n",
    "\n",
    "# BLS-38\n",
    "fig3b_bls38 = pd.read_csv(join('outputs', 'spatial_heterogeneity', 'BLS-38', 'IBAP_CT', \n",
    "                            'BLS-38_CT_individual_percentage_outside_norm_source_data.csv'))\n",
    "fig3b_bls38.to_csv(join(source_data_dir, 'source_Fig3b_bls38.csv'), index=False)"
   ]
  },
  {
   "cell_type": "code",
   "execution_count": 60,
   "id": "f40f5698",
   "metadata": {},
   "outputs": [],
   "source": [
    "### 3c\n",
    "# dHCP\n",
    "fig3c_dhcp = pd.read_csv(join('outputs', 'spatial_heterogeneity', 'dHCP', 'IBAP_similarity_CT', \n",
    "                            'corrmatrix_bin_CT_deviations_mean_rho_source.csv'))\n",
    "fig3c_dhcp.to_csv(join(source_data_dir, 'source_Fig3c_dhcp.csv'), index=False)\n",
    "\n",
    "\n",
    "# ABCD-10\n",
    "fig3c_abcd10 = pd.read_csv(join('outputs', 'spatial_heterogeneity', 'ABCD-10', 'IBAP_similarity_CT', \n",
    "                            'corrmatrix_bin_CT_deviations_mean_rho_source.csv'))\n",
    "fig3c_abcd10.to_csv(join(source_data_dir, 'source_Fig3c_abcd10.csv'), index=False)\n",
    "\n",
    "\n",
    "# ABCD-12\n",
    "fig3c_abcd12 = pd.read_csv(join('outputs', 'spatial_heterogeneity', 'ABCD-12', 'IBAP_similarity_CT', \n",
    "                            'corrmatrix_bin_CT_deviations_mean_rho_source.csv'))\n",
    "fig3c_abcd12.to_csv(join(source_data_dir, 'source_Fig3c_abcd12.csv'), index=False)\n",
    "\n",
    "\n",
    "# BLS-38\n",
    "fig3c_bls38 = pd.read_csv(join('outputs', 'spatial_heterogeneity', 'BLS-38', 'IBAP_similarity_CT', \n",
    "                            'corrmatrix_bin_CT_deviations_mean_rho_source.csv'))\n",
    "fig3c_bls38.to_csv(join(source_data_dir, 'source_Fig3c_bls38.csv'), index=False)"
   ]
  },
  {
   "cell_type": "markdown",
   "id": "7f7e3e05",
   "metadata": {},
   "source": [
    "## Figure 4"
   ]
  },
  {
   "cell_type": "code",
   "execution_count": 61,
   "id": "1dd4d811",
   "metadata": {},
   "outputs": [],
   "source": [
    "### 4a\n",
    "# dHCP\n",
    "fig4a_dhcp = pd.read_csv(join('outputs', 'spatial_heterogeneity', 'dHCP', 'average_dysmaturation',\n",
    "                            'dHCP_SA_avg_dysmaturation_term-preterm_source_data.csv'), index_col=0)\n",
    "fig4a_dhcp.to_csv(join(source_data_dir, 'source_Fig4a_dhcp.csv'))\n",
    "\n",
    "\n",
    "# ABCD-10\n",
    "fig4a_abcd10 = pd.read_csv(join('outputs', 'spatial_heterogeneity', 'ABCD-10', 'average_dysmaturation',\n",
    "                            'ABCD-10_SA_avg_dysmaturation_term-preterm_source_data.csv'), index_col=0)\n",
    "fig4a_abcd10.to_csv(join(source_data_dir, 'source_Fig4a_abcd10.csv'))\n",
    "\n",
    "# BLS-26\n",
    "fig4a_bls26 = pd.read_csv(join('outputs', 'spatial_heterogeneity', 'BLS-26', 'average_dysmaturation',\n",
    "                            'BLS-26_SA_avg_dysmaturation_term-preterm_source_data.csv'), index_col=0)\n",
    "fig4a_bls26.to_csv(join(source_data_dir, 'source_Fig4a_bls26.csv'))\n",
    "\n",
    "\n",
    "# BLS-38\n",
    "fig4a_bls38 = pd.read_csv(join('outputs', 'spatial_heterogeneity', 'BLS-38', 'average_dysmaturation',\n",
    "                            'BLS-38_SA_avg_dysmaturation_term-preterm_source_data.csv'), index_col=0)\n",
    "fig4a_bls38.to_csv(join(source_data_dir, 'source_Fig4a_bls38.csv'))"
   ]
  },
  {
   "cell_type": "code",
   "execution_count": 62,
   "id": "7cdb2c2b",
   "metadata": {},
   "outputs": [],
   "source": [
    "### 4b\n",
    "# dHCP\n",
    "fig4b_dhcp = pd.read_csv(join('outputs', 'spatial_heterogeneity', 'dHCP', 'IBAP_SA', \n",
    "                            'dHCP_SA_individual_percentage_outside_norm_source_data.csv'))\n",
    "fig4b_dhcp.to_csv(join(source_data_dir, 'source_Fig4b_dhcp.csv'), index=False)\n",
    "\n",
    "\n",
    "# ABCD-10\n",
    "fig4b_abcd10 = pd.read_csv(join('outputs', 'spatial_heterogeneity', 'ABCD-10', 'IBAP_SA', \n",
    "                            'ABCD-10_SA_individual_percentage_outside_norm_source_data.csv'))\n",
    "fig4b_abcd10.to_csv(join(source_data_dir, 'source_Fig4b_abcd10.csv'), index=False)\n",
    "\n",
    "\n",
    "# BLS-26\n",
    "fig4b_bls26 = pd.read_csv(join('outputs', 'spatial_heterogeneity', 'BLS-26', 'IBAP_SA', \n",
    "                            'BLS-26_SA_individual_percentage_outside_norm_source_data.csv'))\n",
    "fig4b_bls26.to_csv(join(source_data_dir, 'source_Fig4b_bls26.csv'), index=False)\n",
    "\n",
    "\n",
    "# BLS-38\n",
    "fig4b_bls38 = pd.read_csv(join('outputs', 'spatial_heterogeneity', 'BLS-38', 'IBAP_SA', \n",
    "                            'BLS-38_SA_individual_percentage_outside_norm_source_data.csv'))\n",
    "fig4b_bls38.to_csv(join(source_data_dir, 'source_Fig4b_bls38.csv'), index=False)"
   ]
  },
  {
   "cell_type": "code",
   "execution_count": 63,
   "id": "2965a6d2",
   "metadata": {},
   "outputs": [],
   "source": [
    "### 4c\n",
    "# dHCP\n",
    "fig4c_dhcp = pd.read_csv(join('outputs', 'spatial_heterogeneity', 'dHCP', 'IBAP_similarity_SA', \n",
    "                            'corrmatrix_bin_SA_deviations_mean_rho_source.csv'))\n",
    "fig4c_dhcp.to_csv(join(source_data_dir, 'source_Fig4c_dhcp.csv'), index=False)\n",
    "\n",
    "\n",
    "# ABCD-10\n",
    "fig4c_abcd10 = pd.read_csv(join('outputs', 'spatial_heterogeneity', 'ABCD-10', 'IBAP_similarity_SA', \n",
    "                            'corrmatrix_bin_SA_deviations_mean_rho_source.csv'))\n",
    "fig4c_abcd10.to_csv(join(source_data_dir, 'source_Fig4c_abcd10.csv'), index=False)\n",
    "\n",
    "\n",
    "# BLS-26\n",
    "fig4c_bls26 = pd.read_csv(join('outputs', 'spatial_heterogeneity', 'BLS-26', 'IBAP_similarity_SA',\n",
    "                            'corrmatrix_bin_SA_deviations_mean_rho_source.csv'))\n",
    "fig4c_bls26.to_csv(join(source_data_dir, 'source_Fig4c_bls26.csv'), index=False)\n",
    "\n",
    "\n",
    "# BLS-38\n",
    "fig4c_bls38 = pd.read_csv(join('outputs', 'spatial_heterogeneity', 'BLS-38', 'IBAP_similarity_SA',\n",
    "                            'corrmatrix_bin_SA_deviations_mean_rho_source.csv'))\n",
    "fig4c_bls38.to_csv(join(source_data_dir, 'source_Fig4c_bls38.csv'), index=False)"
   ]
  },
  {
   "cell_type": "markdown",
   "id": "72c15101",
   "metadata": {},
   "source": [
    "## Figure 5"
   ]
  },
  {
   "cell_type": "code",
   "execution_count": 64,
   "id": "51155947",
   "metadata": {},
   "outputs": [],
   "source": [
    "# dHCP\n",
    "fig5a = pd.read_csv(join('outputs', 'consistency_macroscale', 'extent', 'source_corr_dhcp_ga_extranorm.csv'))\n",
    "fig5a.to_csv(join(source_data_dir, 'source_Fig5_dhcp.csv'), index=False)"
   ]
  },
  {
   "cell_type": "code",
   "execution_count": 65,
   "id": "58e26cde",
   "metadata": {},
   "outputs": [],
   "source": [
    "# ABCD-10\n",
    "fig5b = pd.read_csv(join('outputs', 'consistency_macroscale', 'extent', 'source_corr_abcd-10_ga_extranorm.csv'))\n",
    "fig5b.to_csv(join(source_data_dir, 'source_Fig5_abcd-10.csv'), index=False)"
   ]
  },
  {
   "cell_type": "code",
   "execution_count": 66,
   "id": "d4b27669",
   "metadata": {},
   "outputs": [],
   "source": [
    "# BLS-26\n",
    "fig5c = pd.read_csv(join('outputs', 'consistency_macroscale', 'extent', 'source_corr_bls-26_ga_extranorm.csv'))\n",
    "fig5c.to_csv(join(source_data_dir, 'source_Fig5_bls-26.csv'), index=False)"
   ]
  },
  {
   "cell_type": "markdown",
   "id": "b1874771",
   "metadata": {},
   "source": [
    "## Figure 6 + Supp Fig S14-15 (extensions)\n",
    "Data for Figure 6b and d are provided in Supplementary Tables 5."
   ]
  },
  {
   "cell_type": "code",
   "execution_count": 67,
   "id": "3db1a9d2",
   "metadata": {},
   "outputs": [],
   "source": [
    "# 6a\n",
    "fig6a = pd.read_csv(join('outputs', 'consistency_macroscale', 'location', 'source_ABCD_SA_long.csv'))\n",
    "fig6a.to_csv(join(source_data_dir, 'source_Fig6a.csv'), index=False)"
   ]
  },
  {
   "cell_type": "code",
   "execution_count": 68,
   "id": "5946daed",
   "metadata": {},
   "outputs": [],
   "source": [
    "# 6b\n",
    "fig6b = pd.read_csv(join('outputs', 'consistency_macroscale', 'location', 'source_BLS_SA_long.csv'))\n",
    "fig6b.to_csv(join(source_data_dir, 'source_Fig6b.csv'), index=False)"
   ]
  },
  {
   "cell_type": "code",
   "execution_count": 69,
   "id": "50b33aaa",
   "metadata": {},
   "outputs": [],
   "source": [
    "# save the same data as S14 and S15 to not confuse people\n",
    "fig6a.to_csv(join(source_data_dir_supp, 'source_FigS14.csv'), index=False)\n",
    "fig6b.to_csv(join(source_data_dir_supp, 'source_FigS15.csv'), index=False)"
   ]
  },
  {
   "cell_type": "markdown",
   "id": "88d18074",
   "metadata": {},
   "source": [
    "## Figure 7\n",
    "### 7a"
   ]
  },
  {
   "cell_type": "code",
   "execution_count": 70,
   "id": "7188f172",
   "metadata": {},
   "outputs": [
    {
     "name": "stderr",
     "output_type": "stream",
     "text": [
      "/var/folders/tk/3rqd03yd6rqb4_przznzwzjc0000gn/T/ipykernel_23104/2194065031.py:12: FutureWarning: Passing 'suffixes' which cause duplicate columns {'Unnamed: 0_x'} in the result is deprecated and will raise a MergeError in a future version.\n",
      "  merged_df = pd.merge(merged_df, df, on=\"rois\", how=\"outer\")\n",
      "/var/folders/tk/3rqd03yd6rqb4_przznzwzjc0000gn/T/ipykernel_23104/2194065031.py:12: FutureWarning: Passing 'suffixes' which cause duplicate columns {'Unnamed: 0_x'} in the result is deprecated and will raise a MergeError in a future version.\n",
      "  merged_df = pd.merge(merged_df, df, on=\"rois\", how=\"outer\")\n",
      "/var/folders/tk/3rqd03yd6rqb4_przznzwzjc0000gn/T/ipykernel_23104/2194065031.py:12: FutureWarning: Passing 'suffixes' which cause duplicate columns {'Unnamed: 0_x'} in the result is deprecated and will raise a MergeError in a future version.\n",
      "  merged_df = pd.merge(merged_df, df, on=\"rois\", how=\"outer\")\n"
     ]
    }
   ],
   "source": [
    "# cell maps\n",
    "celltypes=[\"Astro\", \"Endo\", \"Neuro-Ex\", \"Neuro-In\", \"Micro\", \"Oligo\", \"OPC\", \"Per\"]\n",
    "merged_df = None\n",
    "\n",
    "for cell in celltypes:\n",
    "        df = pd.read_csv(join('outputs', 'consistency_microscale',  f'expression_{cell}.csv'))\n",
    "        \n",
    "        # combine source data\n",
    "        if merged_df is None:\n",
    "                merged_df = df\n",
    "        else:\n",
    "                merged_df = pd.merge(merged_df, df, on=\"rois\", how=\"outer\") \n",
    "        \n",
    "fig7a_cells = merged_df[['rois'] + celltypes]\n",
    "\n",
    "fig7a_cells.to_csv(join(source_data_dir, 'source_Fig7a_cell_maps.csv'), index=False)"
   ]
  },
  {
   "cell_type": "code",
   "execution_count": 71,
   "id": "e4f6fb9c",
   "metadata": {},
   "outputs": [],
   "source": [
    "# corr matrix\n",
    "fig7a_corr = pd.read_csv(join('outputs', 'consistency_microscale', 'source_corr_celltypes_pt.csv'))\n",
    "fig7a_corr.to_csv(join(source_data_dir, 'source_Fig7a_corr_matrix.csv'), index=False)"
   ]
  },
  {
   "cell_type": "code",
   "execution_count": 72,
   "id": "041eca70",
   "metadata": {},
   "outputs": [],
   "source": [
    "# individual deviation maps\n",
    "fig7a_indiv = pd.read_csv(join('outputs', 'consistency_microscale', 'source_individual_brain_maps.csv'))\n",
    "fig7a_indiv.to_csv(join(source_data_dir, 'source_Fig7a_individual_brain_maps.csv'), index=False)\n"
   ]
  },
  {
   "cell_type": "markdown",
   "id": "be378326",
   "metadata": {},
   "source": [
    "### 7b"
   ]
  },
  {
   "cell_type": "code",
   "execution_count": 73,
   "id": "cbaf7775",
   "metadata": {},
   "outputs": [],
   "source": [
    "fig7b = pd.read_csv(join('outputs', 'consistency_microscale', 'source_corr_celltypes_pt_GA.csv'))\n",
    "fig7b = fig7b[['Astro', 'Endo', 'Oligo', 'OPC', 'GA']]\n",
    "fig7b.to_csv(join(source_data_dir, 'source_Fig7b.csv'), index=False)"
   ]
  },
  {
   "cell_type": "markdown",
   "id": "62de111d",
   "metadata": {},
   "source": [
    "## Figure 8"
   ]
  },
  {
   "cell_type": "code",
   "execution_count": 74,
   "id": "6420bba6",
   "metadata": {},
   "outputs": [],
   "source": [
    "# 8a\n",
    "fig8a_ct = pd.read_csv(join('outputs', 'developmental_plasticity_IQ', 'ABCD-10', 'social_env', 'source_ses_corr_cth.csv'))\n",
    "fig8a_ct.to_csv(join(source_data_dir, 'source_Fig8a_cth_ses.csv'), index=False)\n",
    "\n",
    "fig8a_sa = pd.read_csv(join('outputs', 'developmental_plasticity_IQ', 'ABCD-10', 'social_env', 'source_ses_corr_sa.csv'))\n",
    "fig8a_sa.to_csv(join(source_data_dir, 'source_Fig8a_sa_ses.csv'), index=False)"
   ]
  },
  {
   "cell_type": "code",
   "execution_count": 75,
   "id": "4f93a070",
   "metadata": {},
   "outputs": [],
   "source": [
    "# 8b\n",
    "fig8b_ses = pd.read_csv(join('outputs', 'developmental_plasticity_IQ', 'BLS-26', 'social_env', 'source_ses_corr_cth.csv'))\n",
    "fig8b_ses.to_csv(join(source_data_dir, 'source_Fig8b_cth_ses.csv'), index=False)\n",
    "\n",
    "fig8b_piri = pd.read_csv(join('outputs', 'developmental_plasticity_IQ', 'BLS-26', 'social_env', 'source_piri_corr_cth.csv'))\n",
    "fig8b_piri.to_csv(join(source_data_dir, 'source_Fig8b_cth_piri.csv'), index=False)"
   ]
  },
  {
   "cell_type": "code",
   "execution_count": 76,
   "id": "94fbb96d",
   "metadata": {},
   "outputs": [],
   "source": [
    "# 8c\n",
    "fig8c = pd.read_csv(join('outputs', 'developmental_plasticity_IQ', 'BLS-26', 'social_env', 'BLS-26_CT_moderation_GA_SES.csv'))\n",
    "fig8c.to_csv(join(source_data_dir, 'source_Fig8c.csv'), index=False)"
   ]
  },
  {
   "cell_type": "markdown",
   "id": "fb7bde6b",
   "metadata": {},
   "source": [
    "## Figure 9"
   ]
  },
  {
   "cell_type": "code",
   "execution_count": 77,
   "id": "c9c0aba8",
   "metadata": {},
   "outputs": [],
   "source": [
    "# 9a \n",
    "fig9a_ct = pd.read_csv(join('outputs', 'developmental_plasticity_IQ', 'dHCP', 'cognition', 'source_cogn_corr_cth.csv'))\n",
    "fig9a_ct.to_csv(join(source_data_dir, 'source_Fig9a_cth.csv'), index=False)\n",
    "\n",
    "fig9a_sa = pd.read_csv(join('outputs', 'developmental_plasticity_IQ', 'dHCP', 'cognition', 'source_cogn_corr_sa.csv'))\n",
    "fig9a_sa.to_csv(join(source_data_dir, 'source_Fig9a_sa.csv'), index=False)"
   ]
  },
  {
   "cell_type": "code",
   "execution_count": 78,
   "id": "c18d3f6e",
   "metadata": {},
   "outputs": [],
   "source": [
    "# 9b\n",
    "fig9b_ct = pd.read_csv(join('outputs', 'developmental_plasticity_IQ', 'ABCD-10', 'cognition', 'source_cogn_corr_cth.csv'))\n",
    "fig9b_ct.to_csv(join(source_data_dir, 'source_Fig9b_cth.csv'), index=False)\n",
    "\n",
    "fig9b_sa = pd.read_csv(join('outputs', 'developmental_plasticity_IQ', 'ABCD-10', 'cognition', 'source_cogn_corr_sa.csv'))\n",
    "fig9b_sa.to_csv(join(source_data_dir, 'source_Fig9b_sa.csv'), index=False)"
   ]
  },
  {
   "cell_type": "code",
   "execution_count": 79,
   "id": "8bc9a12b",
   "metadata": {},
   "outputs": [],
   "source": [
    "# 9c\n",
    "fig9c_ct = pd.read_csv(join('outputs', 'developmental_plasticity_IQ', 'BLS-26', 'cognition', 'source_cogn_corr_cth.csv'))\n",
    "fig9c_ct.to_csv(join(source_data_dir, 'source_Fig9c_cth.csv'), index=False)\n",
    "\n",
    "fig9c_sa = pd.read_csv(join('outputs', 'developmental_plasticity_IQ', 'BLS-26', 'cognition', 'source_cogn_corr_sa.csv'))\n",
    "fig9c_sa.to_csv(join(source_data_dir, 'source_Fig9c_sa.csv'), index=False)"
   ]
  },
  {
   "cell_type": "markdown",
   "id": "767d1639",
   "metadata": {},
   "source": [
    "## Figure 10"
   ]
  },
  {
   "cell_type": "code",
   "execution_count": 80,
   "id": "43f41570",
   "metadata": {},
   "outputs": [],
   "source": [
    "concept_fig_path = 'outputs/concept_figure'\n",
    "source_data_dir_concept = join(source_data_dir, 'source_Fig10')\n",
    "os.makedirs(source_data_dir_concept, exist_ok=True)\n",
    "\n",
    "# copy all txt files starting with 'source_' to the source data directory\n",
    "for file in os.listdir(concept_fig_path):\n",
    "    if file.startswith('source_') and file.endswith('.txt'):\n",
    "        src_file = join(concept_fig_path, file)\n",
    "        dest_file = join(source_data_dir_concept, file)\n",
    "        if os.path.exists(src_file):\n",
    "            os.rename(src_file, dest_file)  # move the file\n",
    "        else:\n",
    "            print(f\"Source file {src_file} does not exist.\")"
   ]
  },
  {
   "cell_type": "code",
   "execution_count": null,
   "id": "1335a386",
   "metadata": {},
   "outputs": [],
   "source": []
  },
  {
   "cell_type": "markdown",
   "id": "a9359211",
   "metadata": {},
   "source": [
    "# Supplement"
   ]
  },
  {
   "cell_type": "markdown",
   "id": "16c3e916",
   "metadata": {},
   "source": [
    "## Figure S1"
   ]
  },
  {
   "cell_type": "code",
   "execution_count": 81,
   "id": "b148bc37",
   "metadata": {},
   "outputs": [],
   "source": [
    "### 1a\n",
    "# dHCP - CTh\n",
    "fig_s1a_dhcp = pd.read_csv(join('outputs', 'supplement', 'brain_injury', 'spatial_heterogeneity', 'dHCP', 'average_dysmaturation',\n",
    "                            'dHCP_CT_avg_dysmaturation_term-preterm_source_data.csv'), index_col=0)\n",
    "fig_s1a_dhcp.to_csv(join(source_data_dir_supp, 'source_FigS1a_dhcp_ct.csv'))\n",
    "\n",
    "\n",
    "# dHCP - SA\n",
    "fig_s1a_dhcp_sa = pd.read_csv(join('outputs', 'supplement', 'brain_injury', 'spatial_heterogeneity', 'dHCP', 'average_dysmaturation',\n",
    "                            'dHCP_SA_avg_dysmaturation_term-preterm_source_data.csv'), index_col=0)\n",
    "fig_s1a_dhcp_sa.to_csv(join(source_data_dir_supp, 'source_FigS1a_dhcp_sa.csv'))\n",
    "\n",
    "\n",
    "# BLS-26 - CTh\n",
    "fig_s1a_bls26 = pd.read_csv(join('outputs', 'supplement', 'brain_injury', 'spatial_heterogeneity', 'BLS-26', 'average_dysmaturation',\n",
    "                            'BLS-26_CT_avg_dysmaturation_term-preterm_source_data.csv'), index_col=0)\n",
    "fig_s1a_bls26.to_csv(join(source_data_dir_supp, 'source_FigS1a_bls26_ct.csv'))\n",
    "\n",
    "# BLS-26 - SA\n",
    "fig_s1a_bls26_sa = pd.read_csv(join('outputs', 'supplement', 'brain_injury', 'spatial_heterogeneity', 'BLS-26', 'average_dysmaturation',\n",
    "                            'BLS-26_SA_avg_dysmaturation_term-preterm_source_data.csv'), index_col=0)\n",
    "fig_s1a_bls26_sa.to_csv(join(source_data_dir_supp, 'source_FigS1a_bls26_sa.csv'))"
   ]
  },
  {
   "cell_type": "code",
   "execution_count": 82,
   "id": "eb9ebc24",
   "metadata": {},
   "outputs": [],
   "source": [
    "### S1b\n",
    "# dHCP - CTh\n",
    "fig_s1b_dhcp_ct = pd.read_csv(join('outputs', 'supplement', 'brain_injury', 'spatial_heterogeneity', 'dHCP', 'IBAP_CT', \n",
    "                            'dHCP_CT_individual_percentage_outside_norm_source_data.csv'))\n",
    "fig_s1b_dhcp_ct.to_csv(join(source_data_dir_supp, 'source_FigS1b_dhcp_ct.csv'), index=False)\n",
    "\n",
    "\n",
    "# dHCP - SA\n",
    "fig_s1b_dhcp_sa = pd.read_csv(join('outputs', 'supplement', 'brain_injury', 'spatial_heterogeneity', 'dHCP', 'IBAP_SA', \n",
    "                            'dHCP_SA_individual_percentage_outside_norm_source_data.csv'))\n",
    "fig_s1b_dhcp_sa.to_csv(join(source_data_dir_supp, 'source_FigS1b_dhcp_sa.csv'), index=False)\n",
    "\n",
    "\n",
    "# BLS-26 - CTh\n",
    "fig_s1b_bls26_ct = pd.read_csv(join('outputs', 'supplement', 'brain_injury', 'spatial_heterogeneity', 'BLS-26', 'IBAP_CT', \n",
    "                            'BLS-26_CT_individual_percentage_outside_norm_source_data.csv'))\n",
    "fig_s1b_bls26_ct.to_csv(join(source_data_dir_supp, 'source_FigS1b_bls26_ct.csv'), index=False)\n",
    "\n",
    "\n",
    "# BLS-26 - SA\n",
    "fig_s1b_bls26_sa = pd.read_csv(join('outputs', 'supplement', 'brain_injury', 'spatial_heterogeneity', 'BLS-26', 'IBAP_SA', \n",
    "                            'BLS-26_SA_individual_percentage_outside_norm_source_data.csv'))\n",
    "fig_s1b_bls26_sa.to_csv(join(source_data_dir_supp, 'source_FigS1b_bls26_sa.csv'), index=False)"
   ]
  },
  {
   "cell_type": "code",
   "execution_count": 83,
   "id": "3d50fd5f",
   "metadata": {},
   "outputs": [],
   "source": [
    "### S1c\n",
    "# dHCP - CTh\n",
    "fig_s1c_dhcp_ct = pd.read_csv(join('outputs',  'supplement', 'brain_injury', 'spatial_heterogeneity', 'dHCP', 'IBAP_similarity_CT', \n",
    "                            'corrmatrix_bin_CT_deviations_mean_rho_source.csv'))\n",
    "fig_s1c_dhcp_ct.to_csv(join(source_data_dir_supp, 'source_FigS1c_dhcp_ct.csv'), index=False)\n",
    "\n",
    "\n",
    "# dHCP - SA\n",
    "fig_s1c_dhcp_sa = pd.read_csv(join('outputs',  'supplement', 'brain_injury', 'spatial_heterogeneity', 'dHCP', 'IBAP_similarity_SA', \n",
    "                            'corrmatrix_bin_SA_deviations_mean_rho_source.csv'))\n",
    "fig_s1c_dhcp_sa.to_csv(join(source_data_dir_supp, 'source_FigS1c_dhcp_sa.csv'), index=False)\n",
    "\n",
    "\n",
    "# BLS-26 - CTh\n",
    "fig_s1c_bls26_ct = pd.read_csv(join('outputs',  'supplement', 'brain_injury', 'spatial_heterogeneity', 'BLS-26', 'IBAP_similarity_CT',\n",
    "                            'corrmatrix_bin_CT_deviations_mean_rho_source.csv'))\n",
    "fig_s1c_bls26_ct.to_csv(join(source_data_dir_supp, 'source_FigS1c_bls26_ct.csv'), index=False)\n",
    "\n",
    "\n",
    "# BLS-26 - SA\n",
    "fig_s1c_bls26_sa = pd.read_csv(join('outputs',  'supplement', 'brain_injury', 'spatial_heterogeneity', 'BLS-26', 'IBAP_similarity_SA',\n",
    "                            'corrmatrix_bin_SA_deviations_mean_rho_source.csv'))\n",
    "fig_s1c_bls26_sa.to_csv(join(source_data_dir_supp, 'source_FigS1c_bls26_sa.csv'), index=False)"
   ]
  },
  {
   "cell_type": "code",
   "execution_count": 84,
   "id": "a27ae968",
   "metadata": {},
   "outputs": [],
   "source": [
    "### S1d\n",
    "# dHCP - CTh\n",
    "fig_s1d_dhcp_ct = pd.read_csv(join('outputs', 'supplement', 'brain_injury', 'cognition', 'dHCP', \n",
    "                            'source_cogn_corr_ct.csv'))\n",
    "fig_s1d_dhcp_ct.to_csv(join(source_data_dir_supp, 'source_FigS1d_dhcp_ct.csv'), index=False)\n",
    "\n",
    "\n",
    "# dHCP - SA\n",
    "fig_s1d_dhcp_sa = pd.read_csv(join('outputs', 'supplement', 'brain_injury', 'cognition', 'dHCP', \n",
    "                            'source_cogn_corr_sa.csv'))\n",
    "fig_s1d_dhcp_sa.to_csv(join(source_data_dir_supp, 'source_FigS1d_dhcp_sa.csv'), index=False)\n",
    "\n",
    "\n",
    "# BLS-26 - CTh\n",
    "fig_s1d_bls26_ct = pd.read_csv(join('outputs', 'supplement', 'brain_injury', 'cognition', 'BLS-26', \n",
    "                            'source_cogn_corr_ct.csv'))\n",
    "fig_s1d_bls26_ct.to_csv(join(source_data_dir_supp, 'source_FigS1d_bls26_ct.csv'), index=False)\n",
    "\n",
    "\n",
    "# BLS-26 - SA\n",
    "fig_s1d_bls26_sa = pd.read_csv(join('outputs', 'supplement', 'brain_injury', 'cognition', 'BLS-26', \n",
    "                            'source_cogn_corr_sa.csv'))\n",
    "fig_s1d_bls26_sa.to_csv(join(source_data_dir_supp, 'source_FigS1d_bls26_sa.csv'), index=False)\n"
   ]
  },
  {
   "cell_type": "markdown",
   "id": "e8a1951f",
   "metadata": {},
   "source": [
    "## Figure S2"
   ]
  },
  {
   "cell_type": "code",
   "execution_count": 85,
   "id": "e6953367",
   "metadata": {},
   "outputs": [],
   "source": [
    "# S2a\n",
    "fig_s2a_cn = pd.read_csv(join('outputs', 'supplement', 'rutherford', 'deviations_HC_CT.csv'))\n",
    "fig_s2a_pt = pd.read_csv(join('outputs', 'supplement', 'rutherford', 'deviations_PT_CT.csv'))\n",
    "\n",
    "fig_s2a = fig_s2a_cn.merge(fig_s2a_pt, on='rois')\n",
    "fig_s2a.rename(columns={'infranormal_ft': 'FT_sub_with_infraanormal_dev_%',\n",
    "                        'supranormal_ft': 'FT_sub_with_supraanormal_dev_%',\n",
    "                        'infranormal_pt': 'PT_sub_with_infraanormal_dev_%',\n",
    "                        'supranormal_pt': 'PT_sub_with_supraanormal_dev_%'}, inplace=True)\n",
    "fig_s2a.to_csv(join(source_data_dir_supp, 'source_FigS2a.csv'), index=False)"
   ]
  },
  {
   "cell_type": "code",
   "execution_count": 86,
   "id": "861c915a",
   "metadata": {},
   "outputs": [],
   "source": [
    "# S2b\n",
    "fig_s2b_cn = pd.read_csv(join('outputs', 'supplement', 'rutherford', 'deviations_HC_SA.csv'))\n",
    "fig_s2b_pt = pd.read_csv(join('outputs', 'supplement', 'rutherford', 'deviations_PT_SA.csv'))\n",
    "\n",
    "\n",
    "fig_s2b = fig_s2b_cn.merge(fig_s2b_pt, on='rois')\n",
    "fig_s2b.rename(columns={'infranormal_ft': 'FT_sub_with_infraanormal_dev_%',\n",
    "                        'supranormal_ft': 'FT_sub_with_supraanormal_dev_%',\n",
    "                        'infranormal_pt': 'PT_sub_with_infraanormal_dev_%',\n",
    "                        'supranormal_pt': 'PT_sub_with_supraanormal_dev_%'}, inplace=True)\n",
    "fig_s2b.to_csv(join(source_data_dir_supp, 'source_FigS2b.csv'), index=False)"
   ]
  },
  {
   "cell_type": "markdown",
   "id": "61252e36",
   "metadata": {},
   "source": [
    "## Figure S3 + S4\n",
    "Data for Figure S3 and 4 can be found in Supplementary Tables S4.\n"
   ]
  },
  {
   "cell_type": "markdown",
   "id": "68dc5aeb",
   "metadata": {},
   "source": [
    "## Figure S5"
   ]
  },
  {
   "cell_type": "code",
   "execution_count": 87,
   "id": "8ea8f02b",
   "metadata": {},
   "outputs": [],
   "source": [
    "# S5a\n",
    "fig_s5a_u = pd.read_csv(join('outputs', 'spatial_heterogeneity', 'dHCP', 'IBAP_similarity_CT', \n",
    "                                'supplement', 'source_CT_deviations_pt.csv'))\n",
    "fig_s5a_l = pd.read_csv(join('outputs', 'spatial_heterogeneity', 'dHCP', 'IBAP_similarity_CT', \n",
    "                                'supplement', 'source_CT_deviations_corrmatrix_pt.csv'))\n",
    "\n",
    "fig_s5a_u.to_csv(join(source_data_dir_supp, 'source_FigS5a_upper.csv'), index=False, header=False)\n",
    "fig_s5a_l.to_csv(join(source_data_dir_supp, 'source_FigS5a_lower.csv'), index=False, header=False)\n"
   ]
  },
  {
   "cell_type": "code",
   "execution_count": 88,
   "id": "db5f7ce8",
   "metadata": {},
   "outputs": [],
   "source": [
    "# S5b\n",
    "fig_s5b_u = pd.read_csv(join('outputs', 'spatial_heterogeneity', 'ABCD-10', 'IBAP_similarity_CT', \n",
    "                                'supplement', 'source_CT_deviations_pt.csv'))\n",
    "fig_s5b_l = pd.read_csv(join('outputs', 'spatial_heterogeneity', 'ABCD-10', 'IBAP_similarity_CT', \n",
    "                                'supplement', 'source_CT_deviations_corrmatrix_pt.csv'))\n",
    "\n",
    "fig_s5b_u.to_csv(join(source_data_dir_supp, 'source_FigS5b_upper.csv'), index=False, header=False)\n",
    "fig_s5b_l.to_csv(join(source_data_dir_supp, 'source_FigS5b_lower.csv'), index=False, header=False)"
   ]
  },
  {
   "cell_type": "code",
   "execution_count": 89,
   "id": "31f962f5",
   "metadata": {},
   "outputs": [],
   "source": [
    "# S5c\n",
    "fig_s5c_u = pd.read_csv(join('outputs', 'spatial_heterogeneity', 'ABCD-12', 'IBAP_similarity_CT', \n",
    "                                'supplement', 'source_CT_deviations_pt.csv'))\n",
    "fig_s5c_l = pd.read_csv(join('outputs', 'spatial_heterogeneity', 'ABCD-12', 'IBAP_similarity_CT', \n",
    "                                'supplement', 'source_CT_deviations_corrmatrix_pt.csv'))\n",
    "\n",
    "fig_s5c_u.to_csv(join(source_data_dir_supp, 'source_FigS5c_upper.csv'), index=False, header=False)\n",
    "fig_s5c_l.to_csv(join(source_data_dir_supp, 'source_FigS5c_lower.csv'), index=False, header=False)"
   ]
  },
  {
   "cell_type": "code",
   "execution_count": 90,
   "id": "1f0da67b",
   "metadata": {},
   "outputs": [],
   "source": [
    "# S5d\n",
    "fig_s5d_u = pd.read_csv(join('outputs', 'spatial_heterogeneity', 'BLS-26', 'IBAP_similarity_CT', \n",
    "                                'supplement', 'source_CT_deviations_pt.csv'))\n",
    "fig_s5d_l = pd.read_csv(join('outputs', 'spatial_heterogeneity', 'BLS-26', 'IBAP_similarity_CT', \n",
    "                                'supplement', 'source_CT_deviations_corrmatrix_pt.csv'))\n",
    "\n",
    "fig_s5d_u.to_csv(join(source_data_dir_supp, 'source_FigS5d_upper.csv'), index=False, header=False)\n",
    "fig_s5d_l.to_csv(join(source_data_dir_supp, 'source_FigS5d_lower.csv'), index=False, header=False)"
   ]
  },
  {
   "cell_type": "code",
   "execution_count": 91,
   "id": "7d8798e3",
   "metadata": {},
   "outputs": [],
   "source": [
    "# S5e\n",
    "fig_s5e_u = pd.read_csv(join('outputs', 'spatial_heterogeneity', 'BLS-38', 'IBAP_similarity_CT', \n",
    "                                'supplement', 'source_CT_deviations_pt.csv'))\n",
    "fig_s5e_l = pd.read_csv(join('outputs', 'spatial_heterogeneity', 'BLS-38', 'IBAP_similarity_CT', \n",
    "                                'supplement', 'source_CT_deviations_corrmatrix_pt.csv'))\n",
    "\n",
    "fig_s5e_u.to_csv(join(source_data_dir_supp, 'source_FigS5e_upper.csv'), index=False, header=False)\n",
    "fig_s5e_l.to_csv(join(source_data_dir_supp, 'source_FigS5e_lower.csv'), index=False, header=False)"
   ]
  },
  {
   "cell_type": "markdown",
   "id": "4b591f92",
   "metadata": {},
   "source": [
    "## Figure S6"
   ]
  },
  {
   "cell_type": "code",
   "execution_count": 92,
   "id": "92b38477",
   "metadata": {},
   "outputs": [],
   "source": [
    "# S6a\n",
    "fig_s6a_u = pd.read_csv(join('outputs', 'spatial_heterogeneity', 'dHCP', 'IBAP_similarity_SA', \n",
    "                                'supplement', 'source_SA_deviations_pt.csv'))\n",
    "fig_s6a_l = pd.read_csv(join('outputs', 'spatial_heterogeneity', 'dHCP', 'IBAP_similarity_SA', \n",
    "                                'supplement', 'source_SA_deviations_corrmatrix_pt.csv'))\n",
    "\n",
    "fig_s6a_u.to_csv(join(source_data_dir_supp, 'source_FigS6a_upper.csv'), index=False, header=False)\n",
    "fig_s6a_l.to_csv(join(source_data_dir_supp, 'source_FigS6a_lower.csv'), index=False, header=False)"
   ]
  },
  {
   "cell_type": "code",
   "execution_count": 93,
   "id": "39ab5865",
   "metadata": {},
   "outputs": [],
   "source": [
    "# S6b\n",
    "fig_s6b_u = pd.read_csv(join('outputs', 'spatial_heterogeneity', 'ABCD-10', 'IBAP_similarity_SA', \n",
    "                                'supplement', 'source_SA_deviations_pt.csv'))\n",
    "fig_s6b_l = pd.read_csv(join('outputs', 'spatial_heterogeneity', 'ABCD-10', 'IBAP_similarity_SA', \n",
    "                                'supplement', 'source_SA_deviations_corrmatrix_pt.csv'))\n",
    "\n",
    "fig_s6b_u.to_csv(join(source_data_dir_supp, 'source_FigS6b_upper.csv'), index=False, header=False)\n",
    "fig_s6b_l.to_csv(join(source_data_dir_supp, 'source_FigS6b_lower.csv'), index=False, header=False)"
   ]
  },
  {
   "cell_type": "code",
   "execution_count": 94,
   "id": "470de4f8",
   "metadata": {},
   "outputs": [],
   "source": [
    "# S6c\n",
    "fig_s6c_u = pd.read_csv(join('outputs', 'spatial_heterogeneity', 'ABCD-12', 'IBAP_similarity_SA', \n",
    "                                'supplement', 'source_SA_deviations_pt.csv'))\n",
    "fig_s6c_l = pd.read_csv(join('outputs', 'spatial_heterogeneity', 'ABCD-12', 'IBAP_similarity_SA', \n",
    "                                'supplement', 'source_SA_deviations_corrmatrix_pt.csv'))\n",
    "\n",
    "fig_s6c_u.to_csv(join(source_data_dir_supp, 'source_FigS6c_upper.csv'), index=False, header=False)\n",
    "fig_s6c_l.to_csv(join(source_data_dir_supp, 'source_FigS6c_lower.csv'), index=False, header=False)"
   ]
  },
  {
   "cell_type": "code",
   "execution_count": 95,
   "id": "500a89cb",
   "metadata": {},
   "outputs": [],
   "source": [
    "# S6d\n",
    "fig_s6d_u = pd.read_csv(join('outputs', 'spatial_heterogeneity', 'BLS-26', 'IBAP_similarity_SA', \n",
    "                                'supplement', 'source_SA_deviations_pt.csv'))\n",
    "fig_s6d_l = pd.read_csv(join('outputs', 'spatial_heterogeneity', 'BLS-26', 'IBAP_similarity_SA', \n",
    "                                'supplement', 'source_SA_deviations_corrmatrix_pt.csv'))\n",
    "\n",
    "fig_s6d_u.to_csv(join(source_data_dir_supp, 'source_FigS6d_upper.csv'), index=False, header=False)\n",
    "fig_s6d_l.to_csv(join(source_data_dir_supp, 'source_FigS6d_lower.csv'), index=False, header=False)"
   ]
  },
  {
   "cell_type": "code",
   "execution_count": 96,
   "id": "cfdf1ebf",
   "metadata": {},
   "outputs": [],
   "source": [
    "# S6e\n",
    "fig_s6e_u = pd.read_csv(join('outputs', 'spatial_heterogeneity', 'BLS-38', 'IBAP_similarity_SA', \n",
    "                                'supplement', 'source_SA_deviations_pt.csv'))\n",
    "fig_s6e_l = pd.read_csv(join('outputs', 'spatial_heterogeneity', 'BLS-38', 'IBAP_similarity_SA', \n",
    "                                'supplement', 'source_SA_deviations_corrmatrix_pt.csv'))\n",
    "\n",
    "fig_s6e_u.to_csv(join(source_data_dir_supp, 'source_FigS6e_upper.csv'), index=False, header=False)\n",
    "fig_s6e_l.to_csv(join(source_data_dir_supp, 'source_FigS6e_lower.csv'), index=False, header=False)"
   ]
  },
  {
   "cell_type": "markdown",
   "id": "0e17ea79",
   "metadata": {},
   "source": [
    "## Figure S7\n",
    "Regional similarity CTh"
   ]
  },
  {
   "cell_type": "code",
   "execution_count": 98,
   "id": "2076a305",
   "metadata": {},
   "outputs": [],
   "source": [
    "# S7a\n",
    "fig_s7a_u = pd.read_csv(join('outputs', 'spatial_heterogeneity', 'dHCP', 'IBAP_similarity_CT', \n",
    "                                'supplement', 'source_CT_deviations_pt_bin.csv'))\n",
    "fig_s7a_l = pd.read_csv(join('outputs', 'spatial_heterogeneity', 'dHCP', 'IBAP_similarity_CT', \n",
    "                                'supplement', 'source_CT_deviations_regional_similarity.csv'))\n",
    "\n",
    "fig_s7a_u.to_csv(join(source_data_dir_supp, 'source_FigS7a_upper.csv'), index=False, header=False)\n",
    "fig_s7a_l.to_csv(join(source_data_dir_supp, 'source_FigS7a_lower.csv'), index=False, header=False)"
   ]
  },
  {
   "cell_type": "code",
   "execution_count": 99,
   "id": "a655ef5b",
   "metadata": {},
   "outputs": [],
   "source": [
    "# S7b\n",
    "fig_s7b_u = pd.read_csv(join('outputs', 'spatial_heterogeneity', 'ABCD-10', 'IBAP_similarity_CT', \n",
    "                                'supplement', 'source_CT_deviations_pt_bin.csv'))\n",
    "fig_s7b_l = pd.read_csv(join('outputs', 'spatial_heterogeneity', 'ABCD-10', 'IBAP_similarity_CT', \n",
    "                                'supplement', 'source_CT_deviations_regional_similarity.csv'))\n",
    "\n",
    "fig_s7b_u.to_csv(join(source_data_dir_supp, 'source_FigS7b_upper.csv'), index=False, header=False)\n",
    "fig_s7b_l.to_csv(join(source_data_dir_supp, 'source_FigS7b_lower.csv'), index=False, header=False)"
   ]
  },
  {
   "cell_type": "code",
   "execution_count": 100,
   "id": "3f41bb78",
   "metadata": {},
   "outputs": [],
   "source": [
    "# S7c\n",
    "fig_s7c_u = pd.read_csv(join('outputs', 'spatial_heterogeneity', 'ABCD-12', 'IBAP_similarity_CT', \n",
    "                                'supplement', 'source_CT_deviations_pt_bin.csv'))\n",
    "fig_s7c_l = pd.read_csv(join('outputs', 'spatial_heterogeneity', 'ABCD-12', 'IBAP_similarity_CT', \n",
    "                                'supplement', 'source_CT_deviations_regional_similarity.csv'))\n",
    "\n",
    "fig_s7c_u.to_csv(join(source_data_dir_supp, 'source_FigS7c_upper.csv'), index=False, header=False)\n",
    "fig_s7c_l.to_csv(join(source_data_dir_supp, 'source_FigS7c_lower.csv'), index=False, header=False)"
   ]
  },
  {
   "cell_type": "code",
   "execution_count": 101,
   "id": "c61c8827",
   "metadata": {},
   "outputs": [],
   "source": [
    "# S7d\n",
    "fig_s7d_u = pd.read_csv(join('outputs', 'spatial_heterogeneity', 'BLS-26', 'IBAP_similarity_CT', \n",
    "                                'supplement', 'source_CT_deviations_pt_bin.csv'))\n",
    "fig_s7d_l = pd.read_csv(join('outputs', 'spatial_heterogeneity', 'BLS-26', 'IBAP_similarity_CT', \n",
    "                                'supplement', 'source_CT_deviations_regional_similarity.csv'))\n",
    "\n",
    "fig_s7d_u.to_csv(join(source_data_dir_supp, 'source_FigS7d_upper.csv'), index=False, header=False)\n",
    "fig_s7d_l.to_csv(join(source_data_dir_supp, 'source_FigS7d_lower.csv'), index=False, header=False)"
   ]
  },
  {
   "cell_type": "code",
   "execution_count": 103,
   "id": "ee642700",
   "metadata": {},
   "outputs": [],
   "source": [
    "# S7e\n",
    "fig_s7e_u = pd.read_csv(join('outputs', 'spatial_heterogeneity', 'BLS-38', 'IBAP_similarity_CT', \n",
    "                                'supplement', 'source_CT_deviations_pt_bin.csv'))\n",
    "fig_s7e_l = pd.read_csv(join('outputs', 'spatial_heterogeneity', 'BLS-38', 'IBAP_similarity_CT', \n",
    "                                'supplement', 'source_CT_deviations_regional_similarity.csv'))\n",
    "\n",
    "fig_s7e_u.to_csv(join(source_data_dir_supp, 'source_FigS7e_upper.csv'), index=False, header=False)\n",
    "fig_s7e_l.to_csv(join(source_data_dir_supp, 'source_FigS7e_lower.csv'), index=False, header=False)"
   ]
  },
  {
   "cell_type": "markdown",
   "id": "3c0acf0f",
   "metadata": {},
   "source": [
    "## Figure S8\n",
    "Regional similarity SA"
   ]
  },
  {
   "cell_type": "code",
   "execution_count": 105,
   "id": "c415e59d",
   "metadata": {},
   "outputs": [],
   "source": [
    "# S8a\n",
    "fig_s8a_u = pd.read_csv(join('outputs', 'spatial_heterogeneity', 'dHCP', 'IBAP_similarity_SA', \n",
    "                                'supplement', 'source_SA_deviations_pt_bin.csv'))\n",
    "fig_s8a_l = pd.read_csv(join('outputs', 'spatial_heterogeneity', 'dHCP', 'IBAP_similarity_SA', \n",
    "                                'supplement', 'source_SA_deviations_regional_similarity.csv'))\n",
    "\n",
    "fig_s8a_u.to_csv(join(source_data_dir_supp, 'source_FigS8a_upper.csv'), index=False, header=False)\n",
    "fig_s8a_l.to_csv(join(source_data_dir_supp, 'source_FigS8a_lower.csv'), index=False, header=False)"
   ]
  },
  {
   "cell_type": "code",
   "execution_count": 106,
   "id": "af984a0b",
   "metadata": {},
   "outputs": [],
   "source": [
    "# S8b\n",
    "fig_s8b_u = pd.read_csv(join('outputs', 'spatial_heterogeneity', 'ABCD-10', 'IBAP_similarity_SA', \n",
    "                                'supplement', 'source_SA_deviations_pt_bin.csv'))\n",
    "fig_s8b_l = pd.read_csv(join('outputs', 'spatial_heterogeneity', 'ABCD-10', 'IBAP_similarity_SA', \n",
    "                                'supplement', 'source_SA_deviations_regional_similarity.csv'))\n",
    "\n",
    "fig_s8b_u.to_csv(join(source_data_dir_supp, 'source_FigS8b_upper.csv'), index=False, header=False)\n",
    "fig_s8b_l.to_csv(join(source_data_dir_supp, 'source_FigS8b_lower.csv'), index=False, header=False)"
   ]
  },
  {
   "cell_type": "code",
   "execution_count": 107,
   "id": "1f81d63b",
   "metadata": {},
   "outputs": [],
   "source": [
    "# S8c\n",
    "fig_s8c_u = pd.read_csv(join('outputs', 'spatial_heterogeneity', 'ABCD-12', 'IBAP_similarity_SA', \n",
    "                                'supplement', 'source_SA_deviations_pt_bin.csv'))\n",
    "fig_s8c_l = pd.read_csv(join('outputs', 'spatial_heterogeneity', 'ABCD-12', 'IBAP_similarity_SA', \n",
    "                                'supplement', 'source_SA_deviations_regional_similarity.csv'))\n",
    "\n",
    "fig_s8c_u.to_csv(join(source_data_dir_supp, 'source_FigS8c_upper.csv'), index=False, header=False)\n",
    "fig_s8c_l.to_csv(join(source_data_dir_supp, 'source_FigS8c_lower.csv'), index=False, header=False)"
   ]
  },
  {
   "cell_type": "code",
   "execution_count": 108,
   "id": "825c53e5",
   "metadata": {},
   "outputs": [],
   "source": [
    "# S8d\n",
    "fig_s8d_u = pd.read_csv(join('outputs', 'spatial_heterogeneity', 'BLS-26', 'IBAP_similarity_SA', \n",
    "                                'supplement', 'source_SA_deviations_pt_bin.csv'))\n",
    "fig_s8d_l = pd.read_csv(join('outputs', 'spatial_heterogeneity', 'BLS-26', 'IBAP_similarity_SA', \n",
    "                                'supplement', 'source_SA_deviations_regional_similarity.csv'))\n",
    "\n",
    "fig_s8d_u.to_csv(join(source_data_dir_supp, 'source_FigS8d_upper.csv'), index=False, header=False)\n",
    "fig_s8d_l.to_csv(join(source_data_dir_supp, 'source_FigS8d_lower.csv'), index=False, header=False)"
   ]
  },
  {
   "cell_type": "code",
   "execution_count": 109,
   "id": "4bb12f19",
   "metadata": {},
   "outputs": [],
   "source": [
    "# S8e\n",
    "fig_s8e_u = pd.read_csv(join('outputs', 'spatial_heterogeneity', 'BLS-38', 'IBAP_similarity_SA', \n",
    "                                'supplement', 'source_SA_deviations_pt_bin.csv'))\n",
    "fig_s8e_l = pd.read_csv(join('outputs', 'spatial_heterogeneity', 'BLS-38', 'IBAP_similarity_SA', \n",
    "                                'supplement', 'source_SA_deviations_regional_similarity.csv'))\n",
    "\n",
    "fig_s8e_u.to_csv(join(source_data_dir_supp, 'source_FigS8e_upper.csv'), index=False, header=False)\n",
    "fig_s8e_l.to_csv(join(source_data_dir_supp, 'source_FigS8e_lower.csv'), index=False, header=False)"
   ]
  },
  {
   "cell_type": "markdown",
   "id": "a317aae6",
   "metadata": {},
   "source": [
    "## Figure S9"
   ]
  },
  {
   "cell_type": "code",
   "execution_count": 120,
   "id": "8ef33d26",
   "metadata": {},
   "outputs": [],
   "source": [
    "### S9a\n",
    "\n",
    "# dHCP\n",
    "fig_s9a_dhcp = pd.read_csv(join('outputs', 'spatial_heterogeneity', 'dHCP', 'average_dysmaturation',\n",
    "                        'dHCP_global_average_dysmaturation_source.csv'))\n",
    "fig_s9a_dhcp.to_csv(join(source_data_dir_supp, 'source_FigS9a_dhcp.csv'), index=False)\n",
    "\n",
    "\n",
    "# ABCD-10\n",
    "fig_s9a_abcd10 = pd.read_csv(join('outputs', 'spatial_heterogeneity', 'ABCD-10', 'average_dysmaturation',\n",
    "                            'ABCD-10_global_average_dysmaturation_source.csv'))\n",
    "fig_s9a_abcd10.to_csv(join(source_data_dir_supp, 'source_FigS9a_abcd10.csv'), index=False)\n",
    "\n",
    "\n",
    "# BLS-26\n",
    "fig_s9a_bls26 = pd.read_csv(join('outputs', 'spatial_heterogeneity', 'BLS-26', 'average_dysmaturation',\n",
    "                            'BLS-26_global_average_dysmaturation_source.csv'))\n",
    "fig_s9a_bls26.to_csv(join(source_data_dir_supp, 'source_FigS9a_bls26.csv'), index=False)"
   ]
  },
  {
   "cell_type": "code",
   "execution_count": 123,
   "id": "26a7e02c",
   "metadata": {},
   "outputs": [],
   "source": [
    "### S9b\n",
    "# dHCP\n",
    "fig_s9b_dhcp = pd.read_csv(join('outputs', 'spatial_heterogeneity', 'dHCP', \n",
    "                                'IBAP_CT', 'dHCP_global_individual_percentage_outside_norm_source_data.csv'))\n",
    "fig_s9b_dhcp.to_csv(join(source_data_dir_supp, 'source_FigS9b_dhcp.csv'), index=False)\n",
    "\n",
    "\n",
    "# ABCD-10\n",
    "fig_s9b_abcd10 = pd.read_csv(join('outputs', 'spatial_heterogeneity', 'ABCD-10', \n",
    "                                    'IBAP_CT', 'ABCD-10_global_individual_percentage_outside_norm_source_data.csv'))\n",
    "fig_s9b_abcd10.to_csv(join(source_data_dir_supp, 'source_FigS9b_abcd10.csv'), index=False)\n",
    "\n",
    "\n",
    "# BLS-26\n",
    "fig_s9b_bls26 = pd.read_csv(join('outputs', 'spatial_heterogeneity', 'BLS-26', \n",
    "                                    'IBAP_CT', 'BLS-26_global_individual_percentage_outside_norm_source_data.csv'))\n",
    "fig_s9b_bls26.to_csv(join(source_data_dir_supp, 'source_FigS9b_bls26.csv'), index=False)"
   ]
  },
  {
   "cell_type": "markdown",
   "id": "643e41bb",
   "metadata": {},
   "source": [
    "## Figure S10"
   ]
  },
  {
   "cell_type": "code",
   "execution_count": 131,
   "id": "9d3d9428",
   "metadata": {},
   "outputs": [],
   "source": [
    "# S10a\n",
    "fig_s10a_before = pd.read_csv(join('outputs', 'consistency_macroscale', 'extent', \n",
    "                                    'dHCP_individual_percentage_outside_norm_GA23_29_source.csv'))\n",
    "fig_s10a_after = pd.read_csv(join('outputs', 'consistency_macroscale', 'extent', \n",
    "                                    'dHCP_individual_percentage_outside_norm_GA30_36_source.csv'))\n",
    "\n",
    "fig_s10a_before.to_csv(join(source_data_dir_supp, 'source_FigS10a_earlier30.csv'), index=False)\n",
    "fig_s10a_after.to_csv(join(source_data_dir_supp, 'source_FigS10a_later30.csv'), index=False)"
   ]
  },
  {
   "cell_type": "code",
   "execution_count": 134,
   "id": "bf662c7f",
   "metadata": {},
   "outputs": [],
   "source": [
    "# S10b\n",
    "fig_s10b_before = pd.read_csv(join('outputs', 'consistency_macroscale', 'extent', \n",
    "                                    'BLS-26_individual_percentage_outside_norm_GA25_30_source.csv'))\n",
    "fig_s10b_after = pd.read_csv(join('outputs', 'consistency_macroscale', 'extent', \n",
    "                                    'BLS-26_individual_percentage_outside_norm_GA31_36_source.csv'))\n",
    "\n",
    "fig_s10b_before.to_csv(join(source_data_dir_supp, 'source_FigS10b_earlier30.csv'), index=False)\n",
    "fig_s10b_after.to_csv(join(source_data_dir_supp, 'source_FigS10b_later30.csv'), index=False)"
   ]
  },
  {
   "cell_type": "code",
   "execution_count": 137,
   "id": "710731f1",
   "metadata": {},
   "outputs": [],
   "source": [
    "# S10c\n",
    "fig_s10c = pd.read_csv(join('outputs', 'consistency_macroscale', 'extent', \n",
    "                                    'source_corr_bls-26_dnti_bw_extranorm.csv'))\n",
    "fig_s10c.to_csv(join(source_data_dir_supp, 'source_FigS10c.csv'), index=False)"
   ]
  },
  {
   "cell_type": "markdown",
   "id": "87eb38b8",
   "metadata": {},
   "source": [
    "## Figure S11"
   ]
  },
  {
   "cell_type": "code",
   "execution_count": 145,
   "id": "67797042",
   "metadata": {},
   "outputs": [],
   "source": [
    "# S11a\n",
    "fig_s11a_early = pd.read_csv(join('outputs', 'consistency_macroscale', 'extent', \n",
    "                                    'dHCP_individual_percentage_outside_norm_GA23_28_source.csv'))\n",
    "fig_s11a_middle = pd.read_csv(join('outputs', 'consistency_macroscale', 'extent', \n",
    "                                    'dHCP_individual_percentage_outside_norm_GA28_31_source.csv'))\n",
    "fig_s11a_late = pd.read_csv(join('outputs', 'consistency_macroscale', 'extent', \n",
    "                                    'dHCP_individual_percentage_outside_norm_GA32_36_source.csv'))\n",
    "\n",
    "fig_s11a_early.to_csv(join(source_data_dir_supp, 'source_FigS11a_early.csv'), index=False)\n",
    "fig_s11a_middle.to_csv(join(source_data_dir_supp, 'source_FigS11a_middle.csv'), index=False)\n",
    "fig_s11a_late.to_csv(join(source_data_dir_supp, 'source_FigS11a_late.csv'), index=False)"
   ]
  },
  {
   "cell_type": "code",
   "execution_count": 144,
   "id": "e19f6a99",
   "metadata": {},
   "outputs": [],
   "source": [
    "# S11b\n",
    "fig_s11b_early = pd.read_csv(join('outputs', 'consistency_macroscale', 'extent', \n",
    "                                    'BLS-26_individual_percentage_outside_norm_GA25_28_source.csv'))\n",
    "fig_s11b_middle = pd.read_csv(join('outputs', 'consistency_macroscale', 'extent', \n",
    "                                    'BLS-26_individual_percentage_outside_norm_GA29_32_source.csv'))\n",
    "fig_s11b_late = pd.read_csv(join('outputs', 'consistency_macroscale', 'extent', \n",
    "                                    'BLS-26_individual_percentage_outside_norm_GA33_36_source.csv'))\n",
    "\n",
    "fig_s11b_early.to_csv(join(source_data_dir_supp, 'source_FigS11b_early.csv'), index=False)\n",
    "fig_s11b_middle.to_csv(join(source_data_dir_supp, 'source_FigS11b_middle.csv'), index=False)\n",
    "fig_s11b_late.to_csv(join(source_data_dir_supp, 'source_FigS11b_late.csv'), index=False)\n"
   ]
  },
  {
   "cell_type": "markdown",
   "id": "fefe231a",
   "metadata": {},
   "source": [
    "## Figure S12\n",
    "Longitudinal CT ABCD"
   ]
  },
  {
   "cell_type": "code",
   "execution_count": 147,
   "id": "fcfde1d1",
   "metadata": {},
   "outputs": [],
   "source": [
    "fig_s14 = pd.read_csv(join('outputs', 'consistency_macroscale', 'location', 'source_ABCD_CT_long.csv'))\n",
    "fig_s14.to_csv(join(source_data_dir_supp, 'source_FigS12.csv'), index=False)"
   ]
  },
  {
   "cell_type": "markdown",
   "id": "137ef972",
   "metadata": {},
   "source": [
    "## Figure S13\n",
    "Longitudinal CT BLS"
   ]
  },
  {
   "cell_type": "code",
   "execution_count": 146,
   "id": "2269af6d",
   "metadata": {},
   "outputs": [],
   "source": [
    "fig_s15 = pd.read_csv(join('outputs', 'consistency_macroscale', 'location', 'source_BLS_CT_long.csv'))\n",
    "fig_s15.to_csv(join(source_data_dir_supp, 'source_FigS13.csv'), index=False)"
   ]
  },
  {
   "cell_type": "markdown",
   "id": "bf360617",
   "metadata": {},
   "source": [
    "## Figure S17\n",
    "Cell type correlations"
   ]
  },
  {
   "cell_type": "code",
   "execution_count": 148,
   "id": "1660e302",
   "metadata": {},
   "outputs": [],
   "source": [
    "# S17a\n",
    "fig_s17a = pd.read_csv(join('outputs', 'consistency_microscale', 'source_corr_celltypes_pt_filtered.csv'))\n",
    "fig_s17a.to_csv(join(source_data_dir_supp, 'source_FigS17a.csv'), index=False)\n",
    "\n",
    "\n",
    "# S17b\n",
    "fig_s17b = pd.read_csv(join('outputs', 'consistency_microscale', 'supplement_brainSMASH', \n",
    "                            'source_corr_celltypes_pt_filtered_burt2020.csv'))\n",
    "fig_s17b.to_csv(join(source_data_dir_supp, 'source_FigS17b.csv'), index=False)"
   ]
  },
  {
   "cell_type": "markdown",
   "id": "3c13709a",
   "metadata": {},
   "source": [
    "# Figure S18"
   ]
  },
  {
   "cell_type": "code",
   "execution_count": 149,
   "id": "d2a94f27",
   "metadata": {},
   "outputs": [],
   "source": [
    "# S18a\n",
    "fig_s18a_ct = pd.read_csv(join('outputs', 'developmental_plasticity_IQ', 'dHCP', 'source_PCA_loadings_CT_ordered.csv'))\n",
    "fig_s18a_ct.to_csv(join(source_data_dir_supp, 'source_FigS18a_ct.csv'), index=False)\n",
    "\n",
    "fig_s18a_sa = pd.read_csv(join('outputs', 'developmental_plasticity_IQ', 'dHCP', 'source_PCA_loadings_SA_ordered.csv'))\n",
    "fig_s18a_sa.to_csv(join(source_data_dir_supp, 'source_FigS18a_sa.csv'), index=False)"
   ]
  },
  {
   "cell_type": "code",
   "execution_count": 150,
   "id": "ec55917b",
   "metadata": {},
   "outputs": [],
   "source": [
    "# S18b\n",
    "fig_s18b_ct = pd.read_csv(join('outputs', 'developmental_plasticity_IQ', 'ABCD-10', 'source_PCA_loadings_CT_ordered.csv'))\n",
    "fig_s18b_ct.to_csv(join(source_data_dir_supp, 'source_FigS18b_ct.csv'), index=False)\n",
    "\n",
    "fig_s18b_sa = pd.read_csv(join('outputs', 'developmental_plasticity_IQ', 'ABCD-10', 'source_PCA_loadings_SA_ordered.csv'))\n",
    "fig_s18b_sa.to_csv(join(source_data_dir_supp, 'source_FigS18b_sa.csv'), index=False)\n"
   ]
  },
  {
   "cell_type": "code",
   "execution_count": 151,
   "id": "781fb253",
   "metadata": {},
   "outputs": [],
   "source": [
    "# S18c\n",
    "fig_s18c_ct = pd.read_csv(join('outputs', 'developmental_plasticity_IQ', 'BLS-26', 'source_PCA_loadings_CT_ordered.csv'))\n",
    "fig_s18c_ct.to_csv(join(source_data_dir_supp, 'source_FigS18c_ct.csv'), index=False)\n",
    "\n",
    "fig_s18c_sa = pd.read_csv(join('outputs', 'developmental_plasticity_IQ', 'BLS-26', 'source_PCA_loadings_SA_ordered.csv'))\n",
    "fig_s18c_sa.to_csv(join(source_data_dir_supp, 'source_FigS18c_sa.csv'), index=False)"
   ]
  },
  {
   "cell_type": "markdown",
   "id": "26a4ef78",
   "metadata": {},
   "source": [
    "## Figure S19"
   ]
  },
  {
   "cell_type": "code",
   "execution_count": 152,
   "id": "0d0582d4",
   "metadata": {},
   "outputs": [],
   "source": [
    "fig_s19 = pd.read_csv(join('outputs', 'developmental_plasticity_IQ', 'BLS-26', 'social_env', 'source_ses_corr_cth_supp.csv'))\n",
    "fig_s19.to_csv(join(source_data_dir_supp, 'source_FigS19.csv'), index=False)"
   ]
  },
  {
   "cell_type": "markdown",
   "id": "73958170",
   "metadata": {},
   "source": [
    "## Figure S20"
   ]
  },
  {
   "cell_type": "code",
   "execution_count": 155,
   "id": "f00ff571",
   "metadata": {},
   "outputs": [],
   "source": [
    "# S20a\n",
    "fig_s20a = pd.read_csv(join('outputs', 'developmental_plasticity_IQ', 'ABCD-10', 'cognition', 'source_cogn_corr_sa_infranormal.csv'))\n",
    "fig_s20a.to_csv(join(source_data_dir_supp, 'source_FigS20a.csv'), index=False)"
   ]
  },
  {
   "cell_type": "code",
   "execution_count": 156,
   "id": "9b01536e",
   "metadata": {},
   "outputs": [],
   "source": [
    "# S20b\n",
    "fig_s20b = pd.read_csv(join('outputs', 'developmental_plasticity_IQ', 'BLS-26', 'cognition', 'source_cogn_corr_sa_infranormal.csv'))\n",
    "fig_s20b.to_csv(join(source_data_dir_supp, 'source_FigS20b.csv'), index=False)"
   ]
  },
  {
   "cell_type": "code",
   "execution_count": null,
   "id": "5d844a88",
   "metadata": {},
   "outputs": [],
   "source": []
  }
 ],
 "metadata": {
  "kernelspec": {
   "display_name": ".venv",
   "language": "python",
   "name": "python3"
  },
  "language_info": {
   "codemirror_mode": {
    "name": "ipython",
    "version": 3
   },
   "file_extension": ".py",
   "mimetype": "text/x-python",
   "name": "python",
   "nbconvert_exporter": "python",
   "pygments_lexer": "ipython3",
   "version": "3.11.9"
  }
 },
 "nbformat": 4,
 "nbformat_minor": 5
}
