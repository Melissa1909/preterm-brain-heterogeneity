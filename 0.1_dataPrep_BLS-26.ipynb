{
 "cells": [
  {
   "cell_type": "markdown",
   "metadata": {},
   "source": [
    "# Adult brain measure estimation from BLS data\n",
    "As BLS is not publicly available due to ethical considerations, no data is included in this repository. The code is provided as a reference for the analysis of the BLS data. "
   ]
  },
  {
   "cell_type": "code",
   "execution_count": 1,
   "metadata": {},
   "outputs": [],
   "source": [
    "%load_ext autoreload\n",
    "%autoreload 2"
   ]
  },
  {
   "cell_type": "markdown",
   "metadata": {},
   "source": [
    "# Data preparation\n",
    "This whole notebook should be run for cortical thickness (CT) or surface area (SA). Both measures were used in the original publication. Adjust the variable `brain_measure` to `CT` or `SA` accordingly. "
   ]
  },
  {
   "cell_type": "code",
   "execution_count": null,
   "metadata": {},
   "outputs": [],
   "source": [
    "import os\n",
    "from os.path import join\n",
    "import pandas as pd\n",
    "import numpy as np\n",
    "from scipy.stats import ttest_ind, chi2_contingency, mannwhitneyu\n",
    "\n",
    "from abagen import fetch_desikan_killiany\n",
    "from neuroCombat import neuroCombat\n",
    "\n",
    "import matplotlib.pyplot as plt\n",
    "import seaborn as sns\n",
    "\n",
    "# import custom code\n",
    "import sys\n",
    "sys.path.append('code')\n",
    "from utils import reorder_vars\n",
    "from preprocessing import load_freesurfer_aparc, load_freesurfer_aseg, calculate_scanner_difference\n",
    "from euler import euler_hemi_combination, get_euler_outliers\n",
    "\n",
    "bls_data_dir = 'data/BLS'\n",
    "bls_freesurfer_outputs = join(bls_data_dir, 'freesurfer')  # where all freesurfer outputs are stored\n",
    "qc_dir_bls26 = join(bls_data_dir, 'euler_BLS-26')  # where FreeSurfer QC files are stored\n",
    "bls_out = join(bls_data_dir, 'derivatives')  # where the adapted data will be stored\n",
    "os.makedirs(bls_out, exist_ok=True)\n",
    "\n",
    "\n",
    "# adjust brain measurement for which the code should be run\n",
    "brain_measure = 'CT'  # CT or SA"
   ]
  },
  {
   "cell_type": "markdown",
   "metadata": {},
   "source": [
    "# Load MRI related data"
   ]
  },
  {
   "cell_type": "code",
   "execution_count": 3,
   "metadata": {},
   "outputs": [],
   "source": [
    "# brain_measure\n",
    "if brain_measure == 'CT':\n",
    "    mri_data_lh = load_freesurfer_aparc(file = join(bls_freesurfer_outputs, 'BLS-26_thickness_fs7.3.2_lh.txt'))\n",
    "    mri_data_rh = load_freesurfer_aparc(file = join(bls_freesurfer_outputs, 'BLS-26_thickness_fs7.3.2_rh.txt'))\n",
    "    mri_data = mri_data_lh.merge(mri_data_rh, on='participant')\n",
    "    #mri_data.drop(columns=['lh_MeanThickness_thickness', 'rh_MeanThickness_thickness'], inplace=True)\n",
    "    mri_data.rename(columns={'lh_MeanThickness_thickness':'lh_mean_CT2', 'rh_MeanThickness_thickness':'rh_mean_CT2'}, inplace=True)\n",
    "    bls_idps_idx = mri_data.filter(regex='_thickness').columns.to_list()\n",
    "    \n",
    "elif brain_measure == 'SA':\n",
    "    mri_data_lh = load_freesurfer_aparc(file = join(bls_freesurfer_outputs, 'BLS-26_surfaceArea_fs7.3.2_lh.txt'))\n",
    "    mri_data_rh = load_freesurfer_aparc(file = join(bls_freesurfer_outputs, 'BLS-26_surfaceArea_fs7.3.2_rh.txt'))\n",
    "    mri_data = mri_data_lh.merge(mri_data_rh, on='participant')\n",
    "    mri_data.drop(columns=['lh_WhiteSurfArea_area', 'rh_WhiteSurfArea_area'], inplace=True)\n",
    "    bls_idps_idx = mri_data.filter(regex='_area').columns.to_list()\n",
    "    \n",
    "else:\n",
    "    raise ValueError('brain_measure has to be either CT or SA')\n",
    "\n",
    "\n",
    "# aseg\n",
    "aseg = load_freesurfer_aseg(file = os.path.join(bls_freesurfer_outputs, 'BLS-26_aseg_fs7.3.2.txt'))\n",
    "aseg = aseg[['participant', 'EstimatedTotalIntraCranialVol','TotalGrayVol','SubCortGrayVol','CerebralWhiteMatterVol']]    \n",
    "\n",
    "# meta\n",
    "meta = pd.read_csv(join(bls_data_dir, 'BLS-26_meta_cleaned.csv'))\n",
    "meta = meta[['participant', 'blsgroup','phenotype','age', 'sex','sex_code','Scanner_ID',\n",
    "            'GA', 'BW', 'dnti', \n",
    "            'SES_at_birth', 'PIRI',\n",
    "            'wie_gesiq', 'hemo']]\n",
    "\n",
    "\n",
    "# merge\n",
    "bls_26 = meta.merge(mri_data, on='participant')\n",
    "bls_26 = bls_26.merge(aseg, on='participant')\n"
   ]
  },
  {
   "cell_type": "code",
   "execution_count": 4,
   "metadata": {},
   "outputs": [
    {
     "name": "stdout",
     "output_type": "stream",
     "text": [
      "Number of IDPs: 68\n"
     ]
    }
   ],
   "source": [
    "# access DK atlas and save idp_labels\n",
    "atlas = fetch_desikan_killiany(surface=True)\n",
    "atlas = pd.read_csv(atlas['info'])\n",
    "atlas = atlas[(atlas['structure'] == 'cortex') & (atlas['hemisphere'] == 'L')]\n",
    "atlas_labels_l = ['L_'+label for label in atlas['label']]\n",
    "atlas_labels_r = ['R_'+label for label in atlas['label']]\n",
    "\n",
    "desikan_idps = atlas_labels_l + atlas_labels_r\n",
    "print(f\"Number of IDPs: {len(bls_idps_idx)}\")"
   ]
  },
  {
   "cell_type": "code",
   "execution_count": 5,
   "metadata": {},
   "outputs": [],
   "source": [
    "# rename columns\n",
    "bls_26 = bls_26.rename(columns=dict(\n",
    "        wie_gesiq=\"IQ\", \n",
    "        SubCortGrayVol=\"sGMV\",\n",
    "        TotalGrayVol=\"GMV\",\n",
    "        EstimatedTotalIntraCranialVol=\"eTIV\",\n",
    "        CerebralWhiteMatterVol=\"WMV\"\n",
    "))\n",
    "bls_26 = bls_26.rename(columns=dict(zip(bls_idps_idx, desikan_idps)))"
   ]
  },
  {
   "cell_type": "markdown",
   "metadata": {},
   "source": [
    "## Quality control using Euler Index\n",
    "Freesurfer's Euler number is a measure of the topological complexity of the reconstructed cortical surface. The Euler number is expected to be 2 for a closed surface. Freesurfer's Euler number has previously been used to identify subjects with poor quality reconstructions. Some informative publications are listed below:\n",
    "- [Rosen 2018](https://doi.org/10.1016/j.neuroimage.2017.12.059) \n",
    "- [Bethlehem 2022](https://doi.org/10.1038/s41586-022-04554-y)\n",
    "\n",
    "The Euler Index can be extracted with *mris_euler_index* from the recon-all output."
   ]
  },
  {
   "cell_type": "code",
   "execution_count": 6,
   "metadata": {},
   "outputs": [
    {
     "name": "stdout",
     "output_type": "stream",
     "text": [
      "Median of Euler indices: -90.0\n",
      "Median absolute deviation (MAD): 20.0\n",
      "Euler index histogram saved to: data/BLS/euler_BLS-26/euler_histogram.png\n"
     ]
    }
   ],
   "source": [
    "# combine Euler Indices across hemispheres\n",
    "euler_hemi_combination(euler_file=join(qc_dir_bls26, 'QC_output_BLS-26.txt'), outdir=qc_dir_bls26, dataset_name='BLS-26')\n",
    "\n",
    "# calculate outliers based on Euler Indices\n",
    "outliers = get_euler_outliers(join(qc_dir_bls26, 'QC_output_combined_BLS-26.txt'), outdir=qc_dir_bls26, threshold=4.5)\n",
    "\n",
    "# adapt excluded subjects after manual QC\n",
    "outliers.append('BEST-BN-009')  # this subject does not have information for gestational age and was thus excluded\n",
    "\n",
    "# do not exclude outliers that passed manual QC\n",
    "outliers.remove('BEST-BN-005')\n",
    "outliers.remove('BEST-MUC-014')\n",
    "\n",
    "# get outlier complete df\n",
    "outlier_data = bls_26[bls_26['participant'].isin(outliers)]\n",
    "outlier_data['blsgroup']\n",
    "\n",
    "with open(join(bls_data_dir, f'BLS-26_{brain_measure}_excluded_subjects.txt'), 'w') as f:\n",
    "    for item in outliers:\n",
    "        f.write(\"%s\\n\" % item)"
   ]
  },
  {
   "cell_type": "code",
   "execution_count": 7,
   "metadata": {},
   "outputs": [
    {
     "name": "stdout",
     "output_type": "stream",
     "text": [
      "Data shape before exclusion: (211, 88)\n",
      "New size of data: (203, 88)\n"
     ]
    }
   ],
   "source": [
    "# actually exclude the outliers\n",
    "print(\"Data shape before exclusion:\", bls_26.shape)\n",
    "bls_26 = bls_26[~bls_26['participant'].isin(outliers)]\n",
    "\n",
    "print(\"New size of data:\", bls_26.shape)"
   ]
  },
  {
   "cell_type": "code",
   "execution_count": 8,
   "metadata": {},
   "outputs": [],
   "source": [
    "# save separate hemisphere data for supplementary analysis\n",
    "bls_26.to_csv(join(bls_out, f'BLS-26_{brain_measure}_raw.csv'), index=False)"
   ]
  },
  {
   "cell_type": "markdown",
   "metadata": {},
   "source": [
    "## Average hemispheres"
   ]
  },
  {
   "cell_type": "code",
   "execution_count": 9,
   "metadata": {},
   "outputs": [],
   "source": [
    "regions = [r[2:] for r in desikan_idps[:34]]\n",
    "\n",
    "# Combine L_ and R_ values\n",
    "for region in regions:\n",
    "    bls_26[f'{brain_measure}_{region}'] = bls_26[[f'L_{region}', f'R_{region}']].mean(axis=1)\n",
    "    # drop L_ and R_ columns\n",
    "    bls_26 = bls_26.drop(columns=[f'L_{region}', f'R_{region}'])\n",
    "\n",
    "# create region list bilateral    \n",
    "desikan_idps_bilateral = [f'{brain_measure}_{region}' for region in regions]\n",
    "ctv_columns = ['GMV', 'WMV', 'sGMV', 'eTIV']\n",
    "\n",
    "if brain_measure == 'CT':\n",
    "    bls_26['meanCT2'] = bls_26[['lh_mean_CT2', 'rh_mean_CT2']].mean(axis=1)\n",
    "    bls_26.drop(columns=['lh_mean_CT2', 'rh_mean_CT2'], inplace=True)\n",
    "    desikan_idps_bilateral.append('meanCT2')"
   ]
  },
  {
   "cell_type": "markdown",
   "metadata": {},
   "source": [
    "# NeuroCombat for data harmonization\n",
    "Longitudinal data acquisition took place at different scanners for the BLS study. Therefore, cross-sectional instead of longitudinal Combat was used for data harmonization. This will done separately for `brain_measure` and cerebral tissue volume measures due to different scales."
   ]
  },
  {
   "cell_type": "code",
   "execution_count": 10,
   "metadata": {},
   "outputs": [],
   "source": [
    "# make sure data is ordered correctly\n",
    "bls_26 = bls_26.sort_values(by='participant')\n",
    "subject_ids = bls_26['participant'].values"
   ]
  },
  {
   "cell_type": "code",
   "execution_count": 11,
   "metadata": {},
   "outputs": [],
   "source": [
    "# separate brain_measure and cerebral tissue volumes for Combat\n",
    "bls_26_data = bls_26[desikan_idps_bilateral]\n",
    "bls_26_ctv = bls_26[ctv_columns]\n",
    "covars = bls_26.drop(columns=desikan_idps_bilateral+ctv_columns)\n",
    "covars['diagnosis'] = covars['phenotype'].map({'preterm': 1, 'term': 0})"
   ]
  },
  {
   "cell_type": "markdown",
   "metadata": {},
   "source": [
    "## Harmonize `brain_measure` data\n",
    "Sex and age are included as covariates in the model."
   ]
  },
  {
   "cell_type": "code",
   "execution_count": 12,
   "metadata": {},
   "outputs": [
    {
     "name": "stdout",
     "output_type": "stream",
     "text": [
      "[neuroCombat] Creating design matrix\n",
      "[neuroCombat] Standardizing data across features\n",
      "[neuroCombat] Fitting L/S model and finding priors\n",
      "[neuroCombat] Finding parametric adjustments\n",
      "[neuroCombat] Final adjustment of data\n"
     ]
    }
   ],
   "source": [
    "combat = neuroCombat(dat=bls_26_data.values.transpose(),  # required data format by combat\n",
    "                    covars=covars,\n",
    "                    batch_col=['Scanner_ID'],\n",
    "                    categorical_cols=['sex_code', 'diagnosis'],\n",
    "                    continuous_cols=['age']) \n",
    "data_combat = combat['data']\n",
    "\n",
    "data_combat = pd.DataFrame(data_combat.transpose(), columns=desikan_idps_bilateral, index=subject_ids)\n",
    "data_combat.index.name = 'participant'"
   ]
  },
  {
   "cell_type": "markdown",
   "metadata": {},
   "source": [
    "## Harmonize cerebral tissue volumes"
   ]
  },
  {
   "cell_type": "code",
   "execution_count": 13,
   "metadata": {},
   "outputs": [
    {
     "name": "stdout",
     "output_type": "stream",
     "text": [
      "[neuroCombat] Creating design matrix\n",
      "[neuroCombat] Standardizing data across features\n",
      "[neuroCombat] Fitting L/S model and finding priors\n",
      "[neuroCombat] Finding parametric adjustments\n",
      "[neuroCombat] Final adjustment of data\n"
     ]
    }
   ],
   "source": [
    "combat = neuroCombat(dat=bls_26_ctv.values.transpose(),  # required data format by combat\n",
    "                    covars=covars,\n",
    "                    batch_col=['Scanner_ID'],\n",
    "                    categorical_cols=['sex_code', 'diagnosis'],\n",
    "                    continuous_cols=['age']) \n",
    "data_combat_ctv = combat['data']\n",
    "\n",
    "data_combat_ctv = pd.DataFrame(data_combat_ctv.transpose(), columns=ctv_columns, index=subject_ids)\n",
    "data_combat_ctv.index.name = 'participant'"
   ]
  },
  {
   "cell_type": "code",
   "execution_count": 14,
   "metadata": {},
   "outputs": [],
   "source": [
    "# combine outputs \n",
    "bls_26_combat = covars.merge(data_combat, on='participant')\n",
    "bls_26_combat = bls_26_combat.merge(data_combat_ctv, on='participant')"
   ]
  },
  {
   "cell_type": "markdown",
   "metadata": {},
   "source": [
    "## Combat harmonization stats\n",
    "Calculate the scanner difference between sites before and after harmonization using an ANCOVA model."
   ]
  },
  {
   "cell_type": "code",
   "execution_count": 15,
   "metadata": {},
   "outputs": [],
   "source": [
    "# before\n",
    "bls_26_terms = bls_26[bls_26['phenotype'] == 'term']\n",
    "combat_stats_before = calculate_scanner_difference(bls_26_terms, desikan_idps_bilateral, scanner_var='Scanner_ID', \n",
    "                                                    covars=['age', 'sex_code'])"
   ]
  },
  {
   "cell_type": "code",
   "execution_count": 16,
   "metadata": {},
   "outputs": [],
   "source": [
    "# after\n",
    "data_combat_terms = bls_26_combat[bls_26_combat['diagnosis'] == 0]\n",
    "combat_stats_after = calculate_scanner_difference(data_combat_terms, desikan_idps_bilateral, scanner_var='Scanner_ID', \n",
    "                                                    covars=['age', 'sex_code'])"
   ]
  },
  {
   "cell_type": "code",
   "execution_count": 17,
   "metadata": {},
   "outputs": [
    {
     "data": {
      "image/png": "[encoded data removed]",
      "text/plain": [
       "<Figure size 1000x500 with 1 Axes>"
      ]
     },
     "metadata": {},
     "output_type": "display_data"
    }
   ],
   "source": [
    "# Combine data with identifier column\n",
    "combat_stats_before['Harmonization'] = 'Before'\n",
    "combat_stats_after['Harmonization'] = 'After'\n",
    "combined_stats = pd.concat([combat_stats_before, combat_stats_after])\n",
    "\n",
    "# Create plot\n",
    "fig, ax = plt.subplots(figsize=(10, 5))\n",
    "plt.ioff()\n",
    "\n",
    "# Create grouped barplot\n",
    "sns.barplot(\n",
    "    data=combined_stats,\n",
    "    x='ROI',\n",
    "    y='F-values',\n",
    "    hue='Harmonization',\n",
    "    palette={'Before': 'darkred', 'After': 'orange'},\n",
    "    alpha=0.8\n",
    ")\n",
    "\n",
    "# Formatting\n",
    "plt.xticks(rotation=90, fontsize=8)\n",
    "plt.xlabel('')\n",
    "plt.title('Scanner differences before and after harmonization', fontsize=12)\n",
    "plt.legend(title='')\n",
    "plt.tight_layout()\n",
    "plt.show()"
   ]
  },
  {
   "cell_type": "markdown",
   "metadata": {},
   "source": [
    "# Adapt df for BrainChart framework\n",
    "BrainChart needs a certain format of the data. We will adapt the data accordingly. More information can be found [here](https://brainchart.shinyapps.io/brainchart/)."
   ]
  },
  {
   "cell_type": "code",
   "execution_count": 18,
   "metadata": {},
   "outputs": [],
   "source": [
    "bls_26_combat = bls_26_combat.rename(columns=dict(\n",
    "    id=\"participant\",\n",
    "    age=\"Age\",\n",
    ")) \n",
    "\n",
    "# age\n",
    "bls_26_combat['age_days'] = (bls_26_combat.Age * 365.245) + 280  # from BrainChart instructions\n",
    "\n",
    "# sex\n",
    "bls_26_combat['sex'] = bls_26_combat['sex'].map({'female':'Female', 'male':'Male'})\n",
    "\n",
    "# dx\n",
    "bls_26_combat['dx'] = bls_26_combat['diagnosis'].map({1: 'preterm', 0: 'CN'})\n",
    "\n",
    "# other columns\n",
    "bls_26_combat['study'] = 'BLS-26'\n",
    "bls_26_combat['fs_version'] = 'Custom'\n",
    "bls_26_combat['country'] = 'Multisite'\n",
    "bls_26_combat['run'] = 1\n",
    "bls_26_combat['session'] = 1\n",
    "\n",
    "# drop columns\n",
    "bls_26_combat.drop(columns=['phenotype', 'diagnosis', 'sex_code','Scanner_ID', 'blsgroup'], inplace=True)\n",
    "\n",
    "# reshape and rename last things\n",
    "bls_26_final = reorder_vars(['participant', 'Age', 'age_days', 'sex', 'study', 'fs_version','country', 'run', \n",
    "                            'session', 'dx'], bls_26_combat, desikan_idps_bilateral)\n",
    "bls_26_final.rename(columns={'EstimatedTotalIntraCranialVol': 'eTIV'}, inplace=True)"
   ]
  },
  {
   "cell_type": "code",
   "execution_count": 19,
   "metadata": {},
   "outputs": [],
   "source": [
    "# save\n",
    "bls_26_final.to_csv(join(bls_out, f'BLS-26_{brain_measure}_preprocessed.csv'), index=False)"
   ]
  },
  {
   "cell_type": "markdown",
   "metadata": {},
   "source": [
    "# Stats\n",
    "Summary stats shown in Supp Table S1."
   ]
  },
  {
   "cell_type": "code",
   "execution_count": 20,
   "metadata": {},
   "outputs": [
    {
     "name": "stdout",
     "output_type": "stream",
     "text": [
      "Overall number of unique subjects with longitudinal data: n = 203\n",
      "Preterm stats: n =  96\n",
      "Male      53\n",
      "Female    43\n",
      "Name: sex, dtype: int64\n"
     ]
    },
    {
     "data": {
      "text/html": [
       "<div>\n",
       "<style scoped>\n",
       "    .dataframe tbody tr th:only-of-type {\n",
       "        vertical-align: middle;\n",
       "    }\n",
       "\n",
       "    .dataframe tbody tr th {\n",
       "        vertical-align: top;\n",
       "    }\n",
       "\n",
       "    .dataframe thead th {\n",
       "        text-align: right;\n",
       "    }\n",
       "</style>\n",
       "<table border=\"1\" class=\"dataframe\">\n",
       "  <thead>\n",
       "    <tr style=\"text-align: right;\">\n",
       "      <th></th>\n",
       "      <th>Age</th>\n",
       "      <th>GA</th>\n",
       "      <th>BW</th>\n",
       "      <th>IQ</th>\n",
       "    </tr>\n",
       "  </thead>\n",
       "  <tbody>\n",
       "    <tr>\n",
       "      <th>count</th>\n",
       "      <td>96.00</td>\n",
       "      <td>96.00</td>\n",
       "      <td>96.00</td>\n",
       "      <td>92.00</td>\n",
       "    </tr>\n",
       "    <tr>\n",
       "      <th>mean</th>\n",
       "      <td>26.75</td>\n",
       "      <td>30.49</td>\n",
       "      <td>1324.43</td>\n",
       "      <td>93.99</td>\n",
       "    </tr>\n",
       "    <tr>\n",
       "      <th>std</th>\n",
       "      <td>0.60</td>\n",
       "      <td>2.16</td>\n",
       "      <td>319.18</td>\n",
       "      <td>12.80</td>\n",
       "    </tr>\n",
       "    <tr>\n",
       "      <th>min</th>\n",
       "      <td>25.71</td>\n",
       "      <td>25.00</td>\n",
       "      <td>630.00</td>\n",
       "      <td>64.00</td>\n",
       "    </tr>\n",
       "    <tr>\n",
       "      <th>25%</th>\n",
       "      <td>26.26</td>\n",
       "      <td>29.00</td>\n",
       "      <td>1075.00</td>\n",
       "      <td>85.00</td>\n",
       "    </tr>\n",
       "    <tr>\n",
       "      <th>50%</th>\n",
       "      <td>26.68</td>\n",
       "      <td>30.00</td>\n",
       "      <td>1375.00</td>\n",
       "      <td>94.00</td>\n",
       "    </tr>\n",
       "    <tr>\n",
       "      <th>75%</th>\n",
       "      <td>27.24</td>\n",
       "      <td>31.00</td>\n",
       "      <td>1500.00</td>\n",
       "      <td>100.00</td>\n",
       "    </tr>\n",
       "    <tr>\n",
       "      <th>max</th>\n",
       "      <td>28.34</td>\n",
       "      <td>36.00</td>\n",
       "      <td>2070.00</td>\n",
       "      <td>131.00</td>\n",
       "    </tr>\n",
       "  </tbody>\n",
       "</table>\n",
       "</div>"
      ],
      "text/plain": [
       "         Age     GA       BW      IQ\n",
       "count  96.00  96.00    96.00   92.00\n",
       "mean   26.75  30.49  1324.43   93.99\n",
       "std     0.60   2.16   319.18   12.80\n",
       "min    25.71  25.00   630.00   64.00\n",
       "25%    26.26  29.00  1075.00   85.00\n",
       "50%    26.68  30.00  1375.00   94.00\n",
       "75%    27.24  31.00  1500.00  100.00\n",
       "max    28.34  36.00  2070.00  131.00"
      ]
     },
     "metadata": {},
     "output_type": "display_data"
    },
    {
     "name": "stdout",
     "output_type": "stream",
     "text": [
      "2.0    42\n",
      "3.0    28\n",
      "1.0    26\n",
      "Name: SES_at_birth, dtype: int64\n"
     ]
    }
   ],
   "source": [
    "print(\"Overall number of unique subjects with longitudinal data: n =\", len(bls_26_final))\n",
    "\n",
    "bls_26_final_pt = bls_26_final[bls_26_final['dx'] == 'preterm']\n",
    "bls_26_final_cn = bls_26_final[bls_26_final['dx'] == 'CN']\n",
    "\n",
    "print('Preterm stats: n = ', len(bls_26_final_pt))\n",
    "print(bls_26_final_pt['sex'].value_counts())\n",
    "display(bls_26_final_pt[['Age', 'GA', 'BW', 'IQ']].describe().round(2))\n",
    "print(bls_26_final_pt['SES_at_birth'].value_counts())\n"
   ]
  },
  {
   "cell_type": "code",
   "execution_count": 21,
   "metadata": {},
   "outputs": [
    {
     "name": "stdout",
     "output_type": "stream",
     "text": [
      "Full-term stats: n =  107\n",
      "Male      62\n",
      "Female    45\n",
      "Name: sex, dtype: int64\n"
     ]
    },
    {
     "data": {
      "text/html": [
       "<div>\n",
       "<style scoped>\n",
       "    .dataframe tbody tr th:only-of-type {\n",
       "        vertical-align: middle;\n",
       "    }\n",
       "\n",
       "    .dataframe tbody tr th {\n",
       "        vertical-align: top;\n",
       "    }\n",
       "\n",
       "    .dataframe thead th {\n",
       "        text-align: right;\n",
       "    }\n",
       "</style>\n",
       "<table border=\"1\" class=\"dataframe\">\n",
       "  <thead>\n",
       "    <tr style=\"text-align: right;\">\n",
       "      <th></th>\n",
       "      <th>Age</th>\n",
       "      <th>GA</th>\n",
       "      <th>BW</th>\n",
       "      <th>IQ</th>\n",
       "    </tr>\n",
       "  </thead>\n",
       "  <tbody>\n",
       "    <tr>\n",
       "      <th>count</th>\n",
       "      <td>107.00</td>\n",
       "      <td>107.00</td>\n",
       "      <td>107.00</td>\n",
       "      <td>104.00</td>\n",
       "    </tr>\n",
       "    <tr>\n",
       "      <th>mean</th>\n",
       "      <td>26.82</td>\n",
       "      <td>39.70</td>\n",
       "      <td>3399.90</td>\n",
       "      <td>102.41</td>\n",
       "    </tr>\n",
       "    <tr>\n",
       "      <th>std</th>\n",
       "      <td>0.72</td>\n",
       "      <td>1.06</td>\n",
       "      <td>451.55</td>\n",
       "      <td>11.93</td>\n",
       "    </tr>\n",
       "    <tr>\n",
       "      <th>min</th>\n",
       "      <td>25.49</td>\n",
       "      <td>37.00</td>\n",
       "      <td>2120.00</td>\n",
       "      <td>77.00</td>\n",
       "    </tr>\n",
       "    <tr>\n",
       "      <th>25%</th>\n",
       "      <td>26.31</td>\n",
       "      <td>39.00</td>\n",
       "      <td>3130.00</td>\n",
       "      <td>94.75</td>\n",
       "    </tr>\n",
       "    <tr>\n",
       "      <th>50%</th>\n",
       "      <td>26.75</td>\n",
       "      <td>40.00</td>\n",
       "      <td>3410.00</td>\n",
       "      <td>102.00</td>\n",
       "    </tr>\n",
       "    <tr>\n",
       "      <th>75%</th>\n",
       "      <td>27.33</td>\n",
       "      <td>40.00</td>\n",
       "      <td>3700.00</td>\n",
       "      <td>110.00</td>\n",
       "    </tr>\n",
       "    <tr>\n",
       "      <th>max</th>\n",
       "      <td>28.90</td>\n",
       "      <td>42.00</td>\n",
       "      <td>4670.00</td>\n",
       "      <td>130.00</td>\n",
       "    </tr>\n",
       "  </tbody>\n",
       "</table>\n",
       "</div>"
      ],
      "text/plain": [
       "          Age      GA       BW      IQ\n",
       "count  107.00  107.00   107.00  104.00\n",
       "mean    26.82   39.70  3399.90  102.41\n",
       "std      0.72    1.06   451.55   11.93\n",
       "min     25.49   37.00  2120.00   77.00\n",
       "25%     26.31   39.00  3130.00   94.75\n",
       "50%     26.75   40.00  3410.00  102.00\n",
       "75%     27.33   40.00  3700.00  110.00\n",
       "max     28.90   42.00  4670.00  130.00"
      ]
     },
     "metadata": {},
     "output_type": "display_data"
    },
    {
     "name": "stdout",
     "output_type": "stream",
     "text": [
      "2.0    48\n",
      "1.0    33\n",
      "3.0    26\n",
      "Name: SES_at_birth, dtype: int64\n"
     ]
    }
   ],
   "source": [
    "print('Full-term stats: n = ', len(bls_26_final_cn))\n",
    "print(bls_26_final_cn['sex'].value_counts())\n",
    "display(bls_26_final_cn[['Age', 'GA', 'BW', 'IQ']].describe().round(2))\n",
    "print(bls_26_final_cn['SES_at_birth'].value_counts())"
   ]
  },
  {
   "cell_type": "code",
   "execution_count": null,
   "metadata": {},
   "outputs": [
    {
     "name": "stdout",
     "output_type": "stream",
     "text": [
      "Chi-squared test for sex difference between groups: Chi=0.063, p-value: 0.802\n",
      "t-test for Age at scan: t=-0.691, p-value: 0.490\n",
      "t-test for IQ scores: t=-4.769, p-value: 3.64e-06\n",
      "t-test for GA scores: t=-39.241, p-value: 3.55e-96\n",
      "t-test for BW scores: t=-37.418, p-value: 1.60e-92\n",
      "Mann-Whitney U test for SES at birth scores: U=5455.000, p-value: 0.414\n"
     ]
    }
   ],
   "source": [
    "# test significance\n",
    "contingency_table = pd.crosstab(bls_26_final['dx'], bls_26_final['sex'])\n",
    "chi2, p, dof, expected = chi2_contingency(contingency_table)\n",
    "print(f\"Chi-squared test for sex difference between groups: Chi={chi2:.3f}, p-value: {p:.3f}\")\n",
    "\n",
    "t, p = ttest_ind(bls_26_final_pt['Age'], bls_26_final_cn['Age'], nan_policy='omit', equal_var=True)\n",
    "print(f\"t-test for Age at scan: t={t:.3f}, p-value: {p:.3f}\")\n",
    "\n",
    "t, p = ttest_ind(bls_26_final_pt['IQ'], bls_26_final_cn['IQ'], nan_policy='omit', equal_var=True)\n",
    "print(f\"t-test for IQ scores: t={t:.3f}, p-value: {p:.2e}\")\n",
    "\n",
    "t, p = ttest_ind(bls_26_final_pt['GA'], bls_26_final_cn['GA'], nan_policy='omit', equal_var=True)\n",
    "print(f\"t-test for GA scores: t={t:.3f}, p-value: {p:.2e}\")\n",
    "\n",
    "t, p = ttest_ind(bls_26_final_pt['BW'], bls_26_final_cn['BW'], nan_policy='omit', equal_var=True)\n",
    "print(f\"t-test for BW scores: t={t:.3f}, p-value: {p:.2e}\")\n",
    "\n",
    "stat, p = mannwhitneyu(bls_26_final_pt['SES_at_birth'], bls_26_final_cn['SES_at_birth'], alternative='two-sided')\n",
    "print(f\"Mann-Whitney U test for SES at birth scores: U={stat:.3f}, p-value: {p:.3f}\")\n",
    "\n"
   ]
  }
 ],
 "metadata": {
  "kernelspec": {
   "display_name": ".venv",
   "language": "python",
   "name": "python3"
  },
  "language_info": {
   "codemirror_mode": {
    "name": "ipython",
    "version": 3
   },
   "file_extension": ".py",
   "mimetype": "text/x-python",
   "name": "python",
   "nbconvert_exporter": "python",
   "pygments_lexer": "ipython3",
   "version": "3.11.9"
  }
 },
 "nbformat": 4,
 "nbformat_minor": 2
}
