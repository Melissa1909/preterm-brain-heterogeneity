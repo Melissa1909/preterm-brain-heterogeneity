{
 "cells": [
  {
   "cell_type": "markdown",
   "metadata": {},
   "source": [
    "# Preterm brain development is heterogeneous\n",
    "For each modality (i.e., CT, SA, and measures of cerebral tissue volume) and each dataset, we will now show that average dysmaturation outcomes, derived from classic case-control studies, are not representative for individual brain outcomes. Results demonstrate that brain development after preterm birth is highly heterogeneous. \n",
    "For this, we will:\n",
    "1. Calculate the average dysmaturation outcome by comparing preterm subjects to full-term controls using a linear model (brain_measure ~ diagnosis + age + sex)\n",
    "2. Calculate the individual brain abnormality pattern (IBAP) for each subject based on the BrainChart framework\n",
    "3. Calculate the percentage of subjects with extranormal deviations\n",
    "4. Compare spatial similarity of IBAPs among preterm individuals using cross-correlation of binarized IBAPs\n",
    "\n",
    "\n",
    "In step 2, we will refit the pretrained BrainChart models to the selected dataset. Since this requires some computational power, several cores can be used in parallel to speed up the process (`cpu_num`). The pretrained models and some functions from the original BrainChart project released [here](https://github.com/brainchart/Lifespan) are used.\n",
    "\n",
    "🌈 To run this script without the access to the original data, set `dataset` to `synthetic_BLS-26`."
   ]
  },
  {
   "cell_type": "code",
   "execution_count": 1,
   "metadata": {},
   "outputs": [],
   "source": [
    "# manually set path to R if there are problems with the automatic detection\n",
    "# import os\n",
    "# os.environ['R_HOME'] = '/Library/Frameworks/R.framework/R'  # adapt to your R installation"
   ]
  },
  {
   "cell_type": "code",
   "execution_count": 2,
   "metadata": {},
   "outputs": [],
   "source": [
    "%load_ext autoreload\n",
    "%autoreload 2\n",
    "# Use rpy2 to run R in python notebook for braincharts\n",
    "%load_ext rpy2.ipython"
   ]
  },
  {
   "cell_type": "code",
   "execution_count": 3,
   "metadata": {},
   "outputs": [],
   "source": [
    "import os\n",
    "from os.path import join\n",
    "import pandas as pd\n",
    "import numpy as np\n",
    "import matplotlib.pyplot as plt\n",
    "import seaborn as sns\n",
    "\n",
    "import gc  # for clearing unnecessary variables\n",
    "\n",
    "sns.set(style='white')\n",
    "\n",
    "# import custom functions\n",
    "import sys\n",
    "sys.path.append('code')\n",
    "from utils import get_roi_names\n",
    "from plotting import get_significant_cortical_vals_for_plotting, plot_brain_map, plot_group_difference_global, plot_individual_brain_maps\n",
    "from spatial_heterogeneity import *\n",
    "\n",
    "\n",
    "# some settings - please adapt to your needs\n",
    "brain_measure = 'SA'  # CT or SA\n",
    "dataset = 'ABCD-10' \n",
    "scale = 1  # scale for brain plots; run with scale = 10 for higher resolution\n",
    "refit_models = True  # whether to repeat adaptation of the pretrained models to the new data, computationally intense\n",
    "cpu_num = 6  # number of cores to use for refitting BrainChart models"
   ]
  },
  {
   "cell_type": "code",
   "execution_count": 4,
   "metadata": {},
   "outputs": [],
   "source": [
    "# directories\n",
    "data_dir = 'data'\n",
    "outputs_dir = join('outputs', 'spatial_heterogeneity')\n",
    "os.makedirs(outputs_dir, exist_ok=True)\n",
    "\n",
    "braincharts_sw_dir = 'Lifespan'\n",
    "\n",
    "out_dir_main = join(outputs_dir, dataset)\n",
    "os.makedirs(out_dir_main, exist_ok=True)"
   ]
  },
  {
   "cell_type": "markdown",
   "metadata": {},
   "source": [
    "# Load data"
   ]
  },
  {
   "cell_type": "code",
   "execution_count": 5,
   "metadata": {},
   "outputs": [],
   "source": [
    "# get list of ROIs\n",
    "rois = get_roi_names(brain_measure, global_vars=True)\n",
    "if brain_measure == 'CT':\n",
    "    rois.append('meanCT2')\n",
    "\n",
    "# load preprocessed data\n",
    "if dataset.startswith('BLS') or dataset.startswith('ABCD'):\n",
    "    dataset_name = dataset[:-3]\n",
    "else:\n",
    "    dataset_name = dataset\n",
    "data = pd.read_csv(join(data_dir, dataset_name, 'derivatives', f'{dataset}_{brain_measure}_preprocessed.csv'))"
   ]
  },
  {
   "cell_type": "markdown",
   "metadata": {},
   "source": [
    "# 1. Average dysmaturation outcome after preterm birth"
   ]
  },
  {
   "cell_type": "code",
   "execution_count": 6,
   "metadata": {},
   "outputs": [],
   "source": [
    "out_dir = join(out_dir_main, 'average_dysmaturation')\n",
    "os.makedirs(out_dir, exist_ok=True)"
   ]
  },
  {
   "cell_type": "code",
   "execution_count": 7,
   "metadata": {},
   "outputs": [
    {
     "data": {
      "text/html": [
       "<div>\n",
       "<style scoped>\n",
       "    .dataframe tbody tr th:only-of-type {\n",
       "        vertical-align: middle;\n",
       "    }\n",
       "\n",
       "    .dataframe tbody tr th {\n",
       "        vertical-align: top;\n",
       "    }\n",
       "\n",
       "    .dataframe thead th {\n",
       "        text-align: right;\n",
       "    }\n",
       "</style>\n",
       "<table border=\"1\" class=\"dataframe\">\n",
       "  <thead>\n",
       "    <tr style=\"text-align: right;\">\n",
       "      <th></th>\n",
       "      <th>t_statistic</th>\n",
       "      <th>Cohen_d</th>\n",
       "      <th>p_value</th>\n",
       "      <th>p_fdr</th>\n",
       "    </tr>\n",
       "    <tr>\n",
       "      <th>ROI</th>\n",
       "      <th></th>\n",
       "      <th></th>\n",
       "      <th></th>\n",
       "      <th></th>\n",
       "    </tr>\n",
       "  </thead>\n",
       "  <tbody>\n",
       "    <tr>\n",
       "      <th>SA_bankssts</th>\n",
       "      <td>-2.544</td>\n",
       "      <td>0.208</td>\n",
       "      <td>0.011</td>\n",
       "      <td>0.033</td>\n",
       "    </tr>\n",
       "    <tr>\n",
       "      <th>SA_caudalanteriorcingulate</th>\n",
       "      <td>-0.364</td>\n",
       "      <td>0.030</td>\n",
       "      <td>0.716</td>\n",
       "      <td>0.757</td>\n",
       "    </tr>\n",
       "    <tr>\n",
       "      <th>SA_caudalmiddlefrontal</th>\n",
       "      <td>-1.749</td>\n",
       "      <td>0.141</td>\n",
       "      <td>0.08</td>\n",
       "      <td>0.137</td>\n",
       "    </tr>\n",
       "    <tr>\n",
       "      <th>SA_cuneus</th>\n",
       "      <td>-0.814</td>\n",
       "      <td>0.070</td>\n",
       "      <td>0.416</td>\n",
       "      <td>0.513</td>\n",
       "    </tr>\n",
       "    <tr>\n",
       "      <th>SA_entorhinal</th>\n",
       "      <td>1.888</td>\n",
       "      <td>-0.147</td>\n",
       "      <td>0.059</td>\n",
       "      <td>0.119</td>\n",
       "    </tr>\n",
       "    <tr>\n",
       "      <th>SA_fusiform</th>\n",
       "      <td>-2.241</td>\n",
       "      <td>0.174</td>\n",
       "      <td>0.025</td>\n",
       "      <td>0.066</td>\n",
       "    </tr>\n",
       "    <tr>\n",
       "      <th>SA_inferiorparietal</th>\n",
       "      <td>-3.462</td>\n",
       "      <td>0.278</td>\n",
       "      <td>0.001</td>\n",
       "      <td>0.010</td>\n",
       "    </tr>\n",
       "    <tr>\n",
       "      <th>SA_inferiortemporal</th>\n",
       "      <td>0.149</td>\n",
       "      <td>-0.008</td>\n",
       "      <td>0.881</td>\n",
       "      <td>0.881</td>\n",
       "    </tr>\n",
       "    <tr>\n",
       "      <th>SA_isthmuscingulate</th>\n",
       "      <td>-3.046</td>\n",
       "      <td>0.245</td>\n",
       "      <td>0.002</td>\n",
       "      <td>0.014</td>\n",
       "    </tr>\n",
       "    <tr>\n",
       "      <th>SA_lateraloccipital</th>\n",
       "      <td>-1.931</td>\n",
       "      <td>0.156</td>\n",
       "      <td>0.054</td>\n",
       "      <td>0.116</td>\n",
       "    </tr>\n",
       "    <tr>\n",
       "      <th>SA_lateralorbitofrontal</th>\n",
       "      <td>-2.524</td>\n",
       "      <td>0.201</td>\n",
       "      <td>0.012</td>\n",
       "      <td>0.033</td>\n",
       "    </tr>\n",
       "    <tr>\n",
       "      <th>SA_lingual</th>\n",
       "      <td>-0.823</td>\n",
       "      <td>0.072</td>\n",
       "      <td>0.41</td>\n",
       "      <td>0.513</td>\n",
       "    </tr>\n",
       "    <tr>\n",
       "      <th>SA_medialorbitofrontal</th>\n",
       "      <td>-1.850</td>\n",
       "      <td>0.145</td>\n",
       "      <td>0.064</td>\n",
       "      <td>0.119</td>\n",
       "    </tr>\n",
       "    <tr>\n",
       "      <th>SA_middletemporal</th>\n",
       "      <td>-2.795</td>\n",
       "      <td>0.221</td>\n",
       "      <td>0.005</td>\n",
       "      <td>0.022</td>\n",
       "    </tr>\n",
       "    <tr>\n",
       "      <th>SA_parahippocampal</th>\n",
       "      <td>-2.209</td>\n",
       "      <td>0.176</td>\n",
       "      <td>0.027</td>\n",
       "      <td>0.067</td>\n",
       "    </tr>\n",
       "    <tr>\n",
       "      <th>SA_paracentral</th>\n",
       "      <td>0.252</td>\n",
       "      <td>-0.015</td>\n",
       "      <td>0.801</td>\n",
       "      <td>0.823</td>\n",
       "    </tr>\n",
       "    <tr>\n",
       "      <th>SA_parsopercularis</th>\n",
       "      <td>-2.810</td>\n",
       "      <td>0.232</td>\n",
       "      <td>0.005</td>\n",
       "      <td>0.022</td>\n",
       "    </tr>\n",
       "    <tr>\n",
       "      <th>SA_parsorbitalis</th>\n",
       "      <td>-0.451</td>\n",
       "      <td>0.039</td>\n",
       "      <td>0.652</td>\n",
       "      <td>0.709</td>\n",
       "    </tr>\n",
       "    <tr>\n",
       "      <th>SA_parstriangularis</th>\n",
       "      <td>-3.173</td>\n",
       "      <td>0.254</td>\n",
       "      <td>0.002</td>\n",
       "      <td>0.012</td>\n",
       "    </tr>\n",
       "    <tr>\n",
       "      <th>SA_pericalcarine</th>\n",
       "      <td>0.633</td>\n",
       "      <td>-0.050</td>\n",
       "      <td>0.527</td>\n",
       "      <td>0.609</td>\n",
       "    </tr>\n",
       "    <tr>\n",
       "      <th>SA_postcentral</th>\n",
       "      <td>-2.792</td>\n",
       "      <td>0.227</td>\n",
       "      <td>0.005</td>\n",
       "      <td>0.022</td>\n",
       "    </tr>\n",
       "    <tr>\n",
       "      <th>SA_posteriorcingulate</th>\n",
       "      <td>-1.692</td>\n",
       "      <td>0.138</td>\n",
       "      <td>0.091</td>\n",
       "      <td>0.146</td>\n",
       "    </tr>\n",
       "    <tr>\n",
       "      <th>SA_precentral</th>\n",
       "      <td>-1.154</td>\n",
       "      <td>0.094</td>\n",
       "      <td>0.249</td>\n",
       "      <td>0.328</td>\n",
       "    </tr>\n",
       "    <tr>\n",
       "      <th>SA_precuneus</th>\n",
       "      <td>-1.524</td>\n",
       "      <td>0.125</td>\n",
       "      <td>0.127</td>\n",
       "      <td>0.197</td>\n",
       "    </tr>\n",
       "    <tr>\n",
       "      <th>SA_rostralanteriorcingulate</th>\n",
       "      <td>-1.859</td>\n",
       "      <td>0.151</td>\n",
       "      <td>0.063</td>\n",
       "      <td>0.119</td>\n",
       "    </tr>\n",
       "    <tr>\n",
       "      <th>SA_rostralmiddlefrontal</th>\n",
       "      <td>0.726</td>\n",
       "      <td>-0.053</td>\n",
       "      <td>0.468</td>\n",
       "      <td>0.559</td>\n",
       "    </tr>\n",
       "    <tr>\n",
       "      <th>SA_superiorfrontal</th>\n",
       "      <td>-1.261</td>\n",
       "      <td>0.100</td>\n",
       "      <td>0.207</td>\n",
       "      <td>0.295</td>\n",
       "    </tr>\n",
       "    <tr>\n",
       "      <th>SA_superiorparietal</th>\n",
       "      <td>-3.518</td>\n",
       "      <td>0.292</td>\n",
       "      <td>&lt;0.001</td>\n",
       "      <td>0.010</td>\n",
       "    </tr>\n",
       "    <tr>\n",
       "      <th>SA_superiortemporal</th>\n",
       "      <td>-1.966</td>\n",
       "      <td>0.156</td>\n",
       "      <td>0.049</td>\n",
       "      <td>0.114</td>\n",
       "    </tr>\n",
       "    <tr>\n",
       "      <th>SA_supramarginal</th>\n",
       "      <td>-1.299</td>\n",
       "      <td>0.108</td>\n",
       "      <td>0.194</td>\n",
       "      <td>0.287</td>\n",
       "    </tr>\n",
       "    <tr>\n",
       "      <th>SA_frontalpole</th>\n",
       "      <td>0.511</td>\n",
       "      <td>-0.032</td>\n",
       "      <td>0.609</td>\n",
       "      <td>0.683</td>\n",
       "    </tr>\n",
       "    <tr>\n",
       "      <th>SA_temporalpole</th>\n",
       "      <td>2.735</td>\n",
       "      <td>-0.209</td>\n",
       "      <td>0.006</td>\n",
       "      <td>0.023</td>\n",
       "    </tr>\n",
       "    <tr>\n",
       "      <th>SA_transversetemporal</th>\n",
       "      <td>-1.742</td>\n",
       "      <td>0.143</td>\n",
       "      <td>0.082</td>\n",
       "      <td>0.137</td>\n",
       "    </tr>\n",
       "    <tr>\n",
       "      <th>SA_insula</th>\n",
       "      <td>-3.223</td>\n",
       "      <td>0.252</td>\n",
       "      <td>0.001</td>\n",
       "      <td>0.012</td>\n",
       "    </tr>\n",
       "    <tr>\n",
       "      <th>WMV</th>\n",
       "      <td>-1.160</td>\n",
       "      <td>0.083</td>\n",
       "      <td>0.246</td>\n",
       "      <td>0.328</td>\n",
       "    </tr>\n",
       "    <tr>\n",
       "      <th>GMV</th>\n",
       "      <td>-3.145</td>\n",
       "      <td>0.244</td>\n",
       "      <td>0.002</td>\n",
       "      <td>0.012</td>\n",
       "    </tr>\n",
       "    <tr>\n",
       "      <th>sGMV</th>\n",
       "      <td>-2.622</td>\n",
       "      <td>0.195</td>\n",
       "      <td>0.009</td>\n",
       "      <td>0.029</td>\n",
       "    </tr>\n",
       "  </tbody>\n",
       "</table>\n",
       "</div>"
      ],
      "text/plain": [
       "                             t_statistic  Cohen_d p_value  p_fdr\n",
       "ROI                                                             \n",
       "SA_bankssts                       -2.544    0.208   0.011  0.033\n",
       "SA_caudalanteriorcingulate        -0.364    0.030   0.716  0.757\n",
       "SA_caudalmiddlefrontal            -1.749    0.141    0.08  0.137\n",
       "SA_cuneus                         -0.814    0.070   0.416  0.513\n",
       "SA_entorhinal                      1.888   -0.147   0.059  0.119\n",
       "SA_fusiform                       -2.241    0.174   0.025  0.066\n",
       "SA_inferiorparietal               -3.462    0.278   0.001  0.010\n",
       "SA_inferiortemporal                0.149   -0.008   0.881  0.881\n",
       "SA_isthmuscingulate               -3.046    0.245   0.002  0.014\n",
       "SA_lateraloccipital               -1.931    0.156   0.054  0.116\n",
       "SA_lateralorbitofrontal           -2.524    0.201   0.012  0.033\n",
       "SA_lingual                        -0.823    0.072    0.41  0.513\n",
       "SA_medialorbitofrontal            -1.850    0.145   0.064  0.119\n",
       "SA_middletemporal                 -2.795    0.221   0.005  0.022\n",
       "SA_parahippocampal                -2.209    0.176   0.027  0.067\n",
       "SA_paracentral                     0.252   -0.015   0.801  0.823\n",
       "SA_parsopercularis                -2.810    0.232   0.005  0.022\n",
       "SA_parsorbitalis                  -0.451    0.039   0.652  0.709\n",
       "SA_parstriangularis               -3.173    0.254   0.002  0.012\n",
       "SA_pericalcarine                   0.633   -0.050   0.527  0.609\n",
       "SA_postcentral                    -2.792    0.227   0.005  0.022\n",
       "SA_posteriorcingulate             -1.692    0.138   0.091  0.146\n",
       "SA_precentral                     -1.154    0.094   0.249  0.328\n",
       "SA_precuneus                      -1.524    0.125   0.127  0.197\n",
       "SA_rostralanteriorcingulate       -1.859    0.151   0.063  0.119\n",
       "SA_rostralmiddlefrontal            0.726   -0.053   0.468  0.559\n",
       "SA_superiorfrontal                -1.261    0.100   0.207  0.295\n",
       "SA_superiorparietal               -3.518    0.292  <0.001  0.010\n",
       "SA_superiortemporal               -1.966    0.156   0.049  0.114\n",
       "SA_supramarginal                  -1.299    0.108   0.194  0.287\n",
       "SA_frontalpole                     0.511   -0.032   0.609  0.683\n",
       "SA_temporalpole                    2.735   -0.209   0.006  0.023\n",
       "SA_transversetemporal             -1.742    0.143   0.082  0.137\n",
       "SA_insula                         -3.223    0.252   0.001  0.012\n",
       "WMV                               -1.160    0.083   0.246  0.328\n",
       "GMV                               -3.145    0.244   0.002  0.012\n",
       "sGMV                              -2.622    0.195   0.009  0.029"
      ]
     },
     "metadata": {},
     "output_type": "display_data"
    }
   ],
   "source": [
    "tvals_mr = group_comparison(rois, data, covariates=['age_days', 'sex'])\n",
    "tvals_mr.to_csv(join(out_dir, f'{dataset}_{brain_measure}_average_dysmaturation.csv'), index=False)\n",
    "\n",
    "# show table and round every value to 3 decimal places, replace 0.000 with <0.001\n",
    "tvals_mr_table = tvals_mr.set_index('ROI').round(3).replace(0.000, '<0.001')\n",
    "tvals_mr_table.to_csv(join(out_dir, f'{dataset}_{brain_measure}_average_dysmaturation_table.csv'), index=True)\n",
    "display(tvals_mr_table)"
   ]
  },
  {
   "cell_type": "code",
   "execution_count": 8,
   "metadata": {},
   "outputs": [
    {
     "name": "stdout",
     "output_type": "stream",
     "text": [
      "Plotted brain map and saved it to outputs/spatial_heterogeneity/ABCD-10/average_dysmaturation/ABCD-10_SA_avg_dysmaturation_term-preterm.svg\n"
     ]
    }
   ],
   "source": [
    "# plot the t-statistic only for significant ROIs after FDR-correction\n",
    "rois_cortical = get_roi_names(brain_measure, global_vars=False)\n",
    "sig_t = get_significant_cortical_vals_for_plotting(data=tvals_mr, rois_cortical=rois_cortical, statistic='t_statistic', bilateral=True)\n",
    "\n",
    "outname = join(out_dir, f'{dataset}_{brain_measure}_avg_dysmaturation_term-preterm.svg')\n",
    "plot_brain_map(sig_t, outname, scale=scale, limits=(-5, 5))  # larger scale improves image quality\n"
   ]
  },
  {
   "cell_type": "code",
   "execution_count": 9,
   "metadata": {},
   "outputs": [
    {
     "name": "stdout",
     "output_type": "stream",
     "text": [
      "p-value annotation legend:\n",
      "      ns: 5.00e-02 < p <= 1.00e+00\n",
      "       *: 1.00e-02 < p <= 5.00e-02\n",
      "      **: 1.00e-03 < p <= 1.00e-02\n",
      "     ***: 1.00e-04 < p <= 1.00e-03\n",
      "    ****: p <= 1.00e-04\n",
      "\n",
      "CN vs. preterm: t-test independent samples with Benjamini-Hochberg correction, P_val:3.437e-03 t=2.927e+00\n"
     ]
    },
    {
     "name": "stderr",
     "output_type": "stream",
     "text": [
      "/Users/melissa/Dokumente/PhD/01B_preterm_normative/scripts/preterm-brain-heterogeneity/code/plotting.py:90: UserWarning: set_ticklabels() should only be used with a fixed number of ticks, i.e. after set_ticks() or using a FixedLocator.\n",
      "  ax.set_xticklabels(['Term', 'Preterm'])\n"
     ]
    },
    {
     "data": {
      "image/png": "[encoded data removed]",
      "text/plain": [
       "<Figure size 300x400 with 1 Axes>"
      ]
     },
     "metadata": {},
     "output_type": "display_data"
    },
    {
     "name": "stderr",
     "output_type": "stream",
     "text": [
      "/Users/melissa/Dokumente/PhD/01B_preterm_normative/scripts/preterm-brain-heterogeneity/code/plotting.py:90: UserWarning: set_ticklabels() should only be used with a fixed number of ticks, i.e. after set_ticks() or using a FixedLocator.\n",
      "  ax.set_xticklabels(['Term', 'Preterm'])\n"
     ]
    },
    {
     "name": "stdout",
     "output_type": "stream",
     "text": [
      "Plotted group difference for GMV and saved it to outputs/spatial_heterogeneity/ABCD-10/average_dysmaturation/ABCD-10_GMV_avg_dysmaturation_term-preterm.svg\n",
      "p-value annotation legend:\n",
      "      ns: 5.00e-02 < p <= 1.00e+00\n",
      "       *: 1.00e-02 < p <= 5.00e-02\n",
      "      **: 1.00e-03 < p <= 1.00e-02\n",
      "     ***: 1.00e-04 < p <= 1.00e-03\n",
      "    ****: p <= 1.00e-04\n",
      "\n",
      "CN vs. preterm: t-test independent samples with Benjamini-Hochberg correction, P_val:3.207e-01 t=9.932e-01\n"
     ]
    },
    {
     "data": {
      "image/png": "[encoded data removed]",
      "text/plain": [
       "<Figure size 300x400 with 1 Axes>"
      ]
     },
     "metadata": {},
     "output_type": "display_data"
    },
    {
     "name": "stdout",
     "output_type": "stream",
     "text": [
      "Plotted group difference for WMV and saved it to outputs/spatial_heterogeneity/ABCD-10/average_dysmaturation/ABCD-10_WMV_avg_dysmaturation_term-preterm.svg\n",
      "p-value annotation legend:\n",
      "      ns: 5.00e-02 < p <= 1.00e+00\n",
      "       *: 1.00e-02 < p <= 5.00e-02\n",
      "      **: 1.00e-03 < p <= 1.00e-02\n",
      "     ***: 1.00e-04 < p <= 1.00e-03\n",
      "    ****: p <= 1.00e-04\n",
      "\n",
      "CN vs. preterm: t-test independent samples with Benjamini-Hochberg correction, P_val:1.918e-02 t=2.343e+00\n"
     ]
    },
    {
     "name": "stderr",
     "output_type": "stream",
     "text": [
      "/Users/melissa/Dokumente/PhD/01B_preterm_normative/scripts/preterm-brain-heterogeneity/code/plotting.py:90: UserWarning: set_ticklabels() should only be used with a fixed number of ticks, i.e. after set_ticks() or using a FixedLocator.\n",
      "  ax.set_xticklabels(['Term', 'Preterm'])\n"
     ]
    },
    {
     "data": {
      "image/png": "[encoded data removed]",
      "text/plain": [
       "<Figure size 300x400 with 1 Axes>"
      ]
     },
     "metadata": {},
     "output_type": "display_data"
    },
    {
     "name": "stdout",
     "output_type": "stream",
     "text": [
      "Plotted group difference for sGMV and saved it to outputs/spatial_heterogeneity/ABCD-10/average_dysmaturation/ABCD-10_sGMV_avg_dysmaturation_term-preterm.svg\n"
     ]
    }
   ],
   "source": [
    "# plot measures of cerebral tissue volume\n",
    "for ctv_measure in ['GMV', 'WMV', 'sGMV']:\n",
    "    outname = join(out_dir, f'{dataset}_{ctv_measure}_avg_dysmaturation_term-preterm.svg')\n",
    "    # in dHCP,x one outlier with sGMV = 0 was removed\n",
    "    data = data[data['sGMV'] > 0]\n",
    "    plot_group_difference_global(data=data, x='dx', y=ctv_measure, yaxis_label = f'{ctv_measure} [mm$^3$]', outname=outname)"
   ]
  },
  {
   "cell_type": "markdown",
   "metadata": {},
   "source": [
    "# 2. Individual brain aberration patterns (IBAP) for each subject"
   ]
  },
  {
   "cell_type": "code",
   "execution_count": 10,
   "metadata": {},
   "outputs": [],
   "source": [
    "out_dir = join(out_dir_main, f'braincharts_model_adapted_{brain_measure}')\n",
    "os.makedirs(out_dir, exist_ok=True)\n",
    "\n",
    "out_dir_analysis = join(out_dir_main, f'IBAP_{brain_measure}')\n",
    "os.makedirs(out_dir_analysis, exist_ok=True)"
   ]
  },
  {
   "cell_type": "code",
   "execution_count": 11,
   "metadata": {},
   "outputs": [
    {
     "name": "stdout",
     "output_type": "stream",
     "text": [
      "Loaded both timepoints for ABCD. Data shape: (10154, 52)\n"
     ]
    }
   ],
   "source": [
    "# adjust settings for ABCD: longitudinal analysis but split into two timepoints after model adaptation again\n",
    "if dataset_name == 'ABCD':\n",
    "    # combine two timepoints for longitudinal estimation of random effect of study\n",
    "    data = pd.read_csv(join(data_dir, dataset_name, 'derivatives', f'{dataset_name}_{brain_measure}_preprocessed.csv'))\n",
    "    print('Loaded both timepoints for ABCD. Data shape:', data.shape)\n",
    "    \n",
    "    if dataset == 'ABCD-10':\n",
    "        abcd_session = 1\n",
    "    elif dataset == 'ABCD-12':\n",
    "        abcd_session = 2\n",
    "        out_dir = join(outputs_dir, 'ABCD-10', f'braincharts_model_adapted_{brain_measure}')\n"
   ]
  },
  {
   "cell_type": "markdown",
   "metadata": {},
   "source": [
    "## Refit the pretrained model and calculate deviation scores\n",
    "The calculation will be done in R. Since the calculation will take some time, it is recommended to adjust the number of cores in `cpu_num` for higher processing speed. However, stick to the limits of your system!"
   ]
  },
  {
   "cell_type": "code",
   "execution_count": null,
   "metadata": {},
   "outputs": [
    {
     "name": "stdout",
     "output_type": "stream",
     "text": [
      "── Attaching core tidyverse packages ──────────────────────── tidyverse 2.0.0 ──\n",
      "✔ dplyr     1.1.4     ✔ readr     2.1.5\n",
      "✔ forcats   1.0.0     ✔ stringr   1.5.1\n",
      "✔ lubridate 1.9.3     ✔ tibble    3.2.1\n",
      "✔ purrr     1.0.2     ✔ tidyr     1.3.1\n",
      "── Conflicts ────────────────────────────────────────── tidyverse_conflicts() ──\n",
      "✖ dplyr::collapse() masks nlme::collapse()\n",
      "✖ dplyr::filter()   masks stats::filter()\n",
      "✖ dplyr::lag()      masks stats::lag()\n",
      "ℹ Use the conflicted package (<http://conflicted.r-lib.org/>) to force all conflicts to become errors\n",
      "[1] \"SA_bankssts\"\n",
      "[1] \"MODELLING:  SA_bankssts ....................\"\n",
      "[1] \"Lifespan/Share/RefittedModels\"\n",
      "NewData inspected and any novel studies identified. Finding Maximum Likelihood estimates for random-effects. \n",
      "Computing novel random-effects for bootstrap replicates using 6 cores. This may take some time.\n",
      "Novel bootstrap estimaton complete.\n",
      "Novel study random-effects calculated.\n",
      "Computing bootstrap intervals using 6 cores. This may take some time.\n",
      "Bootstrap intervals complete\n",
      "[1] \"SA_caudalanteriorcingulate\"\n",
      "[1] \"MODELLING:  SA_caudalanteriorcingulate ....................\"\n",
      "[1] \"Lifespan/Share/RefittedModels\"\n",
      "NewData inspected and any novel studies identified. Finding Maximum Likelihood estimates for random-effects. \n",
      "Computing novel random-effects for bootstrap replicates using 6 cores. This may take some time.\n",
      "Novel bootstrap estimaton complete.\n",
      "Novel study random-effects calculated.\n",
      "Computing bootstrap intervals using 6 cores. This may take some time.\n",
      "Bootstrap intervals complete\n",
      "[1] \"SA_caudalmiddlefrontal\"\n",
      "[1] \"MODELLING:  SA_caudalmiddlefrontal ....................\"\n",
      "[1] \"Lifespan/Share/RefittedModels\"\n",
      "NewData inspected and any novel studies identified. Finding Maximum Likelihood estimates for random-effects. \n",
      "Computing novel random-effects for bootstrap replicates using 6 cores. This may take some time.\n",
      "Novel bootstrap estimaton complete.\n",
      "Novel study random-effects calculated.\n",
      "Computing bootstrap intervals using 6 cores. This may take some time.\n",
      "Bootstrap intervals complete\n",
      "[1] \"SA_cuneus\"\n",
      "[1] \"MODELLING:  SA_cuneus ....................\"\n",
      "[1] \"Lifespan/Share/RefittedModels\"\n",
      "NewData inspected and any novel studies identified. Finding Maximum Likelihood estimates for random-effects. \n",
      "Computing novel random-effects for bootstrap replicates using 6 cores. This may take some time.\n",
      "Novel bootstrap estimaton complete.\n",
      "Novel study random-effects calculated.\n",
      "Computing bootstrap intervals using 6 cores. This may take some time.\n",
      "Bootstrap intervals complete\n",
      "[1] \"SA_fusiform\"\n",
      "[1] \"MODELLING:  SA_fusiform ....................\"\n",
      "[1] \"Lifespan/Share/RefittedModels\"\n",
      "NewData inspected and any novel studies identified. Finding Maximum Likelihood estimates for random-effects. \n",
      "Computing novel random-effects for bootstrap replicates using 6 cores. This may take some time.\n",
      "Novel bootstrap estimaton complete.\n",
      "Novel study random-effects calculated.\n",
      "Computing bootstrap intervals using 6 cores. This may take some time.\n",
      "Bootstrap intervals complete\n",
      "[1] \"SA_inferiorparietal\"\n",
      "[1] \"MODELLING:  SA_inferiorparietal ....................\"\n",
      "[1] \"Lifespan/Share/RefittedModels\"\n",
      "NewData inspected and any novel studies identified. Finding Maximum Likelihood estimates for random-effects. \n",
      "Computing novel random-effects for bootstrap replicates using 6 cores. This may take some time.\n",
      "Novel bootstrap estimaton complete.\n",
      "Novel study random-effects calculated.\n",
      "Computing bootstrap intervals using 6 cores. This may take some time.\n",
      "Bootstrap intervals complete\n",
      "[1] \"SA_inferiortemporal\"\n",
      "[1] \"MODELLING:  SA_inferiortemporal ....................\"\n",
      "[1] \"Lifespan/Share/RefittedModels\"\n",
      "NewData inspected and any novel studies identified. Finding Maximum Likelihood estimates for random-effects. \n",
      "Computing novel random-effects for bootstrap replicates using 6 cores. This may take some time.\n",
      "Novel bootstrap estimaton complete.\n",
      "Novel study random-effects calculated.\n",
      "Computing bootstrap intervals using 6 cores. This may take some time.\n",
      "Bootstrap intervals complete\n",
      "[1] \"SA_isthmuscingulate\"\n",
      "[1] \"MODELLING:  SA_isthmuscingulate ....................\"\n",
      "[1] \"Lifespan/Share/RefittedModels\"\n",
      "NewData inspected and any novel studies identified. Finding Maximum Likelihood estimates for random-effects. \n",
      "Computing novel random-effects for bootstrap replicates using 6 cores. This may take some time.\n",
      "Novel bootstrap estimaton complete.\n",
      "Novel study random-effects calculated.\n",
      "Computing bootstrap intervals using 6 cores. This may take some time.\n",
      "Bootstrap intervals complete\n",
      "[1] \"SA_lateraloccipital\"\n",
      "[1] \"MODELLING:  SA_lateraloccipital ....................\"\n",
      "[1] \"Lifespan/Share/RefittedModels\"\n",
      "NewData inspected and any novel studies identified. Finding Maximum Likelihood estimates for random-effects. \n",
      "Computing novel random-effects for bootstrap replicates using 6 cores. This may take some time.\n",
      "Novel bootstrap estimaton complete.\n",
      "Novel study random-effects calculated.\n",
      "Computing bootstrap intervals using 6 cores. This may take some time.\n",
      "Bootstrap intervals complete\n",
      "[1] \"SA_lateralorbitofrontal\"\n",
      "[1] \"MODELLING:  SA_lateralorbitofrontal ....................\"\n",
      "[1] \"Lifespan/Share/RefittedModels\"\n",
      "NewData inspected and any novel studies identified. Finding Maximum Likelihood estimates for random-effects. \n",
      "Computing novel random-effects for bootstrap replicates using 6 cores. This may take some time.\n",
      "Novel bootstrap estimaton complete.\n",
      "Novel study random-effects calculated.\n",
      "Computing bootstrap intervals using 6 cores. This may take some time.\n",
      "Bootstrap intervals complete\n",
      "[1] \"SA_lingual\"\n",
      "[1] \"MODELLING:  SA_lingual ....................\"\n",
      "[1] \"Lifespan/Share/RefittedModels\"\n",
      "NewData inspected and any novel studies identified. Finding Maximum Likelihood estimates for random-effects. \n",
      "Computing novel random-effects for bootstrap replicates using 6 cores. This may take some time.\n",
      "Novel bootstrap estimaton complete.\n",
      "Novel study random-effects calculated.\n",
      "Computing bootstrap intervals using 6 cores. This may take some time.\n",
      "Bootstrap intervals complete\n",
      "[1] \"SA_medialorbitofrontal\"\n",
      "[1] \"MODELLING:  SA_medialorbitofrontal ....................\"\n",
      "[1] \"Lifespan/Share/RefittedModels\"\n",
      "NewData inspected and any novel studies identified. Finding Maximum Likelihood estimates for random-effects. \n",
      "Computing novel random-effects for bootstrap replicates using 6 cores. This may take some time.\n",
      "Novel bootstrap estimaton complete.\n",
      "Novel study random-effects calculated.\n",
      "Computing bootstrap intervals using 6 cores. This may take some time.\n",
      "Bootstrap intervals complete\n",
      "[1] \"SA_middletemporal\"\n",
      "[1] \"MODELLING:  SA_middletemporal ....................\"\n",
      "[1] \"Lifespan/Share/RefittedModels\"\n",
      "NewData inspected and any novel studies identified. Finding Maximum Likelihood estimates for random-effects. \n",
      "Computing novel random-effects for bootstrap replicates using 6 cores. This may take some time.\n",
      "Novel bootstrap estimaton complete.\n",
      "Novel study random-effects calculated.\n",
      "Computing bootstrap intervals using 6 cores. This may take some time.\n",
      "Bootstrap intervals complete\n",
      "[1] \"SA_parahippocampal\"\n",
      "[1] \"MODELLING:  SA_parahippocampal ....................\"\n",
      "[1] \"Lifespan/Share/RefittedModels\"\n",
      "NewData inspected and any novel studies identified. Finding Maximum Likelihood estimates for random-effects. \n",
      "Computing novel random-effects for bootstrap replicates using 6 cores. This may take some time.\n",
      "Novel bootstrap estimaton complete.\n",
      "Novel study random-effects calculated.\n",
      "Computing bootstrap intervals using 6 cores. This may take some time.\n",
      "Bootstrap intervals complete\n",
      "[1] \"SA_paracentral\"\n",
      "[1] \"MODELLING:  SA_paracentral ....................\"\n",
      "[1] \"Lifespan/Share/RefittedModels\"\n",
      "NewData inspected and any novel studies identified. Finding Maximum Likelihood estimates for random-effects. \n",
      "Computing novel random-effects for bootstrap replicates using 6 cores. This may take some time.\n",
      "Novel bootstrap estimaton complete.\n",
      "Novel study random-effects calculated.\n",
      "Computing bootstrap intervals using 6 cores. This may take some time.\n",
      "Bootstrap intervals complete\n",
      "[1] \"SA_parsopercularis\"\n",
      "[1] \"MODELLING:  SA_parsopercularis ....................\"\n",
      "[1] \"Lifespan/Share/RefittedModels\"\n",
      "NewData inspected and any novel studies identified. Finding Maximum Likelihood estimates for random-effects. \n",
      "Computing novel random-effects for bootstrap replicates using 6 cores. This may take some time.\n",
      "Novel bootstrap estimaton complete.\n",
      "Novel study random-effects calculated.\n",
      "Computing bootstrap intervals using 6 cores. This may take some time.\n",
      "Bootstrap intervals complete\n",
      "[1] \"SA_parsorbitalis\"\n",
      "[1] \"MODELLING:  SA_parsorbitalis ....................\"\n",
      "[1] \"Lifespan/Share/RefittedModels\"\n",
      "NewData inspected and any novel studies identified. Finding Maximum Likelihood estimates for random-effects. \n",
      "Computing novel random-effects for bootstrap replicates using 6 cores. This may take some time.\n",
      "Novel bootstrap estimaton complete.\n",
      "Novel study random-effects calculated.\n",
      "Computing bootstrap intervals using 6 cores. This may take some time.\n",
      "Bootstrap intervals complete\n",
      "[1] \"SA_parstriangularis\"\n",
      "[1] \"MODELLING:  SA_parstriangularis ....................\"\n",
      "[1] \"Lifespan/Share/RefittedModels\"\n",
      "NewData inspected and any novel studies identified. Finding Maximum Likelihood estimates for random-effects. \n",
      "Computing novel random-effects for bootstrap replicates using 6 cores. This may take some time.\n",
      "Novel bootstrap estimaton complete.\n",
      "Novel study random-effects calculated.\n",
      "Computing bootstrap intervals using 6 cores. This may take some time.\n",
      "Bootstrap intervals complete\n"
     ]
    }
   ],
   "source": [
    "%%R -i data -i rois -i out_dir -i braincharts_sw_dir -i cpu_num -i refit_models\n",
    "\n",
    "# load required functions\n",
    "source(file.path(braincharts_sw_dir, '920.calc-novel-wo-subset-function.r'))\n",
    "source('code/braincharts_helpers.R')\n",
    "\n",
    "if (refit_models == TRUE) {\n",
    "    # only if refitting is necessary\n",
    "    \n",
    "    for (roi in rois) { \n",
    "        # adapt the pretrained model for each ROI for the current dataset and calculate deviation scores for each subject in dataset\n",
    "        if (roi == 'SA_entorhinal') {\n",
    "            # skip SA entorhinal as BrainChart estimation failed due to low data consistency\n",
    "            next\n",
    "        }\n",
    "        print(roi)\n",
    "        result <- fit_braincharts_model(roi, data, braincharts_sw_dir, out_dir, plotting=FALSE, ncores=cpu_num)\n",
    "    } \n",
    "\n",
    "} else {\n",
    "    # Check if the directory exists\n",
    "    if (!file.exists(out_dir)) {\n",
    "        warning('Models not yet adapted, please set refit_models to TRUE.')\n",
    "    } else {\n",
    "        message('Models already adapted, skipping refitting.')\n",
    "    }\n",
    "}"
   ]
  },
  {
   "cell_type": "markdown",
   "metadata": {},
   "source": [
    "## Plot BrainChart trajectories\n",
    "As an example region, we will plot the growth trajectory of the insula based on adapted braincharts models. Code from the BrainChart project can be obtained from here: https://github.com/brainchart/Lifespan"
   ]
  },
  {
   "cell_type": "code",
   "execution_count": null,
   "metadata": {},
   "outputs": [],
   "source": [
    "roi = f'{brain_measure}_insula'\n",
    "best_analysis_dir = out_dir\n",
    "\n",
    "# save current dir for later use\n",
    "cwd = os.getcwd()"
   ]
  },
  {
   "cell_type": "code",
   "execution_count": null,
   "metadata": {},
   "outputs": [
    {
     "name": "stdout",
     "output_type": "stream",
     "text": [
      "[1] \"PLOTTING SA_insula .........\"\n"
     ]
    },
    {
     "data": {
      "text/plain": [
       "Zusätzlich: Warnmeldungen:\n",
       "1: In eval(ei, envir) :\n",
       "  Have set a fixed random seed, all runs will be identical unless this is changed (may be good or bad, depending on what you want)\n",
       "2: In model.matrix.default(Model.Formula, Model.Frame, contrasts.arg = FITParam$contrasts,  :\n",
       "  Variable 'fs_version' fehlt, ihre Kontraste werden ignoriert\n",
       "3: Use of `term_data_best[[r]]` is discouraged.\n",
       "ℹ Use `.data[[r]]` instead. \n",
       "4: Use of `preterm_data_best[[r]]` is discouraged.\n",
       "ℹ Use `.data[[r]]` instead. \n",
       "5: Use of `term_data_best[[r]]` is discouraged.\n",
       "ℹ Use `.data[[r]]` instead. \n",
       "6: Use of `preterm_data_best[[r]]` is discouraged.\n",
       "ℹ Use `.data[[r]]` instead. \n"
      ]
     },
     "metadata": {},
     "output_type": "display_data"
    }
   ],
   "source": [
    "%%R -i braincharts_sw_dir -i out_dir -i cwd -i roi -i best_analysis_dir -i refit_models\n",
    "\n",
    "if (refit_models == TRUE) {\n",
    "    library(ggplot2)\n",
    "    setwd(braincharts_sw_dir)\n",
    "    source('100.common-variables.r')\n",
    "    source('101.common-functions.r')\n",
    "    source('300.variables.r')\n",
    "    source('301.functions.r')\n",
    "    setwd(cwd)\n",
    "    source('code/braincharts_helpers.R')\n",
    "\n",
    "    plot_pop_curves(roi, braincharts_sw_dir, out_dir, best_analysis_dir)\n",
    "} "
   ]
  },
  {
   "cell_type": "markdown",
   "metadata": {},
   "source": [
    "Plot the corresponding DK region"
   ]
  },
  {
   "cell_type": "code",
   "execution_count": null,
   "metadata": {},
   "outputs": [
    {
     "name": "stdout",
     "output_type": "stream",
     "text": [
      "Plotted brain map and saved it to outputs/spatial_heterogeneity/dHCP/braincharts_model_adapted_SA/SA_insula_DK_region.svg\n"
     ]
    }
   ],
   "source": [
    "# mark the relevant rois as 1, the rest is 0\n",
    "marked_roi = pd.DataFrame(rois_cortical)\n",
    "marked_roi['filter'] = (marked_roi[0] == roi).astype(int)\n",
    "roi1 = marked_roi['filter'].to_numpy().squeeze()\n",
    "\n",
    "# duplicate for visualization\n",
    "roi1 = np.tile(roi1,(1,2)).squeeze()\n",
    "\n",
    "# plot\n",
    "outname = os.path.join(out_dir, f'{roi}_DK_region.svg')\n",
    "plot_brain_map(roi1, outname, cmap='Greys', limits=(0,1), scale=scale, fill=0)"
   ]
  },
  {
   "cell_type": "markdown",
   "metadata": {},
   "source": [
    "## Summarize results\n",
    "Deviation scores per subject and number of infra- and supranormal regions per subject"
   ]
  },
  {
   "cell_type": "code",
   "execution_count": null,
   "metadata": {},
   "outputs": [
    {
     "name": "stdout",
     "output_type": "stream",
     "text": [
      "Data shape: (378, 530)\n"
     ]
    }
   ],
   "source": [
    "# clean up not neeced variables to make program run faster\n",
    "gc.collect()\n",
    "\n",
    "# summarize deviation scores per subject\n",
    "cent_df = get_centile_scores_per_subject(out_dir, rois, base_file=f'result_deviation_{brain_measure}_bankssts.csv')\n",
    "cent_df = cent_df.merge(data.drop(columns=rois), on=['participant', 'session'])\n",
    "\n",
    "# calculate the amount of cortical infra- and supranormal deviation per subject\n",
    "cent_scores = cent_df.copy()\n",
    "cent_scores.set_index(['participant', 'session'], inplace=True)\n",
    "cent_scores = cent_scores.filter(regex=f'centile_{brain_measure}')  # filter only for brain_measure\n",
    "\n",
    "cent_scores = get_amount_infra_supra(cent_scores)\n",
    "\n",
    "# merge with cent_df\n",
    "cent_df = pd.merge(cent_df, cent_scores[['participant','session','amount_infranormal', 'amount_supranormal']], on=['participant', 'session'])\n",
    "\n",
    "# display results for random participants as example\n",
    "cent_df[['dx', f'centile_{brain_measure}_middletemporal', 'amount_infranormal', 'amount_supranormal']].iloc[50:55,:].head()\n",
    "\n",
    "# save\n",
    "print('Data shape:', cent_df.shape)\n",
    "cent_df.to_csv(join(out_dir_analysis, f'{dataset}_{brain_measure}_centiles_per_subject.csv'), index=False)"
   ]
  },
  {
   "cell_type": "markdown",
   "metadata": {},
   "source": [
    "## Plot some example subject's deviation scores for each ROI"
   ]
  },
  {
   "cell_type": "code",
   "execution_count": null,
   "metadata": {},
   "outputs": [],
   "source": [
    "# plot example subjects for BLS-26\n",
    "if dataset == 'BLS-26':\n",
    "    cent_df_pt = cent_df[cent_df['dx']=='preterm']\n",
    "    cent_df_ft = cent_df[cent_df['dx']=='CN']\n",
    "    cent_df_pt_ctx = cent_df_pt.filter(regex=f'centile_{brain_measure}|participant')\n",
    "\n",
    "    subjects = ['BEST-MUC-103', 'BEST-MUC-108', 'BEST-MUC-148',\n",
    "                'BEST-BN-069', 'BEST-MUC-041', 'BEST-MUC-069']\n",
    "\n",
    "    for subject in subjects:\n",
    "        plot_individual_brain_maps(cent_df_pt_ctx, subject, outdir=out_dir_analysis, scale=scale, cmap='RdBu_r', \n",
    "                                    limits=(0, 1), infra_supra=True, brain_measure=brain_measure)"
   ]
  },
  {
   "cell_type": "markdown",
   "metadata": {},
   "source": [
    "## Subjects with at least one extranormal deviation"
   ]
  },
  {
   "cell_type": "markdown",
   "metadata": {},
   "source": [
    "# 3. Percentage of subjects with extranormal deviations\n",
    "Calculate the percentage of subjects with infra- or supranormal deviations for each modality and dataset. For ABCD, BrainChart random study effect were calculated based on longitudinal data. The following results, however, are presented separately for each timepoint. Therefore, the dataset is split again here."
   ]
  },
  {
   "cell_type": "code",
   "execution_count": null,
   "metadata": {},
   "outputs": [],
   "source": [
    "# separate groups\n",
    "if dataset_name == 'ABCD':\n",
    "    # split the dataset into the 2 timepoints again here to report results separately\n",
    "    cent_df = cent_df[cent_df['session'] == abcd_session].copy()\n",
    "    ft_scores_df = cent_df[cent_df['dx']=='CN']\n",
    "    pt_scores_df = cent_df[cent_df['dx']=='preterm']\n",
    "else: \n",
    "    ft_scores_df = cent_df[cent_df['dx']=='CN']\n",
    "    pt_scores_df = cent_df[cent_df['dx']=='preterm']"
   ]
  },
  {
   "cell_type": "code",
   "execution_count": null,
   "metadata": {},
   "outputs": [
    {
     "name": "stdout",
     "output_type": "stream",
     "text": [
      "Full-term subjects with at least one extranormality: 32%\n",
      "Preterm subjects with at least one extranormality: 34%\n"
     ]
    }
   ],
   "source": [
    "# subjects with at least one extranormal deviation\n",
    "percent_ft_extranormal = percent_extranormal(ft_scores_df)\n",
    "print(f'Full-term subjects with at least one extranormality: {percent_ft_extranormal:.0f}%')\n",
    "\n",
    "percent_pt_extranormal = percent_extranormal(pt_scores_df)\n",
    "print(f'Preterm subjects with at least one extranormality: {percent_pt_extranormal:.0f}%')"
   ]
  },
  {
   "cell_type": "code",
   "execution_count": null,
   "metadata": {},
   "outputs": [
    {
     "name": "stdout",
     "output_type": "stream",
     "text": [
      "Showing extranormal deviations for dataset: dHCP\n"
     ]
    },
    {
     "data": {
      "image/png": "[encoded data removed]",
      "text/plain": [
       "<Figure size 300x1200 with 1 Axes>"
      ]
     },
     "metadata": {},
     "output_type": "display_data"
    }
   ],
   "source": [
    "# adjust yticklabels\n",
    "if brain_measure == 'CT':\n",
    "    brain_measure_name = 'CTh'\n",
    "elif brain_measure == 'SA':\n",
    "    brain_measure_name = 'SA'\n",
    "\n",
    "# calculate the percentage of subjects with extranormal deviation per ROI\n",
    "print('Showing extranormal deviations for dataset:', dataset)\n",
    "rois_cortical_cent = ['centile_' + roi for roi in rois_cortical]\n",
    "infra_supra_all = calc_infra_supra_percentage(rois_cortical_cent, ft_scores_df, pt_scores_df)\n",
    "\n",
    "\n",
    "\n",
    "# plot Fig 1d\n",
    "fsize=8\n",
    "plt.close('all')\n",
    "\n",
    "ax = infra_supra_all.plot(x='rois', y=['infranormal_ft', 'supranormal_ft', 'infranormal_pt', 'supranormal_pt'], \n",
    "                            kind=\"barh\", rot=0, figsize=(3,12),fontsize=fsize,\n",
    "                            color=['dimgray','lightgray', 'mediumblue', 'red'],\n",
    "                            legend=True, width=0.75)\n",
    "ax.legend(['Infranormal FT', 'Supranormal FT', 'Infranormal PT', 'Supranormal PT'], fontsize=fsize+1)\n",
    "\n",
    "ax.invert_yaxis()  # labels read top-to-bottom\n",
    "ax.set_xlabel('Subjects with extranormal deviation [%]', fontsize=fsize)\n",
    "ax.set_ylabel('')\n",
    "rois_cortical_names = [brain_measure_name + ' ' + roi.split('_')[1] for roi in rois_cortical]\n",
    "ax.set_yticklabels(rois_cortical_names)\n",
    "\n",
    "# set the x-axis limit\n",
    "xlim = np.round(infra_supra_all[['infranormal_ft','supranormal_ft','infranormal_pt','supranormal_pt']].max().max()*1.1)\n",
    "plt.xlim(0, xlim)\n",
    "\n",
    "sns.despine()\n",
    "\n",
    "plt.savefig(join(out_dir_analysis, f'{dataset}_{brain_measure}_individual_percentage_outside_norm.svg'), \n",
    "            bbox_inches=\"tight\", dpi=300, format='svg')\n",
    "plt.show()\n"
   ]
  },
  {
   "cell_type": "code",
   "execution_count": null,
   "metadata": {},
   "outputs": [
    {
     "data": {
      "image/png": "[encoded data removed]",
      "text/plain": [
       "<Figure size 300x141.176 with 1 Axes>"
      ]
     },
     "metadata": {},
     "output_type": "display_data"
    }
   ],
   "source": [
    "# global measures\n",
    "rois_global = ['centile_GMV', 'centile_sGMV', 'centile_WMV']\n",
    "infra_supra_global = calc_infra_supra_percentage(rois_global, ft_scores_df, pt_scores_df)\n",
    "fsize=8\n",
    "plt.close('all')\n",
    "\n",
    "ax = infra_supra_global.plot(x='rois', y=['infranormal_ft','supranormal_ft','infranormal_pt','supranormal_pt'], \n",
    "                            kind=\"barh\", rot=0,figsize=(3,12/34*4),fontsize=fsize,\n",
    "                            color=['dimgray','lightgray', 'mediumblue', 'red'],\n",
    "                            legend=False)\n",
    "\n",
    "ax.invert_yaxis()  # labels read top-to-bottom\n",
    "ax.set_xlabel('Subjects with extranormal deviation [%]',fontsize=fsize)\n",
    "ax.set_ylabel('')\n",
    "rois_cortical_names = [roi.split('_')[1] for roi in rois_global]\n",
    "ax.set_yticklabels(rois_cortical_names)\n",
    "\n",
    "# set the x-axis limit\n",
    "xlim = np.round(infra_supra_global[['infranormal_ft','supranormal_ft','infranormal_pt','supranormal_pt']].max().max()*1.1)\n",
    "plt.xlim(0, xlim)\n",
    "\n",
    "sns.despine()\n",
    "\n",
    "plt.savefig(join(out_dir_analysis, f'{dataset}_individual_percentage_outside_norm_global.svg'), \n",
    "            bbox_inches=\"tight\", dpi=300, format='svg')\n",
    "plt.show()"
   ]
  },
  {
   "cell_type": "markdown",
   "metadata": {},
   "source": [
    "# 4. Compare spatial similarity of IBAPs among preterm individuals \n"
   ]
  },
  {
   "cell_type": "code",
   "execution_count": null,
   "metadata": {},
   "outputs": [],
   "source": [
    "out_dir = join(out_dir_main, f'IBAP_similarity_{brain_measure}')\n",
    "os.makedirs(out_dir, exist_ok=True)"
   ]
  },
  {
   "cell_type": "code",
   "execution_count": null,
   "metadata": {},
   "outputs": [
    {
     "data": {
      "image/png": "[encoded data removed]",
      "text/plain": [
       "<Figure size 250x400 with 1 Axes>"
      ]
     },
     "metadata": {},
     "output_type": "display_data"
    }
   ],
   "source": [
    "# binarize extranormal deviations of preterm subjects (Fig. 1e)\n",
    "plt.close('all')\n",
    "cent_df_pt = cent_df[cent_df['dx']=='preterm']\n",
    "dev_scores_stripped_pt = cent_df_pt.filter(regex=f'centile_{brain_measure}')\n",
    "dev_scores_stripped_pt_bin = binarize_extranormal(dev_scores_stripped_pt)\n",
    "\n",
    "# plot binarized values per subject\n",
    "outname = join(out_dir, f'bin_{brain_measure}_deviations_pt.svg')\n",
    "plot_binarized_extranormal(dev_scores_stripped_pt_bin, title='', outname=outname)"
   ]
  },
  {
   "cell_type": "code",
   "execution_count": null,
   "metadata": {},
   "outputs": [
    {
     "data": {
      "image/png": "[encoded data removed]",
      "text/plain": [
       "<Figure size 500x200 with 1 Axes>"
      ]
     },
     "metadata": {},
     "output_type": "display_data"
    }
   ],
   "source": [
    "# subject x subject correlation matrix (Fig. 1f+g)\n",
    "corr_matrix_pt_subjects_01 = dev_scores_stripped_pt_bin.T.corr(method='spearman')\n",
    "\n",
    "if dataset == 'BLS-26' and brain_measure == 'CT':\n",
    "    # plot extended version for Fig.2f+g\n",
    "    outname = join(out_dir, f'corrmatrix_bin_{brain_measure}_deviations.svg')\n",
    "    plot_correlation_matrix_kde(corr_matrix_pt_subjects_01, outname)\n",
    "    \n",
    "else:\n",
    "    # plot simplified version for all others\n",
    "    outname = join(out_dir, f'corrmatrix_bin_{brain_measure}_deviations.svg')\n",
    "    title = 'Mean Spearman rho per preterm subject'\n",
    "    plot_mean_rho(corr_matrix_pt_subjects_01, title, outname)"
   ]
  }
 ],
 "metadata": {
  "kernelspec": {
   "display_name": ".venv",
   "language": "python",
   "name": "python3"
  },
  "language_info": {
   "codemirror_mode": {
    "name": "ipython",
    "version": 3
   },
   "file_extension": ".py",
   "mimetype": "text/x-python",
   "name": "python",
   "nbconvert_exporter": "python",
   "pygments_lexer": "ipython3",
   "version": "3.11.9"
  }
 },
 "nbformat": 4,
 "nbformat_minor": 2
}
