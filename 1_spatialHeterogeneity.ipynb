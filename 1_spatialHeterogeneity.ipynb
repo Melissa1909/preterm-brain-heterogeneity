{
 "cells": [
  {
   "cell_type": "markdown",
   "metadata": {},
   "source": [
    "# Preterm brain development is heterogeneous\n",
    "For each modality (i.e., CT, SA, and measures of cerebral tissue volume) and each dataset, we will now show that average dysmaturation outcomes, derived from classic case-control studies, are not representative for individual brain outcomes. Results demonstrate that brain development after preterm birth is highly heterogeneous. \n",
    "For this, we will:\n",
    "1. Calculate the average dysmaturation outcome by comparing preterm subjects to full-term controls using a linear model (brain_measure ~ diagnosis + age + sex)\n",
    "2. Calculate the individual brain abnormality pattern (IBAP) for each subject based on the BrainChart framework\n",
    "3. Calculate the percentage of subjects with extranormal deviations\n",
    "4. Compare spatial similarity of IBAPs among preterm individuals using cross-correlation of binarized IBAPs\n",
    "\n",
    "\n",
    "In step 2, we will refit the pretrained BrainChart models to the selected dataset. Since this requires some computational power, several cores can be used in parallel to speed up the process (`cpu_num`). The pretrained models and some functions from the original BrainChart project released [here](https://github.com/brainchart/Lifespan) are used.\n",
    "\n",
    "🌈 To run this script without the access to the original data, set `dataset` to `synthetic_BLS-26`."
   ]
  },
  {
   "cell_type": "code",
   "execution_count": 25,
   "metadata": {},
   "outputs": [],
   "source": [
    "# manually set path to R if there are problems with the automatic detection\n",
    "# import os\n",
    "# os.environ['R_HOME'] = '/Library/Frameworks/R.framework/R'  # adapt to your R installation"
   ]
  },
  {
   "cell_type": "code",
   "execution_count": 26,
   "metadata": {},
   "outputs": [
    {
     "name": "stdout",
     "output_type": "stream",
     "text": [
      "The autoreload extension is already loaded. To reload it, use:\n",
      "  %reload_ext autoreload\n",
      "The rpy2.ipython extension is already loaded. To reload it, use:\n",
      "  %reload_ext rpy2.ipython\n"
     ]
    }
   ],
   "source": [
    "%load_ext autoreload\n",
    "%autoreload 2\n",
    "# Use rpy2 to run R in python notebook for braincharts\n",
    "%load_ext rpy2.ipython"
   ]
  },
  {
   "cell_type": "code",
   "execution_count": 27,
   "metadata": {},
   "outputs": [],
   "source": [
    "import os\n",
    "from os.path import join\n",
    "import pandas as pd\n",
    "import numpy as np\n",
    "import matplotlib.pyplot as plt\n",
    "import seaborn as sns\n",
    "\n",
    "import gc  # for clearing unnecessary variables\n",
    "\n",
    "sns.set(style='white')\n",
    "\n",
    "# import custom functions\n",
    "import sys\n",
    "sys.path.append('code')\n",
    "from utils import get_roi_names\n",
    "from plotting import get_significant_cortical_vals_for_plotting, plot_brain_map, plot_group_difference_global, plot_individual_brain_maps\n",
    "from spatial_heterogeneity import *\n",
    "\n",
    "\n",
    "# some settings - please adapt to your needs\n",
    "brain_measure = 'CT'  # CT or SA\n",
    "dataset = 'ABCD-10' \n",
    "scale = 1  # scale for brain plots; run with scale = 10 for higher resolution\n",
    "refit_models = True  # whether to repeat adaptation of the pretrained models to the new data, computationally intense\n",
    "cpu_num = 6  # number of cores to use for refitting BrainChart models"
   ]
  },
  {
   "cell_type": "code",
   "execution_count": 28,
   "metadata": {},
   "outputs": [],
   "source": [
    "# directories\n",
    "data_dir = 'data'\n",
    "outputs_dir = join('outputs', 'spatial_heterogeneity')\n",
    "os.makedirs(outputs_dir, exist_ok=True)\n",
    "\n",
    "braincharts_sw_dir = 'Lifespan'\n",
    "\n",
    "out_dir_main = join(outputs_dir, dataset)\n",
    "os.makedirs(out_dir_main, exist_ok=True)"
   ]
  },
  {
   "cell_type": "markdown",
   "metadata": {},
   "source": [
    "# Load data"
   ]
  },
  {
   "cell_type": "code",
   "execution_count": 29,
   "metadata": {},
   "outputs": [],
   "source": [
    "# get list of ROIs\n",
    "rois = get_roi_names(brain_measure, global_vars=True)\n",
    "if brain_measure == 'CT':\n",
    "    rois.append('meanCT2')\n",
    "\n",
    "# load preprocessed data\n",
    "if dataset.startswith('BLS') or dataset.startswith('ABCD'):\n",
    "    dataset_name = dataset[:-3]\n",
    "else:\n",
    "    dataset_name = dataset\n",
    "data = pd.read_csv(join(data_dir, dataset_name, 'derivatives', f'{dataset}_{brain_measure}_preprocessed.csv'))"
   ]
  },
  {
   "cell_type": "markdown",
   "metadata": {},
   "source": [
    "# 1. Average dysmaturation outcome after preterm birth"
   ]
  },
  {
   "cell_type": "code",
   "execution_count": 30,
   "metadata": {},
   "outputs": [],
   "source": [
    "out_dir = join(out_dir_main, 'average_dysmaturation')\n",
    "os.makedirs(out_dir, exist_ok=True)"
   ]
  },
  {
   "cell_type": "code",
   "execution_count": 31,
   "metadata": {},
   "outputs": [
    {
     "data": {
      "text/html": [
       "<div>\n",
       "<style scoped>\n",
       "    .dataframe tbody tr th:only-of-type {\n",
       "        vertical-align: middle;\n",
       "    }\n",
       "\n",
       "    .dataframe tbody tr th {\n",
       "        vertical-align: top;\n",
       "    }\n",
       "\n",
       "    .dataframe thead th {\n",
       "        text-align: right;\n",
       "    }\n",
       "</style>\n",
       "<table border=\"1\" class=\"dataframe\">\n",
       "  <thead>\n",
       "    <tr style=\"text-align: right;\">\n",
       "      <th></th>\n",
       "      <th>t_statistic</th>\n",
       "      <th>Cohen_d</th>\n",
       "      <th>p_value</th>\n",
       "      <th>p_fdr</th>\n",
       "    </tr>\n",
       "    <tr>\n",
       "      <th>ROI</th>\n",
       "      <th></th>\n",
       "      <th></th>\n",
       "      <th></th>\n",
       "      <th></th>\n",
       "    </tr>\n",
       "  </thead>\n",
       "  <tbody>\n",
       "    <tr>\n",
       "      <th>CT_bankssts</th>\n",
       "      <td>-1.724</td>\n",
       "      <td>0.136</td>\n",
       "      <td>0.085</td>\n",
       "      <td>0.186</td>\n",
       "    </tr>\n",
       "    <tr>\n",
       "      <th>CT_caudalanteriorcingulate</th>\n",
       "      <td>2.468</td>\n",
       "      <td>-0.171</td>\n",
       "      <td>0.014</td>\n",
       "      <td>0.074</td>\n",
       "    </tr>\n",
       "    <tr>\n",
       "      <th>CT_caudalmiddlefrontal</th>\n",
       "      <td>-1.747</td>\n",
       "      <td>0.132</td>\n",
       "      <td>0.081</td>\n",
       "      <td>0.186</td>\n",
       "    </tr>\n",
       "    <tr>\n",
       "      <th>CT_cuneus</th>\n",
       "      <td>1.621</td>\n",
       "      <td>-0.1</td>\n",
       "      <td>0.105</td>\n",
       "      <td>0.210</td>\n",
       "    </tr>\n",
       "    <tr>\n",
       "      <th>CT_entorhinal</th>\n",
       "      <td>1.742</td>\n",
       "      <td>-0.125</td>\n",
       "      <td>0.082</td>\n",
       "      <td>0.186</td>\n",
       "    </tr>\n",
       "    <tr>\n",
       "      <th>CT_fusiform</th>\n",
       "      <td>-0.664</td>\n",
       "      <td>0.062</td>\n",
       "      <td>0.507</td>\n",
       "      <td>0.713</td>\n",
       "    </tr>\n",
       "    <tr>\n",
       "      <th>CT_inferiorparietal</th>\n",
       "      <td>-1.325</td>\n",
       "      <td>0.114</td>\n",
       "      <td>0.185</td>\n",
       "      <td>0.335</td>\n",
       "    </tr>\n",
       "    <tr>\n",
       "      <th>CT_inferiortemporal</th>\n",
       "      <td>-0.211</td>\n",
       "      <td>0.024</td>\n",
       "      <td>0.833</td>\n",
       "      <td>0.933</td>\n",
       "    </tr>\n",
       "    <tr>\n",
       "      <th>CT_isthmuscingulate</th>\n",
       "      <td>2.138</td>\n",
       "      <td>-0.148</td>\n",
       "      <td>0.033</td>\n",
       "      <td>0.103</td>\n",
       "    </tr>\n",
       "    <tr>\n",
       "      <th>CT_lateraloccipital</th>\n",
       "      <td>2.845</td>\n",
       "      <td>-0.199</td>\n",
       "      <td>0.004</td>\n",
       "      <td>0.034</td>\n",
       "    </tr>\n",
       "    <tr>\n",
       "      <th>CT_lateralorbitofrontal</th>\n",
       "      <td>0.810</td>\n",
       "      <td>-0.044</td>\n",
       "      <td>0.418</td>\n",
       "      <td>0.635</td>\n",
       "    </tr>\n",
       "    <tr>\n",
       "      <th>CT_lingual</th>\n",
       "      <td>-0.196</td>\n",
       "      <td>0.032</td>\n",
       "      <td>0.845</td>\n",
       "      <td>0.933</td>\n",
       "    </tr>\n",
       "    <tr>\n",
       "      <th>CT_medialorbitofrontal</th>\n",
       "      <td>1.128</td>\n",
       "      <td>-0.065</td>\n",
       "      <td>0.259</td>\n",
       "      <td>0.448</td>\n",
       "    </tr>\n",
       "    <tr>\n",
       "      <th>CT_middletemporal</th>\n",
       "      <td>-4.238</td>\n",
       "      <td>0.321</td>\n",
       "      <td>&lt;0.001</td>\n",
       "      <td>0.001</td>\n",
       "    </tr>\n",
       "    <tr>\n",
       "      <th>CT_parahippocampal</th>\n",
       "      <td>2.336</td>\n",
       "      <td>-0.162</td>\n",
       "      <td>0.02</td>\n",
       "      <td>0.083</td>\n",
       "    </tr>\n",
       "    <tr>\n",
       "      <th>CT_paracentral</th>\n",
       "      <td>-0.221</td>\n",
       "      <td>0.026</td>\n",
       "      <td>0.825</td>\n",
       "      <td>0.933</td>\n",
       "    </tr>\n",
       "    <tr>\n",
       "      <th>CT_parsopercularis</th>\n",
       "      <td>1.347</td>\n",
       "      <td>-0.094</td>\n",
       "      <td>0.178</td>\n",
       "      <td>0.335</td>\n",
       "    </tr>\n",
       "    <tr>\n",
       "      <th>CT_parsorbitalis</th>\n",
       "      <td>-3.317</td>\n",
       "      <td>0.253</td>\n",
       "      <td>0.001</td>\n",
       "      <td>0.009</td>\n",
       "    </tr>\n",
       "    <tr>\n",
       "      <th>CT_parstriangularis</th>\n",
       "      <td>-2.299</td>\n",
       "      <td>0.18</td>\n",
       "      <td>0.022</td>\n",
       "      <td>0.083</td>\n",
       "    </tr>\n",
       "    <tr>\n",
       "      <th>CT_pericalcarine</th>\n",
       "      <td>2.503</td>\n",
       "      <td>-0.175</td>\n",
       "      <td>0.012</td>\n",
       "      <td>0.074</td>\n",
       "    </tr>\n",
       "    <tr>\n",
       "      <th>CT_postcentral</th>\n",
       "      <td>0.353</td>\n",
       "      <td>-0.012</td>\n",
       "      <td>0.724</td>\n",
       "      <td>0.917</td>\n",
       "    </tr>\n",
       "    <tr>\n",
       "      <th>CT_posteriorcingulate</th>\n",
       "      <td>0.131</td>\n",
       "      <td>&lt;0.001</td>\n",
       "      <td>0.896</td>\n",
       "      <td>0.936</td>\n",
       "    </tr>\n",
       "    <tr>\n",
       "      <th>CT_precentral</th>\n",
       "      <td>-1.079</td>\n",
       "      <td>0.076</td>\n",
       "      <td>0.281</td>\n",
       "      <td>0.464</td>\n",
       "    </tr>\n",
       "    <tr>\n",
       "      <th>CT_precuneus</th>\n",
       "      <td>1.037</td>\n",
       "      <td>-0.055</td>\n",
       "      <td>0.3</td>\n",
       "      <td>0.475</td>\n",
       "    </tr>\n",
       "    <tr>\n",
       "      <th>CT_rostralanteriorcingulate</th>\n",
       "      <td>0.111</td>\n",
       "      <td>0.004</td>\n",
       "      <td>0.912</td>\n",
       "      <td>0.936</td>\n",
       "    </tr>\n",
       "    <tr>\n",
       "      <th>CT_rostralmiddlefrontal</th>\n",
       "      <td>-2.256</td>\n",
       "      <td>0.181</td>\n",
       "      <td>0.024</td>\n",
       "      <td>0.083</td>\n",
       "    </tr>\n",
       "    <tr>\n",
       "      <th>CT_superiorfrontal</th>\n",
       "      <td>-1.706</td>\n",
       "      <td>0.134</td>\n",
       "      <td>0.088</td>\n",
       "      <td>0.186</td>\n",
       "    </tr>\n",
       "    <tr>\n",
       "      <th>CT_superiorparietal</th>\n",
       "      <td>0.244</td>\n",
       "      <td>-0.002</td>\n",
       "      <td>0.807</td>\n",
       "      <td>0.933</td>\n",
       "    </tr>\n",
       "    <tr>\n",
       "      <th>CT_superiortemporal</th>\n",
       "      <td>2.292</td>\n",
       "      <td>-0.161</td>\n",
       "      <td>0.022</td>\n",
       "      <td>0.083</td>\n",
       "    </tr>\n",
       "    <tr>\n",
       "      <th>CT_supramarginal</th>\n",
       "      <td>0.700</td>\n",
       "      <td>-0.041</td>\n",
       "      <td>0.484</td>\n",
       "      <td>0.707</td>\n",
       "    </tr>\n",
       "    <tr>\n",
       "      <th>CT_frontalpole</th>\n",
       "      <td>-0.177</td>\n",
       "      <td>0.026</td>\n",
       "      <td>0.86</td>\n",
       "      <td>0.933</td>\n",
       "    </tr>\n",
       "    <tr>\n",
       "      <th>CT_temporalpole</th>\n",
       "      <td>-0.594</td>\n",
       "      <td>0.047</td>\n",
       "      <td>0.553</td>\n",
       "      <td>0.750</td>\n",
       "    </tr>\n",
       "    <tr>\n",
       "      <th>CT_transversetemporal</th>\n",
       "      <td>0.025</td>\n",
       "      <td>0.008</td>\n",
       "      <td>0.98</td>\n",
       "      <td>0.980</td>\n",
       "    </tr>\n",
       "    <tr>\n",
       "      <th>CT_insula</th>\n",
       "      <td>-2.049</td>\n",
       "      <td>0.16</td>\n",
       "      <td>0.041</td>\n",
       "      <td>0.119</td>\n",
       "    </tr>\n",
       "    <tr>\n",
       "      <th>WMV</th>\n",
       "      <td>-1.749</td>\n",
       "      <td>0.099</td>\n",
       "      <td>0.08</td>\n",
       "      <td>0.186</td>\n",
       "    </tr>\n",
       "    <tr>\n",
       "      <th>GMV</th>\n",
       "      <td>-3.429</td>\n",
       "      <td>0.225</td>\n",
       "      <td>0.001</td>\n",
       "      <td>0.009</td>\n",
       "    </tr>\n",
       "    <tr>\n",
       "      <th>sGMV</th>\n",
       "      <td>-3.293</td>\n",
       "      <td>0.207</td>\n",
       "      <td>0.001</td>\n",
       "      <td>0.009</td>\n",
       "    </tr>\n",
       "    <tr>\n",
       "      <th>meanCT2</th>\n",
       "      <td>-0.372</td>\n",
       "      <td>0.043</td>\n",
       "      <td>0.71</td>\n",
       "      <td>0.917</td>\n",
       "    </tr>\n",
       "  </tbody>\n",
       "</table>\n",
       "</div>"
      ],
      "text/plain": [
       "                             t_statistic Cohen_d p_value  p_fdr\n",
       "ROI                                                            \n",
       "CT_bankssts                       -1.724   0.136   0.085  0.186\n",
       "CT_caudalanteriorcingulate         2.468  -0.171   0.014  0.074\n",
       "CT_caudalmiddlefrontal            -1.747   0.132   0.081  0.186\n",
       "CT_cuneus                          1.621    -0.1   0.105  0.210\n",
       "CT_entorhinal                      1.742  -0.125   0.082  0.186\n",
       "CT_fusiform                       -0.664   0.062   0.507  0.713\n",
       "CT_inferiorparietal               -1.325   0.114   0.185  0.335\n",
       "CT_inferiortemporal               -0.211   0.024   0.833  0.933\n",
       "CT_isthmuscingulate                2.138  -0.148   0.033  0.103\n",
       "CT_lateraloccipital                2.845  -0.199   0.004  0.034\n",
       "CT_lateralorbitofrontal            0.810  -0.044   0.418  0.635\n",
       "CT_lingual                        -0.196   0.032   0.845  0.933\n",
       "CT_medialorbitofrontal             1.128  -0.065   0.259  0.448\n",
       "CT_middletemporal                 -4.238   0.321  <0.001  0.001\n",
       "CT_parahippocampal                 2.336  -0.162    0.02  0.083\n",
       "CT_paracentral                    -0.221   0.026   0.825  0.933\n",
       "CT_parsopercularis                 1.347  -0.094   0.178  0.335\n",
       "CT_parsorbitalis                  -3.317   0.253   0.001  0.009\n",
       "CT_parstriangularis               -2.299    0.18   0.022  0.083\n",
       "CT_pericalcarine                   2.503  -0.175   0.012  0.074\n",
       "CT_postcentral                     0.353  -0.012   0.724  0.917\n",
       "CT_posteriorcingulate              0.131  <0.001   0.896  0.936\n",
       "CT_precentral                     -1.079   0.076   0.281  0.464\n",
       "CT_precuneus                       1.037  -0.055     0.3  0.475\n",
       "CT_rostralanteriorcingulate        0.111   0.004   0.912  0.936\n",
       "CT_rostralmiddlefrontal           -2.256   0.181   0.024  0.083\n",
       "CT_superiorfrontal                -1.706   0.134   0.088  0.186\n",
       "CT_superiorparietal                0.244  -0.002   0.807  0.933\n",
       "CT_superiortemporal                2.292  -0.161   0.022  0.083\n",
       "CT_supramarginal                   0.700  -0.041   0.484  0.707\n",
       "CT_frontalpole                    -0.177   0.026    0.86  0.933\n",
       "CT_temporalpole                   -0.594   0.047   0.553  0.750\n",
       "CT_transversetemporal              0.025   0.008    0.98  0.980\n",
       "CT_insula                         -2.049    0.16   0.041  0.119\n",
       "WMV                               -1.749   0.099    0.08  0.186\n",
       "GMV                               -3.429   0.225   0.001  0.009\n",
       "sGMV                              -3.293   0.207   0.001  0.009\n",
       "meanCT2                           -0.372   0.043    0.71  0.917"
      ]
     },
     "metadata": {},
     "output_type": "display_data"
    }
   ],
   "source": [
    "tvals_mr = group_comparison(rois, data, covariates=['age_days', 'sex'])\n",
    "tvals_mr.to_csv(join(out_dir, f'{dataset}_{brain_measure}_average_dysmaturation.csv'), index=False)\n",
    "\n",
    "# show table and round every value to 3 decimal places, replace 0.000 with <0.001\n",
    "tvals_mr_table = tvals_mr.set_index('ROI').round(3).replace(0.000, '<0.001')\n",
    "tvals_mr_table.to_csv(join(out_dir, f'{dataset}_{brain_measure}_average_dysmaturation_table.csv'), index=True)\n",
    "display(tvals_mr_table)"
   ]
  },
  {
   "cell_type": "code",
   "execution_count": 32,
   "metadata": {},
   "outputs": [
    {
     "name": "stdout",
     "output_type": "stream",
     "text": [
      "Plotted brain map and saved it to outputs/spatial_heterogeneity/ABCD-10/average_dysmaturation/ABCD-10_CT_avg_dysmaturation_term-preterm.svg\n"
     ]
    }
   ],
   "source": [
    "# plot the t-statistic only for significant ROIs after FDR-correction\n",
    "rois_cortical = get_roi_names(brain_measure, global_vars=False)\n",
    "sig_t = get_significant_cortical_vals_for_plotting(data=tvals_mr, rois_cortical=rois_cortical, statistic='t_statistic', bilateral=True)\n",
    "\n",
    "outname = join(out_dir, f'{dataset}_{brain_measure}_avg_dysmaturation_term-preterm.svg')\n",
    "plot_brain_map(sig_t, outname, scale=scale, limits=(-5, 5))  # larger scale improves image quality\n"
   ]
  },
  {
   "cell_type": "code",
   "execution_count": 33,
   "metadata": {},
   "outputs": [
    {
     "name": "stdout",
     "output_type": "stream",
     "text": [
      "p-value annotation legend:\n",
      "      ns: 5.00e-02 < p <= 1.00e+00\n",
      "       *: 1.00e-02 < p <= 5.00e-02\n",
      "      **: 1.00e-03 < p <= 1.00e-02\n",
      "     ***: 1.00e-04 < p <= 1.00e-03\n",
      "    ****: p <= 1.00e-04\n",
      "\n",
      "CN vs. preterm: t-test independent samples with Benjamini-Hochberg correction, P_val:2.212e-03 t=3.062e+00\n"
     ]
    },
    {
     "name": "stderr",
     "output_type": "stream",
     "text": [
      "/Users/melissa/Dokumente/PhD/01B_preterm_normative/scripts/preterm-brain-heterogeneity/code/plotting.py:90: UserWarning: set_ticklabels() should only be used with a fixed number of ticks, i.e. after set_ticks() or using a FixedLocator.\n",
      "  ax.set_xticklabels(['Term', 'Preterm'])\n"
     ]
    },
    {
     "data": {
      "image/png": "[encoded data removed]",
      "text/plain": [
       "<Figure size 300x400 with 1 Axes>"
      ]
     },
     "metadata": {},
     "output_type": "display_data"
    },
    {
     "name": "stdout",
     "output_type": "stream",
     "text": [
      "Plotted group difference for GMV and saved it to outputs/spatial_heterogeneity/ABCD-10/average_dysmaturation/ABCD-10_GMV_avg_dysmaturation_term-preterm.svg\n",
      "p-value annotation legend:\n",
      "      ns: 5.00e-02 < p <= 1.00e+00\n",
      "       *: 1.00e-02 < p <= 5.00e-02\n",
      "      **: 1.00e-03 < p <= 1.00e-02\n",
      "     ***: 1.00e-04 < p <= 1.00e-03\n",
      "    ****: p <= 1.00e-04\n",
      "\n",
      "CN vs. preterm: t-test independent samples with Benjamini-Hochberg correction, P_val:1.800e-01 t=1.341e+00\n"
     ]
    },
    {
     "name": "stderr",
     "output_type": "stream",
     "text": [
      "/Users/melissa/Dokumente/PhD/01B_preterm_normative/scripts/preterm-brain-heterogeneity/code/plotting.py:90: UserWarning: set_ticklabels() should only be used with a fixed number of ticks, i.e. after set_ticks() or using a FixedLocator.\n",
      "  ax.set_xticklabels(['Term', 'Preterm'])\n"
     ]
    },
    {
     "data": {
      "image/png": "[encoded data removed]",
      "text/plain": [
       "<Figure size 300x400 with 1 Axes>"
      ]
     },
     "metadata": {},
     "output_type": "display_data"
    },
    {
     "name": "stderr",
     "output_type": "stream",
     "text": [
      "/Users/melissa/Dokumente/PhD/01B_preterm_normative/scripts/preterm-brain-heterogeneity/code/plotting.py:90: UserWarning: set_ticklabels() should only be used with a fixed number of ticks, i.e. after set_ticks() or using a FixedLocator.\n",
      "  ax.set_xticklabels(['Term', 'Preterm'])\n"
     ]
    },
    {
     "name": "stdout",
     "output_type": "stream",
     "text": [
      "Plotted group difference for WMV and saved it to outputs/spatial_heterogeneity/ABCD-10/average_dysmaturation/ABCD-10_WMV_avg_dysmaturation_term-preterm.svg\n",
      "p-value annotation legend:\n",
      "      ns: 5.00e-02 < p <= 1.00e+00\n",
      "       *: 1.00e-02 < p <= 5.00e-02\n",
      "      **: 1.00e-03 < p <= 1.00e-02\n",
      "     ***: 1.00e-04 < p <= 1.00e-03\n",
      "    ****: p <= 1.00e-04\n",
      "\n",
      "CN vs. preterm: t-test independent samples with Benjamini-Hochberg correction, P_val:4.972e-03 t=2.810e+00\n"
     ]
    },
    {
     "data": {
      "image/png": "[encoded data removed]",
      "text/plain": [
       "<Figure size 300x400 with 1 Axes>"
      ]
     },
     "metadata": {},
     "output_type": "display_data"
    },
    {
     "name": "stdout",
     "output_type": "stream",
     "text": [
      "Plotted group difference for sGMV and saved it to outputs/spatial_heterogeneity/ABCD-10/average_dysmaturation/ABCD-10_sGMV_avg_dysmaturation_term-preterm.svg\n"
     ]
    }
   ],
   "source": [
    "# plot measures of cerebral tissue volume\n",
    "for ctv_measure in ['GMV', 'WMV', 'sGMV']:\n",
    "    outname = join(out_dir, f'{dataset}_{ctv_measure}_avg_dysmaturation_term-preterm.svg')\n",
    "    # in dHCP,x one outlier with sGMV = 0 was removed\n",
    "    data = data[data['sGMV'] > 0]\n",
    "    plot_group_difference_global(data=data, x='dx', y=ctv_measure, yaxis_label = f'{ctv_measure} [mm$^3$]', outname=outname)"
   ]
  },
  {
   "cell_type": "markdown",
   "metadata": {},
   "source": [
    "# 2. Individual brain aberration patterns (IBAP) for each subject"
   ]
  },
  {
   "cell_type": "code",
   "execution_count": 34,
   "metadata": {},
   "outputs": [],
   "source": [
    "out_dir = join(out_dir_main, f'braincharts_model_adapted_{brain_measure}')\n",
    "os.makedirs(out_dir, exist_ok=True)\n",
    "\n",
    "out_dir_analysis = join(out_dir_main, f'IBAP_{brain_measure}')\n",
    "os.makedirs(out_dir_analysis, exist_ok=True)"
   ]
  },
  {
   "cell_type": "code",
   "execution_count": 35,
   "metadata": {},
   "outputs": [
    {
     "name": "stdout",
     "output_type": "stream",
     "text": [
      "Loaded both timepoints for ABCD. Data shape: (11906, 60)\n"
     ]
    }
   ],
   "source": [
    "# adjust settings for ABCD: longitudinal analysis but split into two timepoints after model adaptation again\n",
    "if dataset_name == 'ABCD':\n",
    "    # combine two timepoints for longitudinal estimation of random effect of study\n",
    "    data = pd.read_csv(join(data_dir, dataset_name, 'derivatives', f'{dataset_name}_{brain_measure}_preprocessed.csv'))\n",
    "    print('Loaded both timepoints for ABCD. Data shape:', data.shape)\n",
    "    \n",
    "    if dataset == 'ABCD-10':\n",
    "        abcd_session = 1\n",
    "    elif dataset == 'ABCD-12':\n",
    "        abcd_session = 2\n",
    "        out_dir = join(outputs_dir, 'ABCD-10', f'braincharts_model_adapted_{brain_measure}')\n"
   ]
  },
  {
   "cell_type": "markdown",
   "metadata": {},
   "source": [
    "## Refit the pretrained model and calculate deviation scores\n",
    "The calculation will be done in R. Since the calculation will take some time, it is recommended to adjust the number of cores in `cpu_num` for higher processing speed. However, stick to the limits of your system!"
   ]
  },
  {
   "cell_type": "code",
   "execution_count": 36,
   "metadata": {},
   "outputs": [
    {
     "name": "stdout",
     "output_type": "stream",
     "text": [
      "[1] \"CT_bankssts\"\n",
      "[1] \"MODELLING:  CT_bankssts ....................\"\n",
      "[1] \"Lifespan/Share/RefittedModels\"\n",
      "NewData inspected and any novel studies identified. Finding Maximum Likelihood estimates for random-effects. \n",
      "Computing novel random-effects for bootstrap replicates using 6 cores. This may take some time.\n",
      "Novel bootstrap estimaton complete.\n",
      "Novel study random-effects calculated.\n",
      "Computing bootstrap intervals using 6 cores. This may take some time.\n",
      "Bootstrap intervals complete\n",
      "[1] \"CT_caudalanteriorcingulate\"\n",
      "[1] \"MODELLING:  CT_caudalanteriorcingulate ....................\"\n",
      "[1] \"Lifespan/Share/RefittedModels\"\n",
      "NewData inspected and any novel studies identified. Finding Maximum Likelihood estimates for random-effects. \n",
      "Computing novel random-effects for bootstrap replicates using 6 cores. This may take some time.\n",
      "Novel bootstrap estimaton complete.\n",
      "Novel study random-effects calculated.\n",
      "Computing bootstrap intervals using 6 cores. This may take some time.\n",
      "Bootstrap intervals complete\n",
      "[1] \"CT_caudalmiddlefrontal\"\n",
      "[1] \"MODELLING:  CT_caudalmiddlefrontal ....................\"\n",
      "[1] \"Lifespan/Share/RefittedModels\"\n",
      "NewData inspected and any novel studies identified. Finding Maximum Likelihood estimates for random-effects. \n",
      "Computing novel random-effects for bootstrap replicates using 6 cores. This may take some time.\n",
      "Novel bootstrap estimaton complete.\n",
      "Novel study random-effects calculated.\n",
      "Computing bootstrap intervals using 6 cores. This may take some time.\n",
      "Bootstrap intervals complete\n",
      "[1] \"CT_cuneus\"\n",
      "[1] \"MODELLING:  CT_cuneus ....................\"\n",
      "[1] \"Lifespan/Share/RefittedModels\"\n",
      "NewData inspected and any novel studies identified. Finding Maximum Likelihood estimates for random-effects. \n",
      "Computing novel random-effects for bootstrap replicates using 6 cores. This may take some time.\n",
      "Novel bootstrap estimaton complete.\n",
      "Novel study random-effects calculated.\n",
      "Computing bootstrap intervals using 6 cores. This may take some time.\n",
      "Bootstrap intervals complete\n",
      "[1] \"CT_entorhinal\"\n",
      "[1] \"MODELLING:  CT_entorhinal ....................\"\n",
      "[1] \"Lifespan/Share/RefittedModels\"\n",
      "NewData inspected and any novel studies identified. Finding Maximum Likelihood estimates for random-effects. \n",
      "Computing novel random-effects for bootstrap replicates using 6 cores. This may take some time.\n",
      "Novel bootstrap estimaton complete.\n",
      "Novel study random-effects calculated.\n",
      "Computing bootstrap intervals using 6 cores. This may take some time.\n",
      "Bootstrap intervals complete\n",
      "[1] \"CT_fusiform\"\n",
      "[1] \"MODELLING:  CT_fusiform ....................\"\n",
      "[1] \"Lifespan/Share/RefittedModels\"\n",
      "NewData inspected and any novel studies identified. Finding Maximum Likelihood estimates for random-effects. \n",
      "Computing novel random-effects for bootstrap replicates using 6 cores. This may take some time.\n",
      "Novel bootstrap estimaton complete.\n",
      "Novel study random-effects calculated.\n",
      "Computing bootstrap intervals using 6 cores. This may take some time.\n",
      "Bootstrap intervals complete\n",
      "[1] \"CT_inferiorparietal\"\n",
      "[1] \"MODELLING:  CT_inferiorparietal ....................\"\n",
      "[1] \"Lifespan/Share/RefittedModels\"\n",
      "NewData inspected and any novel studies identified. Finding Maximum Likelihood estimates for random-effects. \n",
      "Computing novel random-effects for bootstrap replicates using 6 cores. This may take some time.\n",
      "Novel bootstrap estimaton complete.\n",
      "Novel study random-effects calculated.\n",
      "Computing bootstrap intervals using 6 cores. This may take some time.\n",
      "Bootstrap intervals complete\n",
      "[1] \"CT_inferiortemporal\"\n",
      "[1] \"MODELLING:  CT_inferiortemporal ....................\"\n",
      "[1] \"Lifespan/Share/RefittedModels\"\n",
      "NewData inspected and any novel studies identified. Finding Maximum Likelihood estimates for random-effects. \n",
      "Computing novel random-effects for bootstrap replicates using 6 cores. This may take some time.\n",
      "Novel bootstrap estimaton complete.\n",
      "Novel study random-effects calculated.\n",
      "Computing bootstrap intervals using 6 cores. This may take some time.\n",
      "Bootstrap intervals complete\n",
      "[1] \"CT_isthmuscingulate\"\n",
      "[1] \"MODELLING:  CT_isthmuscingulate ....................\"\n",
      "[1] \"Lifespan/Share/RefittedModels\"\n",
      "NewData inspected and any novel studies identified. Finding Maximum Likelihood estimates for random-effects. \n",
      "Computing novel random-effects for bootstrap replicates using 6 cores. This may take some time.\n",
      "Novel bootstrap estimaton complete.\n",
      "Novel study random-effects calculated.\n",
      "Computing bootstrap intervals using 6 cores. This may take some time.\n",
      "Bootstrap intervals complete\n",
      "[1] \"CT_lateraloccipital\"\n",
      "[1] \"MODELLING:  CT_lateraloccipital ....................\"\n",
      "[1] \"Lifespan/Share/RefittedModels\"\n",
      "NewData inspected and any novel studies identified. Finding Maximum Likelihood estimates for random-effects. \n",
      "Computing novel random-effects for bootstrap replicates using 6 cores. This may take some time.\n",
      "Novel bootstrap estimaton complete.\n",
      "Novel study random-effects calculated.\n",
      "Computing bootstrap intervals using 6 cores. This may take some time.\n",
      "Bootstrap intervals complete\n",
      "[1] \"CT_lateralorbitofrontal\"\n",
      "[1] \"MODELLING:  CT_lateralorbitofrontal ....................\"\n",
      "[1] \"Lifespan/Share/RefittedModels\"\n",
      "NewData inspected and any novel studies identified. Finding Maximum Likelihood estimates for random-effects. \n",
      "Computing novel random-effects for bootstrap replicates using 6 cores. This may take some time.\n",
      "Novel bootstrap estimaton complete.\n",
      "Novel study random-effects calculated.\n",
      "Computing bootstrap intervals using 6 cores. This may take some time.\n",
      "Bootstrap intervals complete\n",
      "[1] \"CT_lingual\"\n",
      "[1] \"MODELLING:  CT_lingual ....................\"\n",
      "[1] \"Lifespan/Share/RefittedModels\"\n",
      "NewData inspected and any novel studies identified. Finding Maximum Likelihood estimates for random-effects. \n",
      "Computing novel random-effects for bootstrap replicates using 6 cores. This may take some time.\n",
      "Novel bootstrap estimaton complete.\n",
      "Novel study random-effects calculated.\n",
      "Computing bootstrap intervals using 6 cores. This may take some time.\n",
      "Bootstrap intervals complete\n",
      "[1] \"CT_medialorbitofrontal\"\n",
      "[1] \"MODELLING:  CT_medialorbitofrontal ....................\"\n",
      "[1] \"Lifespan/Share/RefittedModels\"\n",
      "NewData inspected and any novel studies identified. Finding Maximum Likelihood estimates for random-effects. \n",
      "Computing novel random-effects for bootstrap replicates using 6 cores. This may take some time.\n",
      "Novel bootstrap estimaton complete.\n",
      "Novel study random-effects calculated.\n",
      "Computing bootstrap intervals using 6 cores. This may take some time.\n",
      "Bootstrap intervals complete\n",
      "[1] \"CT_middletemporal\"\n",
      "[1] \"MODELLING:  CT_middletemporal ....................\"\n",
      "[1] \"Lifespan/Share/RefittedModels\"\n",
      "NewData inspected and any novel studies identified. Finding Maximum Likelihood estimates for random-effects. \n",
      "Computing novel random-effects for bootstrap replicates using 6 cores. This may take some time.\n",
      "Novel bootstrap estimaton complete.\n",
      "Novel study random-effects calculated.\n",
      "Computing bootstrap intervals using 6 cores. This may take some time.\n",
      "Bootstrap intervals complete\n",
      "[1] \"CT_parahippocampal\"\n",
      "[1] \"MODELLING:  CT_parahippocampal ....................\"\n",
      "[1] \"Lifespan/Share/RefittedModels\"\n",
      "NewData inspected and any novel studies identified. Finding Maximum Likelihood estimates for random-effects. \n",
      "Computing novel random-effects for bootstrap replicates using 6 cores. This may take some time.\n",
      "Novel bootstrap estimaton complete.\n",
      "Novel study random-effects calculated.\n",
      "Computing bootstrap intervals using 6 cores. This may take some time.\n",
      "Bootstrap intervals complete\n",
      "[1] \"CT_paracentral\"\n",
      "[1] \"MODELLING:  CT_paracentral ....................\"\n",
      "[1] \"Lifespan/Share/RefittedModels\"\n",
      "NewData inspected and any novel studies identified. Finding Maximum Likelihood estimates for random-effects. \n",
      "Computing novel random-effects for bootstrap replicates using 6 cores. This may take some time.\n",
      "Novel bootstrap estimaton complete.\n",
      "Novel study random-effects calculated.\n",
      "Computing bootstrap intervals using 6 cores. This may take some time.\n",
      "Bootstrap intervals complete\n",
      "[1] \"CT_parsopercularis\"\n",
      "[1] \"MODELLING:  CT_parsopercularis ....................\"\n",
      "[1] \"Lifespan/Share/RefittedModels\"\n",
      "NewData inspected and any novel studies identified. Finding Maximum Likelihood estimates for random-effects. \n",
      "Computing novel random-effects for bootstrap replicates using 6 cores. This may take some time.\n",
      "Novel bootstrap estimaton complete.\n",
      "Novel study random-effects calculated.\n",
      "Computing bootstrap intervals using 6 cores. This may take some time.\n",
      "Bootstrap intervals complete\n",
      "[1] \"CT_parsorbitalis\"\n",
      "[1] \"MODELLING:  CT_parsorbitalis ....................\"\n",
      "[1] \"Lifespan/Share/RefittedModels\"\n",
      "NewData inspected and any novel studies identified. Finding Maximum Likelihood estimates for random-effects. \n",
      "Computing novel random-effects for bootstrap replicates using 6 cores. This may take some time.\n",
      "Novel bootstrap estimaton complete.\n",
      "Novel study random-effects calculated.\n",
      "Computing bootstrap intervals using 6 cores. This may take some time.\n",
      "Bootstrap intervals complete\n",
      "[1] \"CT_parstriangularis\"\n",
      "[1] \"MODELLING:  CT_parstriangularis ....................\"\n",
      "[1] \"Lifespan/Share/RefittedModels\"\n",
      "NewData inspected and any novel studies identified. Finding Maximum Likelihood estimates for random-effects. \n",
      "Computing novel random-effects for bootstrap replicates using 6 cores. This may take some time.\n",
      "Novel bootstrap estimaton complete.\n",
      "Novel study random-effects calculated.\n",
      "Computing bootstrap intervals using 6 cores. This may take some time.\n",
      "Bootstrap intervals complete\n",
      "[1] \"CT_pericalcarine\"\n",
      "[1] \"MODELLING:  CT_pericalcarine ....................\"\n",
      "[1] \"Lifespan/Share/RefittedModels\"\n",
      "NewData inspected and any novel studies identified. Finding Maximum Likelihood estimates for random-effects. \n",
      "Computing novel random-effects for bootstrap replicates using 6 cores. This may take some time.\n",
      "Novel bootstrap estimaton complete.\n",
      "Novel study random-effects calculated.\n",
      "Computing bootstrap intervals using 6 cores. This may take some time.\n",
      "Bootstrap intervals complete\n",
      "[1] \"CT_postcentral\"\n",
      "[1] \"MODELLING:  CT_postcentral ....................\"\n",
      "[1] \"Lifespan/Share/RefittedModels\"\n",
      "NewData inspected and any novel studies identified. Finding Maximum Likelihood estimates for random-effects. \n",
      "Computing novel random-effects for bootstrap replicates using 6 cores. This may take some time.\n",
      "Novel bootstrap estimaton complete.\n",
      "Novel study random-effects calculated.\n",
      "Computing bootstrap intervals using 6 cores. This may take some time.\n",
      "Bootstrap intervals complete\n",
      "[1] \"CT_posteriorcingulate\"\n",
      "[1] \"MODELLING:  CT_posteriorcingulate ....................\"\n",
      "[1] \"Lifespan/Share/RefittedModels\"\n",
      "NewData inspected and any novel studies identified. Finding Maximum Likelihood estimates for random-effects. \n",
      "Computing novel random-effects for bootstrap replicates using 6 cores. This may take some time.\n",
      "Novel bootstrap estimaton complete.\n",
      "Novel study random-effects calculated.\n",
      "Computing bootstrap intervals using 6 cores. This may take some time.\n",
      "Bootstrap intervals complete\n",
      "[1] \"CT_precentral\"\n",
      "[1] \"MODELLING:  CT_precentral ....................\"\n",
      "[1] \"Lifespan/Share/RefittedModels\"\n",
      "NewData inspected and any novel studies identified. Finding Maximum Likelihood estimates for random-effects. \n",
      "Computing novel random-effects for bootstrap replicates using 6 cores. This may take some time.\n",
      "Novel bootstrap estimaton complete.\n",
      "Novel study random-effects calculated.\n",
      "Computing bootstrap intervals using 6 cores. This may take some time.\n",
      "Bootstrap intervals complete\n",
      "[1] \"CT_precuneus\"\n",
      "[1] \"MODELLING:  CT_precuneus ....................\"\n",
      "[1] \"Lifespan/Share/RefittedModels\"\n",
      "NewData inspected and any novel studies identified. Finding Maximum Likelihood estimates for random-effects. \n",
      "Computing novel random-effects for bootstrap replicates using 6 cores. This may take some time.\n",
      "Novel bootstrap estimaton complete.\n",
      "Novel study random-effects calculated.\n",
      "Computing bootstrap intervals using 6 cores. This may take some time.\n"
     ]
    },
    {
     "name": "stderr",
     "output_type": "stream",
     "text": [
      "Python(63982) MallocStackLogging: can't turn off malloc stack logging because it was not enabled.\n",
      "Python(63983) MallocStackLogging: can't turn off malloc stack logging because it was not enabled.\n",
      "Python(63984) MallocStackLogging: can't turn off malloc stack logging because it was not enabled.\n",
      "Python(63985) MallocStackLogging: can't turn off malloc stack logging because it was not enabled.\n",
      "Python(63986) MallocStackLogging: can't turn off malloc stack logging because it was not enabled.\n",
      "Python(63987) MallocStackLogging: can't turn off malloc stack logging because it was not enabled.\n"
     ]
    },
    {
     "name": "stdout",
     "output_type": "stream",
     "text": [
      "Bootstrap intervals complete\n",
      "[1] \"CT_rostralanteriorcingulate\"\n",
      "[1] \"MODELLING:  CT_rostralanteriorcingulate ....................\"\n",
      "[1] \"Lifespan/Share/RefittedModels\"\n",
      "NewData inspected and any novel studies identified. Finding Maximum Likelihood estimates for random-effects. \n",
      "Computing novel random-effects for bootstrap replicates using 6 cores. This may take some time.\n"
     ]
    },
    {
     "name": "stderr",
     "output_type": "stream",
     "text": [
      "Python(64302) MallocStackLogging: can't turn off malloc stack logging because it was not enabled.\n",
      "Python(64303) MallocStackLogging: can't turn off malloc stack logging because it was not enabled.\n",
      "Python(64304) MallocStackLogging: can't turn off malloc stack logging because it was not enabled.\n",
      "Python(64305) MallocStackLogging: can't turn off malloc stack logging because it was not enabled.\n",
      "Python(64306) MallocStackLogging: can't turn off malloc stack logging because it was not enabled.\n",
      "Python(64307) MallocStackLogging: can't turn off malloc stack logging because it was not enabled.\n"
     ]
    },
    {
     "name": "stdout",
     "output_type": "stream",
     "text": [
      "Novel bootstrap estimaton complete.\n",
      "Novel study random-effects calculated.\n",
      "Computing bootstrap intervals using 6 cores. This may take some time.\n"
     ]
    },
    {
     "name": "stderr",
     "output_type": "stream",
     "text": [
      "Python(65744) MallocStackLogging: can't turn off malloc stack logging because it was not enabled.\n",
      "Python(65745) MallocStackLogging: can't turn off malloc stack logging because it was not enabled.\n",
      "Python(65746) MallocStackLogging: can't turn off malloc stack logging because it was not enabled.\n",
      "Python(65747) MallocStackLogging: can't turn off malloc stack logging because it was not enabled.\n",
      "Python(65748) MallocStackLogging: can't turn off malloc stack logging because it was not enabled.\n",
      "Python(65749) MallocStackLogging: can't turn off malloc stack logging because it was not enabled.\n"
     ]
    },
    {
     "name": "stdout",
     "output_type": "stream",
     "text": [
      "Bootstrap intervals complete\n",
      "[1] \"CT_rostralmiddlefrontal\"\n",
      "[1] \"MODELLING:  CT_rostralmiddlefrontal ....................\"\n",
      "[1] \"Lifespan/Share/RefittedModels\"\n",
      "NewData inspected and any novel studies identified. Finding Maximum Likelihood estimates for random-effects. \n",
      "Computing novel random-effects for bootstrap replicates using 6 cores. This may take some time.\n"
     ]
    },
    {
     "name": "stderr",
     "output_type": "stream",
     "text": [
      "Python(66050) MallocStackLogging: can't turn off malloc stack logging because it was not enabled.\n",
      "Python(66051) MallocStackLogging: can't turn off malloc stack logging because it was not enabled.\n",
      "Python(66052) MallocStackLogging: can't turn off malloc stack logging because it was not enabled.\n",
      "Python(66053) MallocStackLogging: can't turn off malloc stack logging because it was not enabled.\n",
      "Python(66054) MallocStackLogging: can't turn off malloc stack logging because it was not enabled.\n",
      "Python(66055) MallocStackLogging: can't turn off malloc stack logging because it was not enabled.\n"
     ]
    },
    {
     "name": "stdout",
     "output_type": "stream",
     "text": [
      "Novel bootstrap estimaton complete.\n",
      "Novel study random-effects calculated.\n",
      "Computing bootstrap intervals using 6 cores. This may take some time.\n"
     ]
    },
    {
     "name": "stderr",
     "output_type": "stream",
     "text": [
      "Python(66455) MallocStackLogging: can't turn off malloc stack logging because it was not enabled.\n",
      "Python(66456) MallocStackLogging: can't turn off malloc stack logging because it was not enabled.\n",
      "Python(66457) MallocStackLogging: can't turn off malloc stack logging because it was not enabled.\n",
      "Python(66458) MallocStackLogging: can't turn off malloc stack logging because it was not enabled.\n",
      "Python(66459) MallocStackLogging: can't turn off malloc stack logging because it was not enabled.\n",
      "Python(66460) MallocStackLogging: can't turn off malloc stack logging because it was not enabled.\n"
     ]
    },
    {
     "name": "stdout",
     "output_type": "stream",
     "text": [
      "Bootstrap intervals complete\n",
      "[1] \"CT_superiorfrontal\"\n",
      "[1] \"MODELLING:  CT_superiorfrontal ....................\"\n",
      "[1] \"Lifespan/Share/RefittedModels\"\n",
      "NewData inspected and any novel studies identified. Finding Maximum Likelihood estimates for random-effects. \n",
      "Computing novel random-effects for bootstrap replicates using 6 cores. This may take some time.\n"
     ]
    },
    {
     "name": "stderr",
     "output_type": "stream",
     "text": [
      "Python(66745) MallocStackLogging: can't turn off malloc stack logging because it was not enabled.\n",
      "Python(66746) MallocStackLogging: can't turn off malloc stack logging because it was not enabled.\n",
      "Python(66747) MallocStackLogging: can't turn off malloc stack logging because it was not enabled.\n",
      "Python(66748) MallocStackLogging: can't turn off malloc stack logging because it was not enabled.\n",
      "Python(66749) MallocStackLogging: can't turn off malloc stack logging because it was not enabled.\n",
      "Python(66750) MallocStackLogging: can't turn off malloc stack logging because it was not enabled.\n"
     ]
    },
    {
     "name": "stdout",
     "output_type": "stream",
     "text": [
      "Novel bootstrap estimaton complete.\n",
      "Novel study random-effects calculated.\n",
      "Computing bootstrap intervals using 6 cores. This may take some time.\n"
     ]
    },
    {
     "name": "stderr",
     "output_type": "stream",
     "text": [
      "Python(67296) MallocStackLogging: can't turn off malloc stack logging because it was not enabled.\n",
      "Python(67297) MallocStackLogging: can't turn off malloc stack logging because it was not enabled.\n",
      "Python(67298) MallocStackLogging: can't turn off malloc stack logging because it was not enabled.\n",
      "Python(67299) MallocStackLogging: can't turn off malloc stack logging because it was not enabled.\n",
      "Python(67300) MallocStackLogging: can't turn off malloc stack logging because it was not enabled.\n",
      "Python(67301) MallocStackLogging: can't turn off malloc stack logging because it was not enabled.\n"
     ]
    },
    {
     "name": "stdout",
     "output_type": "stream",
     "text": [
      "Bootstrap intervals complete\n",
      "[1] \"CT_superiorparietal\"\n",
      "[1] \"MODELLING:  CT_superiorparietal ....................\"\n",
      "[1] \"Lifespan/Share/RefittedModels\"\n",
      "NewData inspected and any novel studies identified. Finding Maximum Likelihood estimates for random-effects. \n",
      "Computing novel random-effects for bootstrap replicates using 6 cores. This may take some time.\n"
     ]
    },
    {
     "name": "stderr",
     "output_type": "stream",
     "text": [
      "Python(67593) MallocStackLogging: can't turn off malloc stack logging because it was not enabled.\n",
      "Python(67594) MallocStackLogging: can't turn off malloc stack logging because it was not enabled.\n",
      "Python(67595) MallocStackLogging: can't turn off malloc stack logging because it was not enabled.\n",
      "Python(67596) MallocStackLogging: can't turn off malloc stack logging because it was not enabled.\n",
      "Python(67597) MallocStackLogging: can't turn off malloc stack logging because it was not enabled.\n",
      "Python(67598) MallocStackLogging: can't turn off malloc stack logging because it was not enabled.\n"
     ]
    },
    {
     "name": "stdout",
     "output_type": "stream",
     "text": [
      "Novel bootstrap estimaton complete.\n",
      "Novel study random-effects calculated.\n",
      "Computing bootstrap intervals using 6 cores. This may take some time.\n"
     ]
    },
    {
     "name": "stderr",
     "output_type": "stream",
     "text": [
      "Python(68239) MallocStackLogging: can't turn off malloc stack logging because it was not enabled.\n",
      "Python(68240) MallocStackLogging: can't turn off malloc stack logging because it was not enabled.\n",
      "Python(68241) MallocStackLogging: can't turn off malloc stack logging because it was not enabled.\n",
      "Python(68242) MallocStackLogging: can't turn off malloc stack logging because it was not enabled.\n",
      "Python(68243) MallocStackLogging: can't turn off malloc stack logging because it was not enabled.\n",
      "Python(68244) MallocStackLogging: can't turn off malloc stack logging because it was not enabled.\n"
     ]
    },
    {
     "name": "stdout",
     "output_type": "stream",
     "text": [
      "Bootstrap intervals complete\n",
      "[1] \"CT_superiortemporal\"\n",
      "[1] \"MODELLING:  CT_superiortemporal ....................\"\n",
      "[1] \"Lifespan/Share/RefittedModels\"\n",
      "NewData inspected and any novel studies identified. Finding Maximum Likelihood estimates for random-effects. \n",
      "Computing novel random-effects for bootstrap replicates using 6 cores. This may take some time.\n"
     ]
    },
    {
     "name": "stderr",
     "output_type": "stream",
     "text": [
      "Python(68552) MallocStackLogging: can't turn off malloc stack logging because it was not enabled.\n",
      "Python(68553) MallocStackLogging: can't turn off malloc stack logging because it was not enabled.\n",
      "Python(68554) MallocStackLogging: can't turn off malloc stack logging because it was not enabled.\n",
      "Python(68555) MallocStackLogging: can't turn off malloc stack logging because it was not enabled.\n",
      "Python(68556) MallocStackLogging: can't turn off malloc stack logging because it was not enabled.\n",
      "Python(68557) MallocStackLogging: can't turn off malloc stack logging because it was not enabled.\n"
     ]
    },
    {
     "name": "stdout",
     "output_type": "stream",
     "text": [
      "Novel bootstrap estimaton complete.\n",
      "Novel study random-effects calculated.\n",
      "Computing bootstrap intervals using 6 cores. This may take some time.\n"
     ]
    },
    {
     "name": "stderr",
     "output_type": "stream",
     "text": [
      "Python(69352) MallocStackLogging: can't turn off malloc stack logging because it was not enabled.\n",
      "Python(69353) MallocStackLogging: can't turn off malloc stack logging because it was not enabled.\n",
      "Python(69354) MallocStackLogging: can't turn off malloc stack logging because it was not enabled.\n",
      "Python(69355) MallocStackLogging: can't turn off malloc stack logging because it was not enabled.\n",
      "Python(69356) MallocStackLogging: can't turn off malloc stack logging because it was not enabled.\n",
      "Python(69357) MallocStackLogging: can't turn off malloc stack logging because it was not enabled.\n"
     ]
    },
    {
     "name": "stdout",
     "output_type": "stream",
     "text": [
      "Bootstrap intervals complete\n",
      "[1] \"CT_supramarginal\"\n",
      "[1] \"MODELLING:  CT_supramarginal ....................\"\n",
      "[1] \"Lifespan/Share/RefittedModels\"\n",
      "NewData inspected and any novel studies identified. Finding Maximum Likelihood estimates for random-effects. \n",
      "Computing novel random-effects for bootstrap replicates using 6 cores. This may take some time.\n"
     ]
    },
    {
     "name": "stderr",
     "output_type": "stream",
     "text": [
      "Python(69659) MallocStackLogging: can't turn off malloc stack logging because it was not enabled.\n",
      "Python(69660) MallocStackLogging: can't turn off malloc stack logging because it was not enabled.\n",
      "Python(69661) MallocStackLogging: can't turn off malloc stack logging because it was not enabled.\n",
      "Python(69662) MallocStackLogging: can't turn off malloc stack logging because it was not enabled.\n",
      "Python(69663) MallocStackLogging: can't turn off malloc stack logging because it was not enabled.\n",
      "Python(69664) MallocStackLogging: can't turn off malloc stack logging because it was not enabled.\n"
     ]
    },
    {
     "name": "stdout",
     "output_type": "stream",
     "text": [
      "Novel bootstrap estimaton complete.\n",
      "Novel study random-effects calculated.\n",
      "Computing bootstrap intervals using 6 cores. This may take some time.\n"
     ]
    },
    {
     "name": "stderr",
     "output_type": "stream",
     "text": [
      "Python(70674) MallocStackLogging: can't turn off malloc stack logging because it was not enabled.\n",
      "Python(70675) MallocStackLogging: can't turn off malloc stack logging because it was not enabled.\n",
      "Python(70676) MallocStackLogging: can't turn off malloc stack logging because it was not enabled.\n",
      "Python(70677) MallocStackLogging: can't turn off malloc stack logging because it was not enabled.\n",
      "Python(70678) MallocStackLogging: can't turn off malloc stack logging because it was not enabled.\n",
      "Python(70679) MallocStackLogging: can't turn off malloc stack logging because it was not enabled.\n"
     ]
    },
    {
     "name": "stdout",
     "output_type": "stream",
     "text": [
      "Bootstrap intervals complete\n",
      "[1] \"CT_frontalpole\"\n",
      "[1] \"MODELLING:  CT_frontalpole ....................\"\n",
      "[1] \"Lifespan/Share/RefittedModels\"\n",
      "NewData inspected and any novel studies identified. Finding Maximum Likelihood estimates for random-effects. \n",
      "Computing novel random-effects for bootstrap replicates using 6 cores. This may take some time.\n"
     ]
    },
    {
     "name": "stderr",
     "output_type": "stream",
     "text": [
      "Python(70982) MallocStackLogging: can't turn off malloc stack logging because it was not enabled.\n",
      "Python(70983) MallocStackLogging: can't turn off malloc stack logging because it was not enabled.\n",
      "Python(70984) MallocStackLogging: can't turn off malloc stack logging because it was not enabled.\n",
      "Python(70985) MallocStackLogging: can't turn off malloc stack logging because it was not enabled.\n",
      "Python(70986) MallocStackLogging: can't turn off malloc stack logging because it was not enabled.\n",
      "Python(70987) MallocStackLogging: can't turn off malloc stack logging because it was not enabled.\n"
     ]
    },
    {
     "name": "stdout",
     "output_type": "stream",
     "text": [
      "Novel bootstrap estimaton complete.\n",
      "Novel study random-effects calculated.\n",
      "Computing bootstrap intervals using 6 cores. This may take some time.\n"
     ]
    },
    {
     "name": "stderr",
     "output_type": "stream",
     "text": [
      "Python(71659) MallocStackLogging: can't turn off malloc stack logging because it was not enabled.\n",
      "Python(71660) MallocStackLogging: can't turn off malloc stack logging because it was not enabled.\n",
      "Python(71661) MallocStackLogging: can't turn off malloc stack logging because it was not enabled.\n",
      "Python(71662) MallocStackLogging: can't turn off malloc stack logging because it was not enabled.\n",
      "Python(71663) MallocStackLogging: can't turn off malloc stack logging because it was not enabled.\n",
      "Python(71664) MallocStackLogging: can't turn off malloc stack logging because it was not enabled.\n"
     ]
    },
    {
     "name": "stdout",
     "output_type": "stream",
     "text": [
      "Bootstrap intervals complete\n",
      "[1] \"CT_temporalpole\"\n",
      "[1] \"MODELLING:  CT_temporalpole ....................\"\n",
      "[1] \"Lifespan/Share/RefittedModels\"\n",
      "NewData inspected and any novel studies identified. Finding Maximum Likelihood estimates for random-effects. \n",
      "Computing novel random-effects for bootstrap replicates using 6 cores. This may take some time.\n"
     ]
    },
    {
     "name": "stderr",
     "output_type": "stream",
     "text": [
      "Python(71958) MallocStackLogging: can't turn off malloc stack logging because it was not enabled.\n",
      "Python(71960) MallocStackLogging: can't turn off malloc stack logging because it was not enabled.\n",
      "Python(71961) MallocStackLogging: can't turn off malloc stack logging because it was not enabled.\n",
      "Python(71962) MallocStackLogging: can't turn off malloc stack logging because it was not enabled.\n",
      "Python(71963) MallocStackLogging: can't turn off malloc stack logging because it was not enabled.\n",
      "Python(71964) MallocStackLogging: can't turn off malloc stack logging because it was not enabled.\n"
     ]
    },
    {
     "name": "stdout",
     "output_type": "stream",
     "text": [
      "Novel bootstrap estimaton complete.\n",
      "Novel study random-effects calculated.\n",
      "Computing bootstrap intervals using 6 cores. This may take some time.\n"
     ]
    },
    {
     "name": "stderr",
     "output_type": "stream",
     "text": [
      "Python(72449) MallocStackLogging: can't turn off malloc stack logging because it was not enabled.\n",
      "Python(72450) MallocStackLogging: can't turn off malloc stack logging because it was not enabled.\n",
      "Python(72451) MallocStackLogging: can't turn off malloc stack logging because it was not enabled.\n",
      "Python(72452) MallocStackLogging: can't turn off malloc stack logging because it was not enabled.\n",
      "Python(72453) MallocStackLogging: can't turn off malloc stack logging because it was not enabled.\n",
      "Python(72454) MallocStackLogging: can't turn off malloc stack logging because it was not enabled.\n"
     ]
    },
    {
     "name": "stdout",
     "output_type": "stream",
     "text": [
      "Bootstrap intervals complete\n",
      "[1] \"CT_transversetemporal\"\n",
      "[1] \"MODELLING:  CT_transversetemporal ....................\"\n",
      "[1] \"Lifespan/Share/RefittedModels\"\n",
      "NewData inspected and any novel studies identified. Finding Maximum Likelihood estimates for random-effects. \n",
      "Computing novel random-effects for bootstrap replicates using 6 cores. This may take some time.\n"
     ]
    },
    {
     "name": "stderr",
     "output_type": "stream",
     "text": [
      "Python(72767) MallocStackLogging: can't turn off malloc stack logging because it was not enabled.\n",
      "Python(72768) MallocStackLogging: can't turn off malloc stack logging because it was not enabled.\n",
      "Python(72769) MallocStackLogging: can't turn off malloc stack logging because it was not enabled.\n",
      "Python(72770) MallocStackLogging: can't turn off malloc stack logging because it was not enabled.\n",
      "Python(72771) MallocStackLogging: can't turn off malloc stack logging because it was not enabled.\n",
      "Python(72772) MallocStackLogging: can't turn off malloc stack logging because it was not enabled.\n"
     ]
    },
    {
     "name": "stdout",
     "output_type": "stream",
     "text": [
      "Novel bootstrap estimaton complete.\n",
      "Novel study random-effects calculated.\n",
      "Computing bootstrap intervals using 6 cores. This may take some time.\n"
     ]
    },
    {
     "name": "stderr",
     "output_type": "stream",
     "text": [
      "Python(73747) MallocStackLogging: can't turn off malloc stack logging because it was not enabled.\n",
      "Python(73748) MallocStackLogging: can't turn off malloc stack logging because it was not enabled.\n",
      "Python(73749) MallocStackLogging: can't turn off malloc stack logging because it was not enabled.\n",
      "Python(73750) MallocStackLogging: can't turn off malloc stack logging because it was not enabled.\n",
      "Python(73751) MallocStackLogging: can't turn off malloc stack logging because it was not enabled.\n",
      "Python(73752) MallocStackLogging: can't turn off malloc stack logging because it was not enabled.\n"
     ]
    },
    {
     "name": "stdout",
     "output_type": "stream",
     "text": [
      "Bootstrap intervals complete\n",
      "[1] \"CT_insula\"\n",
      "[1] \"MODELLING:  CT_insula ....................\"\n",
      "[1] \"Lifespan/Share/RefittedModels\"\n",
      "NewData inspected and any novel studies identified. Finding Maximum Likelihood estimates for random-effects. \n",
      "Computing novel random-effects for bootstrap replicates using 6 cores. This may take some time.\n"
     ]
    },
    {
     "name": "stderr",
     "output_type": "stream",
     "text": [
      "Python(74094) MallocStackLogging: can't turn off malloc stack logging because it was not enabled.\n",
      "Python(74095) MallocStackLogging: can't turn off malloc stack logging because it was not enabled.\n",
      "Python(74096) MallocStackLogging: can't turn off malloc stack logging because it was not enabled.\n",
      "Python(74097) MallocStackLogging: can't turn off malloc stack logging because it was not enabled.\n",
      "Python(74098) MallocStackLogging: can't turn off malloc stack logging because it was not enabled.\n",
      "Python(74099) MallocStackLogging: can't turn off malloc stack logging because it was not enabled.\n"
     ]
    },
    {
     "name": "stdout",
     "output_type": "stream",
     "text": [
      "Novel bootstrap estimaton complete.\n",
      "Novel study random-effects calculated.\n",
      "Computing bootstrap intervals using 6 cores. This may take some time.\n"
     ]
    },
    {
     "name": "stderr",
     "output_type": "stream",
     "text": [
      "Python(75073) MallocStackLogging: can't turn off malloc stack logging because it was not enabled.\n",
      "Python(75074) MallocStackLogging: can't turn off malloc stack logging because it was not enabled.\n",
      "Python(75075) MallocStackLogging: can't turn off malloc stack logging because it was not enabled.\n",
      "Python(75076) MallocStackLogging: can't turn off malloc stack logging because it was not enabled.\n",
      "Python(75077) MallocStackLogging: can't turn off malloc stack logging because it was not enabled.\n",
      "Python(75078) MallocStackLogging: can't turn off malloc stack logging because it was not enabled.\n"
     ]
    },
    {
     "name": "stdout",
     "output_type": "stream",
     "text": [
      "Bootstrap intervals complete\n",
      "[1] \"WMV\"\n",
      "[1] \"MODELLING:  WMV ....................\"\n",
      "[1] \"Lifespan/Share/RefittedModels\"\n",
      "NewData inspected and any novel studies identified. Finding Maximum Likelihood estimates for random-effects. \n",
      "Computing novel random-effects for bootstrap replicates using 6 cores. This may take some time.\n"
     ]
    },
    {
     "name": "stderr",
     "output_type": "stream",
     "text": [
      "Python(75375) MallocStackLogging: can't turn off malloc stack logging because it was not enabled.\n",
      "Python(75376) MallocStackLogging: can't turn off malloc stack logging because it was not enabled.\n",
      "Python(75377) MallocStackLogging: can't turn off malloc stack logging because it was not enabled.\n",
      "Python(75378) MallocStackLogging: can't turn off malloc stack logging because it was not enabled.\n",
      "Python(75379) MallocStackLogging: can't turn off malloc stack logging because it was not enabled.\n",
      "Python(75380) MallocStackLogging: can't turn off malloc stack logging because it was not enabled.\n"
     ]
    },
    {
     "name": "stdout",
     "output_type": "stream",
     "text": [
      "Novel bootstrap estimaton complete.\n",
      "Novel study random-effects calculated.\n",
      "Computing bootstrap intervals using 6 cores. This may take some time.\n"
     ]
    },
    {
     "name": "stderr",
     "output_type": "stream",
     "text": [
      "Python(76046) MallocStackLogging: can't turn off malloc stack logging because it was not enabled.\n",
      "Python(76047) MallocStackLogging: can't turn off malloc stack logging because it was not enabled.\n",
      "Python(76048) MallocStackLogging: can't turn off malloc stack logging because it was not enabled.\n",
      "Python(76049) MallocStackLogging: can't turn off malloc stack logging because it was not enabled.\n",
      "Python(76050) MallocStackLogging: can't turn off malloc stack logging because it was not enabled.\n",
      "Python(76051) MallocStackLogging: can't turn off malloc stack logging because it was not enabled.\n"
     ]
    },
    {
     "name": "stdout",
     "output_type": "stream",
     "text": [
      "Bootstrap intervals complete\n",
      "[1] \"GMV\"\n",
      "[1] \"MODELLING:  GMV ....................\"\n",
      "[1] \"Lifespan/Share/RefittedModels\"\n",
      "NewData inspected and any novel studies identified. Finding Maximum Likelihood estimates for random-effects. \n",
      "Computing novel random-effects for bootstrap replicates using 6 cores. This may take some time.\n"
     ]
    },
    {
     "name": "stderr",
     "output_type": "stream",
     "text": [
      "Python(76346) MallocStackLogging: can't turn off malloc stack logging because it was not enabled.\n",
      "Python(76347) MallocStackLogging: can't turn off malloc stack logging because it was not enabled.\n",
      "Python(76348) MallocStackLogging: can't turn off malloc stack logging because it was not enabled.\n",
      "Python(76349) MallocStackLogging: can't turn off malloc stack logging because it was not enabled.\n",
      "Python(76350) MallocStackLogging: can't turn off malloc stack logging because it was not enabled.\n",
      "Python(76351) MallocStackLogging: can't turn off malloc stack logging because it was not enabled.\n"
     ]
    },
    {
     "name": "stdout",
     "output_type": "stream",
     "text": [
      "Novel bootstrap estimaton complete.\n",
      "Novel study random-effects calculated.\n",
      "Computing bootstrap intervals using 6 cores. This may take some time.\n"
     ]
    },
    {
     "name": "stderr",
     "output_type": "stream",
     "text": [
      "Python(76867) MallocStackLogging: can't turn off malloc stack logging because it was not enabled.\n",
      "Python(76868) MallocStackLogging: can't turn off malloc stack logging because it was not enabled.\n",
      "Python(76869) MallocStackLogging: can't turn off malloc stack logging because it was not enabled.\n",
      "Python(76870) MallocStackLogging: can't turn off malloc stack logging because it was not enabled.\n",
      "Python(76871) MallocStackLogging: can't turn off malloc stack logging because it was not enabled.\n",
      "Python(76872) MallocStackLogging: can't turn off malloc stack logging because it was not enabled.\n"
     ]
    },
    {
     "name": "stdout",
     "output_type": "stream",
     "text": [
      "Bootstrap intervals complete\n",
      "[1] \"sGMV\"\n",
      "[1] \"MODELLING:  sGMV ....................\"\n",
      "[1] \"Lifespan/Share/RefittedModels\"\n",
      "NewData inspected and any novel studies identified. Finding Maximum Likelihood estimates for random-effects. \n",
      "Computing novel random-effects for bootstrap replicates using 6 cores. This may take some time.\n"
     ]
    },
    {
     "name": "stderr",
     "output_type": "stream",
     "text": [
      "Python(77132) MallocStackLogging: can't turn off malloc stack logging because it was not enabled.\n",
      "Python(77133) MallocStackLogging: can't turn off malloc stack logging because it was not enabled.\n",
      "Python(77134) MallocStackLogging: can't turn off malloc stack logging because it was not enabled.\n",
      "Python(77135) MallocStackLogging: can't turn off malloc stack logging because it was not enabled.\n",
      "Python(77136) MallocStackLogging: can't turn off malloc stack logging because it was not enabled.\n",
      "Python(77137) MallocStackLogging: can't turn off malloc stack logging because it was not enabled.\n"
     ]
    },
    {
     "name": "stdout",
     "output_type": "stream",
     "text": [
      "Novel bootstrap estimaton complete.\n",
      "Novel study random-effects calculated.\n",
      "Computing bootstrap intervals using 6 cores. This may take some time.\n"
     ]
    },
    {
     "name": "stderr",
     "output_type": "stream",
     "text": [
      "Python(77646) MallocStackLogging: can't turn off malloc stack logging because it was not enabled.\n",
      "Python(77647) MallocStackLogging: can't turn off malloc stack logging because it was not enabled.\n",
      "Python(77648) MallocStackLogging: can't turn off malloc stack logging because it was not enabled.\n",
      "Python(77649) MallocStackLogging: can't turn off malloc stack logging because it was not enabled.\n",
      "Python(77650) MallocStackLogging: can't turn off malloc stack logging because it was not enabled.\n",
      "Python(77651) MallocStackLogging: can't turn off malloc stack logging because it was not enabled.\n"
     ]
    },
    {
     "name": "stdout",
     "output_type": "stream",
     "text": [
      "Bootstrap intervals complete\n",
      "[1] \"meanCT2\"\n",
      "[1] \"MODELLING:  meanCT2 ....................\"\n",
      "[1] \"Lifespan/Share/RefittedModels\"\n",
      "NewData inspected and any novel studies identified. Finding Maximum Likelihood estimates for random-effects. \n",
      "Computing novel random-effects for bootstrap replicates using 6 cores. This may take some time.\n"
     ]
    },
    {
     "name": "stderr",
     "output_type": "stream",
     "text": [
      "Python(77934) MallocStackLogging: can't turn off malloc stack logging because it was not enabled.\n",
      "Python(77935) MallocStackLogging: can't turn off malloc stack logging because it was not enabled.\n",
      "Python(77936) MallocStackLogging: can't turn off malloc stack logging because it was not enabled.\n",
      "Python(77937) MallocStackLogging: can't turn off malloc stack logging because it was not enabled.\n",
      "Python(77938) MallocStackLogging: can't turn off malloc stack logging because it was not enabled.\n",
      "Python(77939) MallocStackLogging: can't turn off malloc stack logging because it was not enabled.\n"
     ]
    },
    {
     "name": "stdout",
     "output_type": "stream",
     "text": [
      "Novel bootstrap estimaton complete.\n",
      "Novel study random-effects calculated.\n",
      "Computing bootstrap intervals using 6 cores. This may take some time.\n"
     ]
    },
    {
     "name": "stderr",
     "output_type": "stream",
     "text": [
      "Python(78713) MallocStackLogging: can't turn off malloc stack logging because it was not enabled.\n",
      "Python(78714) MallocStackLogging: can't turn off malloc stack logging because it was not enabled.\n",
      "Python(78715) MallocStackLogging: can't turn off malloc stack logging because it was not enabled.\n",
      "Python(78716) MallocStackLogging: can't turn off malloc stack logging because it was not enabled.\n",
      "Python(78717) MallocStackLogging: can't turn off malloc stack logging because it was not enabled.\n",
      "Python(78718) MallocStackLogging: can't turn off malloc stack logging because it was not enabled.\n"
     ]
    },
    {
     "name": "stdout",
     "output_type": "stream",
     "text": [
      "Bootstrap intervals complete\n"
     ]
    },
    {
     "data": {
      "text/plain": [
       "Zusätzlich: Es gab 20 Warnungen (Anzeige mit warnings())\n"
      ]
     },
     "metadata": {},
     "output_type": "display_data"
    }
   ],
   "source": [
    "%%R -i data -i rois -i out_dir -i braincharts_sw_dir -i cpu_num -i refit_models\n",
    "\n",
    "# load required functions\n",
    "source(file.path(braincharts_sw_dir, '920.calc-novel-wo-subset-function.r'))\n",
    "source('code/braincharts_helpers.R')\n",
    "\n",
    "if (refit_models == TRUE) {\n",
    "    # only if refitting is necessary\n",
    "    \n",
    "    for (roi in rois) { \n",
    "        # adapt the pretrained model for each ROI for the current dataset and calculate deviation scores for each subject in dataset\n",
    "        if (roi == 'SA_entorhinal') {\n",
    "            # skip SA entorhinal as BrainChart estimation failed due to low data consistency\n",
    "            next\n",
    "        }\n",
    "        print(roi)\n",
    "        result <- fit_braincharts_model(roi, data, braincharts_sw_dir, out_dir, plotting=FALSE, ncores=cpu_num)\n",
    "    } \n",
    "\n",
    "} else {\n",
    "    # Check if the directory exists\n",
    "    if (!file.exists(out_dir)) {\n",
    "        warning('Models not yet adapted, please set refit_models to TRUE.')\n",
    "    } else {\n",
    "        message('Models already adapted, skipping refitting.')\n",
    "    }\n",
    "}"
   ]
  },
  {
   "cell_type": "markdown",
   "metadata": {},
   "source": [
    "## Plot BrainChart trajectories\n",
    "As an example region, we will plot the growth trajectory of the insula based on adapted braincharts models. Code from the BrainChart project can be obtained from here: https://github.com/brainchart/Lifespan"
   ]
  },
  {
   "cell_type": "code",
   "execution_count": 37,
   "metadata": {},
   "outputs": [],
   "source": [
    "roi = f'{brain_measure}_insula'\n",
    "best_analysis_dir = out_dir\n",
    "\n",
    "# save current dir for later use\n",
    "cwd = os.getcwd()"
   ]
  },
  {
   "cell_type": "code",
   "execution_count": 38,
   "metadata": {},
   "outputs": [
    {
     "name": "stdout",
     "output_type": "stream",
     "text": [
      "[1] \"PLOTTING CT_insula .........\"\n"
     ]
    },
    {
     "data": {
      "text/plain": [
       "Zusätzlich: Warnmeldungen:\n",
       "1: In eval(ei, envir) :\n",
       "  Have set a fixed random seed, all runs will be identical unless this is changed (may be good or bad, depending on what you want)\n",
       "2: In model.matrix.default(Model.Formula, Model.Frame, contrasts.arg = FITParam$contrasts,  :\n",
       "  Variable 'fs_version' fehlt, ihre Kontraste werden ignoriert\n",
       "3: Use of `term_data_best[[r]]` is discouraged.\n",
       "ℹ Use `.data[[r]]` instead. \n",
       "4: Use of `preterm_data_best[[r]]` is discouraged.\n",
       "ℹ Use `.data[[r]]` instead. \n",
       "5: Use of `term_data_best[[r]]` is discouraged.\n",
       "ℹ Use `.data[[r]]` instead. \n",
       "6: Use of `preterm_data_best[[r]]` is discouraged.\n",
       "ℹ Use `.data[[r]]` instead. \n"
      ]
     },
     "metadata": {},
     "output_type": "display_data"
    }
   ],
   "source": [
    "%%R -i braincharts_sw_dir -i out_dir -i cwd -i roi -i best_analysis_dir -i refit_models\n",
    "\n",
    "if (refit_models == TRUE) {\n",
    "    library(ggplot2)\n",
    "    setwd(braincharts_sw_dir)\n",
    "    source('100.common-variables.r')\n",
    "    source('101.common-functions.r')\n",
    "    source('300.variables.r')\n",
    "    source('301.functions.r')\n",
    "    setwd(cwd)\n",
    "    source('code/braincharts_helpers.R')\n",
    "\n",
    "    plot_pop_curves(roi, braincharts_sw_dir, out_dir, best_analysis_dir)\n",
    "} "
   ]
  },
  {
   "cell_type": "markdown",
   "metadata": {},
   "source": [
    "Plot the corresponding DK region"
   ]
  },
  {
   "cell_type": "code",
   "execution_count": 39,
   "metadata": {},
   "outputs": [
    {
     "name": "stdout",
     "output_type": "stream",
     "text": [
      "Plotted brain map and saved it to outputs/spatial_heterogeneity/ABCD-10/braincharts_model_adapted_CT/CT_insula_DK_region.svg\n"
     ]
    }
   ],
   "source": [
    "# mark the relevant rois as 1, the rest is 0\n",
    "marked_roi = pd.DataFrame(rois_cortical)\n",
    "marked_roi['filter'] = (marked_roi[0] == roi).astype(int)\n",
    "roi1 = marked_roi['filter'].to_numpy().squeeze()\n",
    "\n",
    "# duplicate for visualization\n",
    "roi1 = np.tile(roi1,(1,2)).squeeze()\n",
    "\n",
    "# plot\n",
    "outname = os.path.join(out_dir, f'{roi}_DK_region.svg')\n",
    "plot_brain_map(roi1, outname, cmap='Greys', limits=(0,1), scale=scale, fill=0)"
   ]
  },
  {
   "cell_type": "markdown",
   "metadata": {},
   "source": [
    "## Summarize results\n",
    "Deviation scores per subject and number of infra- and supranormal regions per subject"
   ]
  },
  {
   "cell_type": "code",
   "execution_count": 40,
   "metadata": {},
   "outputs": [
    {
     "name": "stdout",
     "output_type": "stream",
     "text": [
      "Data shape: (11906, 62)\n"
     ]
    }
   ],
   "source": [
    "# clean up not neeced variables to make program run faster\n",
    "gc.collect()\n",
    "\n",
    "# summarize deviation scores per subject\n",
    "cent_df = get_centile_scores_per_subject(out_dir, rois, base_file=f'result_deviation_{brain_measure}_bankssts.csv')\n",
    "cent_df = cent_df.merge(data.drop(columns=rois), on=['participant', 'session'])\n",
    "\n",
    "# calculate the amount of cortical infra- and supranormal deviation per subject\n",
    "cent_scores = cent_df.copy()\n",
    "cent_scores.set_index(['participant', 'session'], inplace=True)\n",
    "cent_scores = cent_scores.filter(regex=f'centile_{brain_measure}')  # filter only for brain_measure\n",
    "\n",
    "cent_scores = get_amount_infra_supra(cent_scores)\n",
    "\n",
    "# merge with cent_df\n",
    "cent_df = pd.merge(cent_df, cent_scores[['participant','session','amount_infranormal', 'amount_supranormal']], on=['participant', 'session'])\n",
    "\n",
    "# display results for random participants as example\n",
    "cent_df[['dx', f'centile_{brain_measure}_middletemporal', 'amount_infranormal', 'amount_supranormal']].iloc[50:55,:].head()\n",
    "\n",
    "# save\n",
    "print('Data shape:', cent_df.shape)\n",
    "cent_df.to_csv(join(out_dir_analysis, f'{dataset}_{brain_measure}_centiles_per_subject.csv'), index=False)"
   ]
  },
  {
   "cell_type": "markdown",
   "metadata": {},
   "source": [
    "## Plot some example subject's deviation scores for each ROI"
   ]
  },
  {
   "cell_type": "code",
   "execution_count": 41,
   "metadata": {},
   "outputs": [],
   "source": [
    "# plot example subjects for BLS-26\n",
    "if dataset == 'BLS-26':\n",
    "    cent_df_pt = cent_df[cent_df['dx']=='preterm']\n",
    "    cent_df_ft = cent_df[cent_df['dx']=='CN']\n",
    "    cent_df_pt_ctx = cent_df_pt.filter(regex=f'centile_{brain_measure}|participant')\n",
    "\n",
    "    subjects = ['BEST-MUC-103', 'BEST-MUC-108', 'BEST-MUC-148',\n",
    "                'BEST-BN-069', 'BEST-MUC-041', 'BEST-MUC-069']\n",
    "\n",
    "    for subject in subjects:\n",
    "        plot_individual_brain_maps(cent_df_pt_ctx, subject, outdir=out_dir_analysis, scale=scale, cmap='RdBu_r', \n",
    "                                    limits=(0, 1), infra_supra=True, brain_measure=brain_measure)"
   ]
  },
  {
   "cell_type": "markdown",
   "metadata": {},
   "source": [
    "## Subjects with at least one extranormal deviation"
   ]
  },
  {
   "cell_type": "markdown",
   "metadata": {},
   "source": [
    "# 3. Percentage of subjects with extranormal deviations\n",
    "Calculate the percentage of subjects with infra- or supranormal deviations for each modality and dataset. For ABCD, BrainChart random study effect were calculated based on longitudinal data. The following results, however, are presented separately for each timepoint. Therefore, the dataset is split again here."
   ]
  },
  {
   "cell_type": "code",
   "execution_count": 42,
   "metadata": {},
   "outputs": [],
   "source": [
    "# separate groups\n",
    "if dataset_name == 'ABCD':\n",
    "    # split the dataset into the 2 timepoints again here to report results separately\n",
    "    cent_df = cent_df[cent_df['session'] == abcd_session].copy()\n",
    "    ft_scores_df = cent_df[cent_df['dx']=='CN']\n",
    "    pt_scores_df = cent_df[cent_df['dx']=='preterm']\n",
    "else: \n",
    "    ft_scores_df = cent_df[cent_df['dx']=='CN']\n",
    "    pt_scores_df = cent_df[cent_df['dx']=='preterm']"
   ]
  },
  {
   "cell_type": "code",
   "execution_count": 43,
   "metadata": {},
   "outputs": [
    {
     "name": "stdout",
     "output_type": "stream",
     "text": [
      "Full-term subjects with at least one extranormality: 86%\n",
      "Preterm subjects with at least one extranormality: 91%\n"
     ]
    }
   ],
   "source": [
    "# subjects with at least one extranormal deviation\n",
    "percent_ft_extranormal = percent_extranormal(ft_scores_df)\n",
    "print(f'Full-term subjects with at least one extranormality: {percent_ft_extranormal:.0f}%')\n",
    "\n",
    "percent_pt_extranormal = percent_extranormal(pt_scores_df)\n",
    "print(f'Preterm subjects with at least one extranormality: {percent_pt_extranormal:.0f}%')"
   ]
  },
  {
   "cell_type": "code",
   "execution_count": 44,
   "metadata": {},
   "outputs": [
    {
     "name": "stdout",
     "output_type": "stream",
     "text": [
      "Showing extranormal deviations for dataset: ABCD-10\n"
     ]
    },
    {
     "data": {
      "image/png": "[encoded data removed]",
      "text/plain": [
       "<Figure size 300x1200 with 1 Axes>"
      ]
     },
     "metadata": {},
     "output_type": "display_data"
    }
   ],
   "source": [
    "# adjust yticklabels\n",
    "if brain_measure == 'CT':\n",
    "    brain_measure_name = 'CTh'\n",
    "elif brain_measure == 'SA':\n",
    "    brain_measure_name = 'SA'\n",
    "\n",
    "# calculate the percentage of subjects with extranormal deviation per ROI\n",
    "print('Showing extranormal deviations for dataset:', dataset)\n",
    "rois_cortical_cent = ['centile_' + roi for roi in rois_cortical]\n",
    "infra_supra_all = calc_infra_supra_percentage(rois_cortical_cent, ft_scores_df, pt_scores_df)\n",
    "\n",
    "\n",
    "\n",
    "# plot Fig 1d\n",
    "fsize=8\n",
    "plt.close('all')\n",
    "\n",
    "ax = infra_supra_all.plot(x='rois', y=['infranormal_ft', 'supranormal_ft', 'infranormal_pt', 'supranormal_pt'], \n",
    "                            kind=\"barh\", rot=0, figsize=(3,12),fontsize=fsize,\n",
    "                            color=['dimgray','lightgray', 'mediumblue', 'red'],\n",
    "                            legend=True, width=0.75)\n",
    "ax.legend(['Infranormal FT', 'Supranormal FT', 'Infranormal PT', 'Supranormal PT'], fontsize=fsize+1)\n",
    "\n",
    "ax.invert_yaxis()  # labels read top-to-bottom\n",
    "ax.set_xlabel('Subjects with extranormal deviation [%]', fontsize=fsize)\n",
    "ax.set_ylabel('')\n",
    "rois_cortical_names = [brain_measure_name + ' ' + roi.split('_')[1] for roi in rois_cortical]\n",
    "ax.set_yticklabels(rois_cortical_names)\n",
    "\n",
    "# set the x-axis limit\n",
    "xlim = np.round(infra_supra_all[['infranormal_ft','supranormal_ft','infranormal_pt','supranormal_pt']].max().max()*1.1)\n",
    "plt.xlim(0, xlim)\n",
    "\n",
    "sns.despine()\n",
    "\n",
    "plt.savefig(join(out_dir_analysis, f'{dataset}_{brain_measure}_individual_percentage_outside_norm.svg'), \n",
    "            bbox_inches=\"tight\", dpi=300, format='svg')\n",
    "plt.show()\n"
   ]
  },
  {
   "cell_type": "code",
   "execution_count": 45,
   "metadata": {},
   "outputs": [
    {
     "data": {
      "image/png": "[encoded data removed]",
      "text/plain": [
       "<Figure size 300x141.176 with 1 Axes>"
      ]
     },
     "metadata": {},
     "output_type": "display_data"
    }
   ],
   "source": [
    "# global measures\n",
    "rois_global = ['centile_GMV', 'centile_sGMV', 'centile_WMV']\n",
    "infra_supra_global = calc_infra_supra_percentage(rois_global, ft_scores_df, pt_scores_df)\n",
    "fsize=8\n",
    "plt.close('all')\n",
    "\n",
    "ax = infra_supra_global.plot(x='rois', y=['infranormal_ft','supranormal_ft','infranormal_pt','supranormal_pt'], \n",
    "                            kind=\"barh\", rot=0,figsize=(3,12/34*4),fontsize=fsize,\n",
    "                            color=['dimgray','lightgray', 'mediumblue', 'red'],\n",
    "                            legend=False)\n",
    "\n",
    "ax.invert_yaxis()  # labels read top-to-bottom\n",
    "ax.set_xlabel('Subjects with extranormal deviation [%]',fontsize=fsize)\n",
    "ax.set_ylabel('')\n",
    "rois_cortical_names = [roi.split('_')[1] for roi in rois_global]\n",
    "ax.set_yticklabels(rois_cortical_names)\n",
    "\n",
    "# set the x-axis limit\n",
    "xlim = np.round(infra_supra_global[['infranormal_ft','supranormal_ft','infranormal_pt','supranormal_pt']].max().max()*1.1)\n",
    "plt.xlim(0, xlim)\n",
    "\n",
    "sns.despine()\n",
    "\n",
    "plt.savefig(join(out_dir_analysis, f'{dataset}_individual_percentage_outside_norm_global.svg'), \n",
    "            bbox_inches=\"tight\", dpi=300, format='svg')\n",
    "plt.show()"
   ]
  },
  {
   "cell_type": "markdown",
   "metadata": {},
   "source": [
    "# 4. Compare spatial similarity of IBAPs among preterm individuals \n"
   ]
  },
  {
   "cell_type": "code",
   "execution_count": 46,
   "metadata": {},
   "outputs": [],
   "source": [
    "out_dir = join(out_dir_main, f'IBAP_similarity_{brain_measure}')\n",
    "os.makedirs(out_dir, exist_ok=True)"
   ]
  },
  {
   "cell_type": "code",
   "execution_count": 47,
   "metadata": {},
   "outputs": [
    {
     "data": {
      "image/png": "[encoded data removed]",
      "text/plain": [
       "<Figure size 250x400 with 1 Axes>"
      ]
     },
     "metadata": {},
     "output_type": "display_data"
    }
   ],
   "source": [
    "# binarize extranormal deviations of preterm subjects (Fig. 1e)\n",
    "plt.close('all')\n",
    "cent_df_pt = cent_df[cent_df['dx']=='preterm']\n",
    "dev_scores_stripped_pt = cent_df_pt.filter(regex=f'centile_{brain_measure}')\n",
    "dev_scores_stripped_pt_bin = binarize_extranormal(dev_scores_stripped_pt)\n",
    "\n",
    "# plot binarized values per subject\n",
    "outname = join(out_dir, f'bin_{brain_measure}_deviations_pt.svg')\n",
    "plot_binarized_extranormal(dev_scores_stripped_pt_bin, title='', outname=outname)"
   ]
  },
  {
   "cell_type": "code",
   "execution_count": 48,
   "metadata": {},
   "outputs": [
    {
     "data": {
      "image/png": "[encoded data removed]",
      "text/plain": [
       "<Figure size 500x200 with 1 Axes>"
      ]
     },
     "metadata": {},
     "output_type": "display_data"
    }
   ],
   "source": [
    "# subject x subject correlation matrix (Fig. 1f+g)\n",
    "corr_matrix_pt_subjects_01 = dev_scores_stripped_pt_bin.T.corr(method='spearman')\n",
    "\n",
    "if dataset == 'BLS-26' and brain_measure == 'CT':\n",
    "    # plot extended version for Fig.2f+g\n",
    "    outname = join(out_dir, f'corrmatrix_bin_{brain_measure}_deviations.svg')\n",
    "    plot_correlation_matrix_kde(corr_matrix_pt_subjects_01, outname)\n",
    "    \n",
    "else:\n",
    "    # plot simplified version for all others\n",
    "    outname = join(out_dir, f'corrmatrix_bin_{brain_measure}_deviations.svg')\n",
    "    title = 'Mean Spearman rho per preterm subject'\n",
    "    plot_mean_rho(corr_matrix_pt_subjects_01, title, outname)"
   ]
  }
 ],
 "metadata": {
  "kernelspec": {
   "display_name": ".venv",
   "language": "python",
   "name": "python3"
  },
  "language_info": {
   "codemirror_mode": {
    "name": "ipython",
    "version": 3
   },
   "file_extension": ".py",
   "mimetype": "text/x-python",
   "name": "python",
   "nbconvert_exporter": "python",
   "pygments_lexer": "ipython3",
   "version": "3.11.9"
  }
 },
 "nbformat": 4,
 "nbformat_minor": 2
}
